{
  "nbformat": 4,
  "nbformat_minor": 0,
  "metadata": {
    "colab": {
      "name": "Build a Recommendation System for Purchase Data",
      "provenance": [],
      "collapsed_sections": []
    },
    "kernelspec": {
      "name": "python3",
      "display_name": "Python 3"
    }
  },
  "cells": [
    {
      "cell_type": "markdown",
      "metadata": {
        "id": "FA5-ulY5Ijox",
        "colab_type": "text"
      },
      "source": [
        "https://github.com/moorissa/medium/blob/master/items-recommender/notebooks/recommendation-MT.ipynb"
      ]
    },
    {
      "cell_type": "code",
      "metadata": {
        "id": "gROalCFtB5UR",
        "colab_type": "code",
        "outputId": "82ae412f-c406-4d1d-f3ac-f894b465e7f0",
        "colab": {
          "base_uri": "https://localhost:8080/",
          "height": 1000
        }
      },
      "source": [
        "!pip install turicreate"
      ],
      "execution_count": 0,
      "outputs": [
        {
          "output_type": "stream",
          "text": [
            "Collecting turicreate\n",
            "\u001b[?25l  Downloading https://files.pythonhosted.org/packages/4a/7b/97b192ace93d4230bb992aacae19df8165dd00ca48f99c8c2b9947845c60/turicreate-6.2-cp36-cp36m-manylinux1_x86_64.whl (91.8MB)\n",
            "\u001b[K     |████████████████████████████████| 91.8MB 64kB/s \n",
            "\u001b[?25hCollecting tensorflow<=2.0.1,>=2.0.0\n",
            "\u001b[?25l  Downloading https://files.pythonhosted.org/packages/43/16/b07e3f7a4a024b47918f7018967eb984b0c542458a6141d8c48515aa81d4/tensorflow-2.0.1-cp36-cp36m-manylinux2010_x86_64.whl (86.3MB)\n",
            "\u001b[K     |████████████████████████████████| 86.3MB 50kB/s \n",
            "\u001b[?25hRequirement already satisfied: prettytable==0.7.2 in /usr/local/lib/python3.6/dist-packages (from turicreate) (0.7.2)\n",
            "Collecting resampy==0.2.1\n",
            "\u001b[?25l  Downloading https://files.pythonhosted.org/packages/14/b6/66a06d85474190b50aee1a6c09cdc95bb405ac47338b27e9b21409da1760/resampy-0.2.1.tar.gz (322kB)\n",
            "\u001b[K     |████████████████████████████████| 327kB 48.1MB/s \n",
            "\u001b[?25hRequirement already satisfied: pillow>=5.2.0 in /usr/local/lib/python3.6/dist-packages (from turicreate) (7.0.0)\n",
            "Collecting coremltools==3.3\n",
            "\u001b[?25l  Downloading https://files.pythonhosted.org/packages/77/19/611916d1ef326d38857d93af5ba184f6ad7491642e0fa4f9082e7d82f034/coremltools-3.3-cp36-none-manylinux1_x86_64.whl (3.4MB)\n",
            "\u001b[K     |████████████████████████████████| 3.4MB 45.9MB/s \n",
            "\u001b[?25hRequirement already satisfied: six>=1.10.0 in /usr/local/lib/python3.6/dist-packages (from turicreate) (1.12.0)\n",
            "Requirement already satisfied: decorator>=4.0.9 in /usr/local/lib/python3.6/dist-packages (from turicreate) (4.4.2)\n",
            "Requirement already satisfied: scipy>=1.1.0 in /usr/local/lib/python3.6/dist-packages (from turicreate) (1.4.1)\n",
            "Requirement already satisfied: pandas>=0.23.2 in /usr/local/lib/python3.6/dist-packages (from turicreate) (1.0.3)\n",
            "Requirement already satisfied: requests>=2.9.1 in /usr/local/lib/python3.6/dist-packages (from turicreate) (2.21.0)\n",
            "Requirement already satisfied: numpy in /usr/local/lib/python3.6/dist-packages (from turicreate) (1.18.2)\n",
            "Collecting tensorboard<2.1.0,>=2.0.0\n",
            "\u001b[?25l  Downloading https://files.pythonhosted.org/packages/76/54/99b9d5d52d5cb732f099baaaf7740403e83fe6b0cedde940fabd2b13d75a/tensorboard-2.0.2-py3-none-any.whl (3.8MB)\n",
            "\u001b[K     |████████████████████████████████| 3.8MB 47.4MB/s \n",
            "\u001b[?25hCollecting gast==0.2.2\n",
            "  Downloading https://files.pythonhosted.org/packages/4e/35/11749bf99b2d4e3cceb4d55ca22590b0d7c2c62b9de38ac4a4a7f4687421/gast-0.2.2.tar.gz\n",
            "Requirement already satisfied: google-pasta>=0.1.6 in /usr/local/lib/python3.6/dist-packages (from tensorflow<=2.0.1,>=2.0.0->turicreate) (0.2.0)\n",
            "Requirement already satisfied: astor>=0.6.0 in /usr/local/lib/python3.6/dist-packages (from tensorflow<=2.0.1,>=2.0.0->turicreate) (0.8.1)\n",
            "Requirement already satisfied: keras-preprocessing>=1.0.5 in /usr/local/lib/python3.6/dist-packages (from tensorflow<=2.0.1,>=2.0.0->turicreate) (1.1.0)\n",
            "Requirement already satisfied: grpcio>=1.8.6 in /usr/local/lib/python3.6/dist-packages (from tensorflow<=2.0.1,>=2.0.0->turicreate) (1.28.1)\n",
            "Requirement already satisfied: keras-applications>=1.0.8 in /usr/local/lib/python3.6/dist-packages (from tensorflow<=2.0.1,>=2.0.0->turicreate) (1.0.8)\n",
            "Requirement already satisfied: absl-py>=0.7.0 in /usr/local/lib/python3.6/dist-packages (from tensorflow<=2.0.1,>=2.0.0->turicreate) (0.9.0)\n",
            "Requirement already satisfied: protobuf>=3.6.1 in /usr/local/lib/python3.6/dist-packages (from tensorflow<=2.0.1,>=2.0.0->turicreate) (3.10.0)\n",
            "Collecting tensorflow-estimator<2.1.0,>=2.0.0\n",
            "\u001b[?25l  Downloading https://files.pythonhosted.org/packages/fc/08/8b927337b7019c374719145d1dceba21a8bb909b93b1ad6f8fb7d22c1ca1/tensorflow_estimator-2.0.1-py2.py3-none-any.whl (449kB)\n",
            "\u001b[K     |████████████████████████████████| 450kB 44.2MB/s \n",
            "\u001b[?25hRequirement already satisfied: wheel>=0.26; python_version >= \"3\" in /usr/local/lib/python3.6/dist-packages (from tensorflow<=2.0.1,>=2.0.0->turicreate) (0.34.2)\n",
            "Requirement already satisfied: wrapt>=1.11.1 in /usr/local/lib/python3.6/dist-packages (from tensorflow<=2.0.1,>=2.0.0->turicreate) (1.12.1)\n",
            "Requirement already satisfied: termcolor>=1.1.0 in /usr/local/lib/python3.6/dist-packages (from tensorflow<=2.0.1,>=2.0.0->turicreate) (1.1.0)\n",
            "Requirement already satisfied: opt-einsum>=2.3.2 in /usr/local/lib/python3.6/dist-packages (from tensorflow<=2.0.1,>=2.0.0->turicreate) (3.2.0)\n",
            "Requirement already satisfied: numba>=0.32 in /usr/local/lib/python3.6/dist-packages (from resampy==0.2.1->turicreate) (0.48.0)\n",
            "Requirement already satisfied: python-dateutil>=2.6.1 in /usr/local/lib/python3.6/dist-packages (from pandas>=0.23.2->turicreate) (2.8.1)\n",
            "Requirement already satisfied: pytz>=2017.2 in /usr/local/lib/python3.6/dist-packages (from pandas>=0.23.2->turicreate) (2018.9)\n",
            "Requirement already satisfied: chardet<3.1.0,>=3.0.2 in /usr/local/lib/python3.6/dist-packages (from requests>=2.9.1->turicreate) (3.0.4)\n",
            "Requirement already satisfied: certifi>=2017.4.17 in /usr/local/lib/python3.6/dist-packages (from requests>=2.9.1->turicreate) (2020.4.5.1)\n",
            "Requirement already satisfied: idna<2.9,>=2.5 in /usr/local/lib/python3.6/dist-packages (from requests>=2.9.1->turicreate) (2.8)\n",
            "Requirement already satisfied: urllib3<1.25,>=1.21.1 in /usr/local/lib/python3.6/dist-packages (from requests>=2.9.1->turicreate) (1.24.3)\n",
            "Requirement already satisfied: setuptools>=41.0.0 in /usr/local/lib/python3.6/dist-packages (from tensorboard<2.1.0,>=2.0.0->tensorflow<=2.0.1,>=2.0.0->turicreate) (46.1.3)\n",
            "Requirement already satisfied: werkzeug>=0.11.15 in /usr/local/lib/python3.6/dist-packages (from tensorboard<2.1.0,>=2.0.0->tensorflow<=2.0.1,>=2.0.0->turicreate) (1.0.1)\n",
            "Requirement already satisfied: google-auth<2,>=1.6.3 in /usr/local/lib/python3.6/dist-packages (from tensorboard<2.1.0,>=2.0.0->tensorflow<=2.0.1,>=2.0.0->turicreate) (1.7.2)\n",
            "Requirement already satisfied: markdown>=2.6.8 in /usr/local/lib/python3.6/dist-packages (from tensorboard<2.1.0,>=2.0.0->tensorflow<=2.0.1,>=2.0.0->turicreate) (3.2.1)\n",
            "Requirement already satisfied: google-auth-oauthlib<0.5,>=0.4.1 in /usr/local/lib/python3.6/dist-packages (from tensorboard<2.1.0,>=2.0.0->tensorflow<=2.0.1,>=2.0.0->turicreate) (0.4.1)\n",
            "Requirement already satisfied: h5py in /usr/local/lib/python3.6/dist-packages (from keras-applications>=1.0.8->tensorflow<=2.0.1,>=2.0.0->turicreate) (2.10.0)\n",
            "Requirement already satisfied: llvmlite<0.32.0,>=0.31.0dev0 in /usr/local/lib/python3.6/dist-packages (from numba>=0.32->resampy==0.2.1->turicreate) (0.31.0)\n",
            "Requirement already satisfied: cachetools<3.2,>=2.0.0 in /usr/local/lib/python3.6/dist-packages (from google-auth<2,>=1.6.3->tensorboard<2.1.0,>=2.0.0->tensorflow<=2.0.1,>=2.0.0->turicreate) (3.1.1)\n",
            "Requirement already satisfied: pyasn1-modules>=0.2.1 in /usr/local/lib/python3.6/dist-packages (from google-auth<2,>=1.6.3->tensorboard<2.1.0,>=2.0.0->tensorflow<=2.0.1,>=2.0.0->turicreate) (0.2.8)\n",
            "Requirement already satisfied: rsa<4.1,>=3.1.4 in /usr/local/lib/python3.6/dist-packages (from google-auth<2,>=1.6.3->tensorboard<2.1.0,>=2.0.0->tensorflow<=2.0.1,>=2.0.0->turicreate) (4.0)\n",
            "Requirement already satisfied: requests-oauthlib>=0.7.0 in /usr/local/lib/python3.6/dist-packages (from google-auth-oauthlib<0.5,>=0.4.1->tensorboard<2.1.0,>=2.0.0->tensorflow<=2.0.1,>=2.0.0->turicreate) (1.3.0)\n",
            "Requirement already satisfied: pyasn1<0.5.0,>=0.4.6 in /usr/local/lib/python3.6/dist-packages (from pyasn1-modules>=0.2.1->google-auth<2,>=1.6.3->tensorboard<2.1.0,>=2.0.0->tensorflow<=2.0.1,>=2.0.0->turicreate) (0.4.8)\n",
            "Requirement already satisfied: oauthlib>=3.0.0 in /usr/local/lib/python3.6/dist-packages (from requests-oauthlib>=0.7.0->google-auth-oauthlib<0.5,>=0.4.1->tensorboard<2.1.0,>=2.0.0->tensorflow<=2.0.1,>=2.0.0->turicreate) (3.1.0)\n",
            "Building wheels for collected packages: resampy, gast\n",
            "  Building wheel for resampy (setup.py) ... \u001b[?25l\u001b[?25hdone\n",
            "  Created wheel for resampy: filename=resampy-0.2.1-cp36-none-any.whl size=320850 sha256=2d889e62706437bacadfbd31e120be6cb7e1305259c1b49f624b8658fa5422ed\n",
            "  Stored in directory: /root/.cache/pip/wheels/ff/4f/ed/2e6c676c23efe5394bb40ade50662e90eb46e29b48324c5f9b\n",
            "  Building wheel for gast (setup.py) ... \u001b[?25l\u001b[?25hdone\n",
            "  Created wheel for gast: filename=gast-0.2.2-cp36-none-any.whl size=7540 sha256=da450d0a488afee2cc4c17cfa641634b026f0be3dcd26d4003a6195422e8067a\n",
            "  Stored in directory: /root/.cache/pip/wheels/5c/2e/7e/a1d4d4fcebe6c381f378ce7743a3ced3699feb89bcfbdadadd\n",
            "Successfully built resampy gast\n",
            "Installing collected packages: tensorboard, gast, tensorflow-estimator, tensorflow, resampy, coremltools, turicreate\n",
            "  Found existing installation: tensorboard 2.2.0\n",
            "    Uninstalling tensorboard-2.2.0:\n",
            "      Successfully uninstalled tensorboard-2.2.0\n",
            "  Found existing installation: gast 0.3.3\n",
            "    Uninstalling gast-0.3.3:\n",
            "      Successfully uninstalled gast-0.3.3\n",
            "  Found existing installation: tensorflow-estimator 2.2.0rc0\n",
            "    Uninstalling tensorflow-estimator-2.2.0rc0:\n",
            "      Successfully uninstalled tensorflow-estimator-2.2.0rc0\n",
            "  Found existing installation: tensorflow 2.2.0rc3\n",
            "    Uninstalling tensorflow-2.2.0rc3:\n",
            "      Successfully uninstalled tensorflow-2.2.0rc3\n",
            "  Found existing installation: resampy 0.2.2\n",
            "    Uninstalling resampy-0.2.2:\n",
            "      Successfully uninstalled resampy-0.2.2\n",
            "Successfully installed coremltools-3.3 gast-0.2.2 resampy-0.2.1 tensorboard-2.0.2 tensorflow-2.0.1 tensorflow-estimator-2.0.1 turicreate-6.2\n"
          ],
          "name": "stdout"
        }
      ]
    },
    {
      "cell_type": "code",
      "metadata": {
        "id": "MgtpJb8PCKQ1",
        "colab_type": "code",
        "colab": {}
      },
      "source": [
        "import graphviz"
      ],
      "execution_count": 0,
      "outputs": []
    },
    {
      "cell_type": "code",
      "metadata": {
        "id": "-5wUVP6xWTkF",
        "colab_type": "code",
        "colab": {}
      },
      "source": [
        "%load_ext autoreload\n",
        "%autoreload 2\n",
        "\n",
        "import pandas as pd\n",
        "import numpy as np\n",
        "import time\n",
        "import turicreate as tc\n",
        "from sklearn.model_selection import train_test_split\n",
        "\n",
        "import sys\n",
        "sys.path.append(\"..\")"
      ],
      "execution_count": 0,
      "outputs": []
    },
    {
      "cell_type": "code",
      "metadata": {
        "id": "wxinRwhCCFii",
        "colab_type": "code",
        "colab": {}
      },
      "source": [
        "customers = pd.read_csv('https://raw.githubusercontent.com/moorissa/medium/master/items-recommender/data/recommend_1.csv') \n"
      ],
      "execution_count": 0,
      "outputs": []
    },
    {
      "cell_type": "code",
      "metadata": {
        "id": "8X1PNB-oWYXN",
        "colab_type": "code",
        "colab": {}
      },
      "source": [
        "transactions = pd.read_csv('https://raw.githubusercontent.com/moorissa/medium/master/items-recommender/data/trx_data.csv')"
      ],
      "execution_count": 0,
      "outputs": []
    },
    {
      "cell_type": "markdown",
      "metadata": {
        "id": "C69iBfPu86Fz",
        "colab_type": "text"
      },
      "source": [
        "\n",
        " Data preparation"
      ]
    },
    {
      "cell_type": "code",
      "metadata": {
        "id": "wP5u64tzy_wB",
        "colab_type": "code",
        "outputId": "8bb6067d-6f50-4c72-93b0-00ae39adc522",
        "colab": {
          "base_uri": "https://localhost:8080/",
          "height": 402
        }
      },
      "source": [
        "transactions"
      ],
      "execution_count": 0,
      "outputs": [
        {
          "output_type": "execute_result",
          "data": {
            "text/html": [
              "<div>\n",
              "<style scoped>\n",
              "    .dataframe tbody tr th:only-of-type {\n",
              "        vertical-align: middle;\n",
              "    }\n",
              "\n",
              "    .dataframe tbody tr th {\n",
              "        vertical-align: top;\n",
              "    }\n",
              "\n",
              "    .dataframe thead th {\n",
              "        text-align: right;\n",
              "    }\n",
              "</style>\n",
              "<table border=\"1\" class=\"dataframe\">\n",
              "  <thead>\n",
              "    <tr style=\"text-align: right;\">\n",
              "      <th></th>\n",
              "      <th>customerId</th>\n",
              "      <th>products</th>\n",
              "    </tr>\n",
              "  </thead>\n",
              "  <tbody>\n",
              "    <tr>\n",
              "      <th>0</th>\n",
              "      <td>0</td>\n",
              "      <td>20</td>\n",
              "    </tr>\n",
              "    <tr>\n",
              "      <th>1</th>\n",
              "      <td>1</td>\n",
              "      <td>2|2|23|68|68|111|29|86|107|152</td>\n",
              "    </tr>\n",
              "    <tr>\n",
              "      <th>2</th>\n",
              "      <td>2</td>\n",
              "      <td>111|107|29|11|11|11|33|23</td>\n",
              "    </tr>\n",
              "    <tr>\n",
              "      <th>3</th>\n",
              "      <td>3</td>\n",
              "      <td>164|227</td>\n",
              "    </tr>\n",
              "    <tr>\n",
              "      <th>4</th>\n",
              "      <td>5</td>\n",
              "      <td>2|2</td>\n",
              "    </tr>\n",
              "    <tr>\n",
              "      <th>...</th>\n",
              "      <td>...</td>\n",
              "      <td>...</td>\n",
              "    </tr>\n",
              "    <tr>\n",
              "      <th>62478</th>\n",
              "      <td>4068</td>\n",
              "      <td>103|103|8|48|126</td>\n",
              "    </tr>\n",
              "    <tr>\n",
              "      <th>62479</th>\n",
              "      <td>10918</td>\n",
              "      <td>124|37|37|78|124|124|37|8|35|8</td>\n",
              "    </tr>\n",
              "    <tr>\n",
              "      <th>62480</th>\n",
              "      <td>6119</td>\n",
              "      <td>24</td>\n",
              "    </tr>\n",
              "    <tr>\n",
              "      <th>62481</th>\n",
              "      <td>8171</td>\n",
              "      <td>167</td>\n",
              "    </tr>\n",
              "    <tr>\n",
              "      <th>62482</th>\n",
              "      <td>4095</td>\n",
              "      <td>150</td>\n",
              "    </tr>\n",
              "  </tbody>\n",
              "</table>\n",
              "<p>62483 rows × 2 columns</p>\n",
              "</div>"
            ],
            "text/plain": [
              "       customerId                        products\n",
              "0               0                              20\n",
              "1               1  2|2|23|68|68|111|29|86|107|152\n",
              "2               2       111|107|29|11|11|11|33|23\n",
              "3               3                         164|227\n",
              "4               5                             2|2\n",
              "...           ...                             ...\n",
              "62478        4068                103|103|8|48|126\n",
              "62479       10918  124|37|37|78|124|124|37|8|35|8\n",
              "62480        6119                              24\n",
              "62481        8171                             167\n",
              "62482        4095                             150\n",
              "\n",
              "[62483 rows x 2 columns]"
            ]
          },
          "metadata": {
            "tags": []
          },
          "execution_count": 6
        }
      ]
    },
    {
      "cell_type": "code",
      "metadata": {
        "id": "YZFM_dh89AtJ",
        "colab_type": "code",
        "colab": {}
      },
      "source": [
        "transactions['products']=transactions['products'].apply(lambda x:[int(i) for i in x.split('|')])"
      ],
      "execution_count": 0,
      "outputs": []
    },
    {
      "cell_type": "code",
      "metadata": {
        "id": "3sZ0hFhn9B3W",
        "colab_type": "code",
        "outputId": "c9184b7d-b1e6-4731-faf8-e8c37b4bf849",
        "colab": {
          "base_uri": "https://localhost:8080/",
          "height": 106
        }
      },
      "source": [
        "transactions.head(2).set_index('customerId')['products'].apply(pd.Series).reset_index()"
      ],
      "execution_count": 0,
      "outputs": [
        {
          "output_type": "execute_result",
          "data": {
            "text/html": [
              "<div>\n",
              "<style scoped>\n",
              "    .dataframe tbody tr th:only-of-type {\n",
              "        vertical-align: middle;\n",
              "    }\n",
              "\n",
              "    .dataframe tbody tr th {\n",
              "        vertical-align: top;\n",
              "    }\n",
              "\n",
              "    .dataframe thead th {\n",
              "        text-align: right;\n",
              "    }\n",
              "</style>\n",
              "<table border=\"1\" class=\"dataframe\">\n",
              "  <thead>\n",
              "    <tr style=\"text-align: right;\">\n",
              "      <th></th>\n",
              "      <th>customerId</th>\n",
              "      <th>0</th>\n",
              "      <th>1</th>\n",
              "      <th>2</th>\n",
              "      <th>3</th>\n",
              "      <th>4</th>\n",
              "      <th>5</th>\n",
              "      <th>6</th>\n",
              "      <th>7</th>\n",
              "      <th>8</th>\n",
              "      <th>9</th>\n",
              "    </tr>\n",
              "  </thead>\n",
              "  <tbody>\n",
              "    <tr>\n",
              "      <th>0</th>\n",
              "      <td>0</td>\n",
              "      <td>20.0</td>\n",
              "      <td>NaN</td>\n",
              "      <td>NaN</td>\n",
              "      <td>NaN</td>\n",
              "      <td>NaN</td>\n",
              "      <td>NaN</td>\n",
              "      <td>NaN</td>\n",
              "      <td>NaN</td>\n",
              "      <td>NaN</td>\n",
              "      <td>NaN</td>\n",
              "    </tr>\n",
              "    <tr>\n",
              "      <th>1</th>\n",
              "      <td>1</td>\n",
              "      <td>2.0</td>\n",
              "      <td>2.0</td>\n",
              "      <td>23.0</td>\n",
              "      <td>68.0</td>\n",
              "      <td>68.0</td>\n",
              "      <td>111.0</td>\n",
              "      <td>29.0</td>\n",
              "      <td>86.0</td>\n",
              "      <td>107.0</td>\n",
              "      <td>152.0</td>\n",
              "    </tr>\n",
              "  </tbody>\n",
              "</table>\n",
              "</div>"
            ],
            "text/plain": [
              "   customerId     0    1     2     3     4      5     6     7      8      9\n",
              "0           0  20.0  NaN   NaN   NaN   NaN    NaN   NaN   NaN    NaN    NaN\n",
              "1           1   2.0  2.0  23.0  68.0  68.0  111.0  29.0  86.0  107.0  152.0"
            ]
          },
          "metadata": {
            "tags": []
          },
          "execution_count": 8
        }
      ]
    },
    {
      "cell_type": "code",
      "metadata": {
        "id": "NE6arvXLFk5u",
        "colab_type": "code",
        "outputId": "9654254a-119a-41e4-d836-498374fd1589",
        "colab": {
          "base_uri": "https://localhost:8080/",
          "height": 34
        }
      },
      "source": [
        "customers.shape, transactions.shape"
      ],
      "execution_count": 0,
      "outputs": [
        {
          "output_type": "execute_result",
          "data": {
            "text/plain": [
              "((1000, 1), (62483, 2))"
            ]
          },
          "metadata": {
            "tags": []
          },
          "execution_count": 9
        }
      ]
    },
    {
      "cell_type": "code",
      "metadata": {
        "id": "nWTZ3yUSD95_",
        "colab_type": "code",
        "outputId": "be29e0b2-e3e1-4ac1-d033-dddd9518db49",
        "colab": {
          "base_uri": "https://localhost:8080/",
          "height": 314
        }
      },
      "source": [
        "# example 2: organize a given table into a dataframe with customerId, single productId, and purchase count\n",
        "pd.melt(transactions.head(2).set_index('customerId')['products'].apply(pd.Series).reset_index(), \n",
        "             id_vars=['customerId'],\n",
        "             value_name='products') \\\n",
        "    .dropna().drop(['variable'], axis=1) \\\n",
        "    .groupby(['customerId', 'products']) \\\n",
        "    .agg({'products': 'count'}) \\\n",
        "    .rename(columns={'products': 'purchase_count'}) \\\n",
        "    .reset_index() \\\n",
        "    .rename(columns={'products': 'productId'})"
      ],
      "execution_count": 0,
      "outputs": [
        {
          "output_type": "execute_result",
          "data": {
            "text/html": [
              "<div>\n",
              "<style scoped>\n",
              "    .dataframe tbody tr th:only-of-type {\n",
              "        vertical-align: middle;\n",
              "    }\n",
              "\n",
              "    .dataframe tbody tr th {\n",
              "        vertical-align: top;\n",
              "    }\n",
              "\n",
              "    .dataframe thead th {\n",
              "        text-align: right;\n",
              "    }\n",
              "</style>\n",
              "<table border=\"1\" class=\"dataframe\">\n",
              "  <thead>\n",
              "    <tr style=\"text-align: right;\">\n",
              "      <th></th>\n",
              "      <th>customerId</th>\n",
              "      <th>productId</th>\n",
              "      <th>purchase_count</th>\n",
              "    </tr>\n",
              "  </thead>\n",
              "  <tbody>\n",
              "    <tr>\n",
              "      <th>0</th>\n",
              "      <td>0</td>\n",
              "      <td>20.0</td>\n",
              "      <td>1</td>\n",
              "    </tr>\n",
              "    <tr>\n",
              "      <th>1</th>\n",
              "      <td>1</td>\n",
              "      <td>2.0</td>\n",
              "      <td>2</td>\n",
              "    </tr>\n",
              "    <tr>\n",
              "      <th>2</th>\n",
              "      <td>1</td>\n",
              "      <td>23.0</td>\n",
              "      <td>1</td>\n",
              "    </tr>\n",
              "    <tr>\n",
              "      <th>3</th>\n",
              "      <td>1</td>\n",
              "      <td>29.0</td>\n",
              "      <td>1</td>\n",
              "    </tr>\n",
              "    <tr>\n",
              "      <th>4</th>\n",
              "      <td>1</td>\n",
              "      <td>68.0</td>\n",
              "      <td>2</td>\n",
              "    </tr>\n",
              "    <tr>\n",
              "      <th>5</th>\n",
              "      <td>1</td>\n",
              "      <td>86.0</td>\n",
              "      <td>1</td>\n",
              "    </tr>\n",
              "    <tr>\n",
              "      <th>6</th>\n",
              "      <td>1</td>\n",
              "      <td>107.0</td>\n",
              "      <td>1</td>\n",
              "    </tr>\n",
              "    <tr>\n",
              "      <th>7</th>\n",
              "      <td>1</td>\n",
              "      <td>111.0</td>\n",
              "      <td>1</td>\n",
              "    </tr>\n",
              "    <tr>\n",
              "      <th>8</th>\n",
              "      <td>1</td>\n",
              "      <td>152.0</td>\n",
              "      <td>1</td>\n",
              "    </tr>\n",
              "  </tbody>\n",
              "</table>\n",
              "</div>"
            ],
            "text/plain": [
              "   customerId  productId  purchase_count\n",
              "0           0       20.0               1\n",
              "1           1        2.0               2\n",
              "2           1       23.0               1\n",
              "3           1       29.0               1\n",
              "4           1       68.0               2\n",
              "5           1       86.0               1\n",
              "6           1      107.0               1\n",
              "7           1      111.0               1\n",
              "8           1      152.0               1"
            ]
          },
          "metadata": {
            "tags": []
          },
          "execution_count": 10
        }
      ]
    },
    {
      "cell_type": "markdown",
      "metadata": {
        "id": "HcKWafvtFdy6",
        "colab_type": "text"
      },
      "source": [
        "Create data with user, item, and target field"
      ]
    },
    {
      "cell_type": "code",
      "metadata": {
        "id": "5bc3c9nGFdDP",
        "colab_type": "code",
        "outputId": "38b2bb5d-013b-47f6-d301-6c61a62a0e97",
        "colab": {
          "base_uri": "https://localhost:8080/",
          "height": 34
        }
      },
      "source": [
        "s=time.time()\n",
        "\n",
        "data = pd.melt(transactions.set_index('customerId')['products'].apply(pd.Series).reset_index(), \n",
        "             id_vars=['customerId'],\n",
        "             value_name='products') \\\n",
        "    .dropna().drop(['variable'], axis=1) \\\n",
        "    .groupby(['customerId', 'products']) \\\n",
        "    .agg({'products': 'count'}) \\\n",
        "    .rename(columns={'products': 'purchase_count'}) \\\n",
        "    .reset_index() \\\n",
        "    .rename(columns={'products': 'productId'})\n",
        "data['productId'] = data['productId'].astype(np.int64)\n",
        "\n",
        "print(\"Execution time:\", round((time.time()-s)/60,2), \"minutes\")"
      ],
      "execution_count": 0,
      "outputs": [
        {
          "output_type": "stream",
          "text": [
            "Execution time: 0.23 minutes\n"
          ],
          "name": "stdout"
        }
      ]
    },
    {
      "cell_type": "code",
      "metadata": {
        "id": "YQ59jMDZHLQT",
        "colab_type": "code",
        "outputId": "79b05d5f-bb73-47db-e042-e624dc2c3d88",
        "colab": {
          "base_uri": "https://localhost:8080/",
          "height": 212
        }
      },
      "source": [
        "print(data.shape)\n",
        "data.head()"
      ],
      "execution_count": 0,
      "outputs": [
        {
          "output_type": "stream",
          "text": [
            "(133585, 3)\n"
          ],
          "name": "stdout"
        },
        {
          "output_type": "execute_result",
          "data": {
            "text/html": [
              "<div>\n",
              "<style scoped>\n",
              "    .dataframe tbody tr th:only-of-type {\n",
              "        vertical-align: middle;\n",
              "    }\n",
              "\n",
              "    .dataframe tbody tr th {\n",
              "        vertical-align: top;\n",
              "    }\n",
              "\n",
              "    .dataframe thead th {\n",
              "        text-align: right;\n",
              "    }\n",
              "</style>\n",
              "<table border=\"1\" class=\"dataframe\">\n",
              "  <thead>\n",
              "    <tr style=\"text-align: right;\">\n",
              "      <th></th>\n",
              "      <th>customerId</th>\n",
              "      <th>productId</th>\n",
              "      <th>purchase_count</th>\n",
              "    </tr>\n",
              "  </thead>\n",
              "  <tbody>\n",
              "    <tr>\n",
              "      <th>0</th>\n",
              "      <td>0</td>\n",
              "      <td>1</td>\n",
              "      <td>2</td>\n",
              "    </tr>\n",
              "    <tr>\n",
              "      <th>1</th>\n",
              "      <td>0</td>\n",
              "      <td>13</td>\n",
              "      <td>1</td>\n",
              "    </tr>\n",
              "    <tr>\n",
              "      <th>2</th>\n",
              "      <td>0</td>\n",
              "      <td>19</td>\n",
              "      <td>3</td>\n",
              "    </tr>\n",
              "    <tr>\n",
              "      <th>3</th>\n",
              "      <td>0</td>\n",
              "      <td>20</td>\n",
              "      <td>1</td>\n",
              "    </tr>\n",
              "    <tr>\n",
              "      <th>4</th>\n",
              "      <td>0</td>\n",
              "      <td>31</td>\n",
              "      <td>2</td>\n",
              "    </tr>\n",
              "  </tbody>\n",
              "</table>\n",
              "</div>"
            ],
            "text/plain": [
              "   customerId  productId  purchase_count\n",
              "0           0          1               2\n",
              "1           0         13               1\n",
              "2           0         19               3\n",
              "3           0         20               1\n",
              "4           0         31               2"
            ]
          },
          "metadata": {
            "tags": []
          },
          "execution_count": 12
        }
      ]
    },
    {
      "cell_type": "code",
      "metadata": {
        "id": "6BjjNwdbHSgw",
        "colab_type": "code",
        "colab": {}
      },
      "source": [
        "def create_data_dummy(data):\n",
        "  data_dummy=data.copy()\n",
        "  data_dummy['purchase_dummy']=1\n",
        "  return data_dummy"
      ],
      "execution_count": 0,
      "outputs": []
    },
    {
      "cell_type": "code",
      "metadata": {
        "id": "I1E7PqYWH8nF",
        "colab_type": "code",
        "colab": {}
      },
      "source": [
        "data_dummy = create_data_dummy(data)"
      ],
      "execution_count": 0,
      "outputs": []
    },
    {
      "cell_type": "markdown",
      "metadata": {
        "id": "y6TWSt3lIIyV",
        "colab_type": "text"
      },
      "source": [
        "Normalize item values across users\n",
        "\n",
        "To do this, we normalize purchase frequency of each item across users by first creating a user-item matrix as follows"
      ]
    },
    {
      "cell_type": "code",
      "metadata": {
        "id": "dl4Zg41_H9a-",
        "colab_type": "code",
        "outputId": "5fdd5053-68fa-4a63-b248-a1def44c3541",
        "colab": {
          "base_uri": "https://localhost:8080/",
          "height": 274
        }
      },
      "source": [
        "df_matrix = pd.pivot_table(data, values='purchase_count', index='customerId', columns='productId')\n",
        "df_matrix.head()"
      ],
      "execution_count": 0,
      "outputs": [
        {
          "output_type": "execute_result",
          "data": {
            "text/html": [
              "<div>\n",
              "<style scoped>\n",
              "    .dataframe tbody tr th:only-of-type {\n",
              "        vertical-align: middle;\n",
              "    }\n",
              "\n",
              "    .dataframe tbody tr th {\n",
              "        vertical-align: top;\n",
              "    }\n",
              "\n",
              "    .dataframe thead th {\n",
              "        text-align: right;\n",
              "    }\n",
              "</style>\n",
              "<table border=\"1\" class=\"dataframe\">\n",
              "  <thead>\n",
              "    <tr style=\"text-align: right;\">\n",
              "      <th>productId</th>\n",
              "      <th>0</th>\n",
              "      <th>1</th>\n",
              "      <th>2</th>\n",
              "      <th>3</th>\n",
              "      <th>4</th>\n",
              "      <th>5</th>\n",
              "      <th>6</th>\n",
              "      <th>7</th>\n",
              "      <th>8</th>\n",
              "      <th>9</th>\n",
              "      <th>10</th>\n",
              "      <th>11</th>\n",
              "      <th>12</th>\n",
              "      <th>13</th>\n",
              "      <th>14</th>\n",
              "      <th>15</th>\n",
              "      <th>16</th>\n",
              "      <th>17</th>\n",
              "      <th>18</th>\n",
              "      <th>19</th>\n",
              "      <th>20</th>\n",
              "      <th>21</th>\n",
              "      <th>22</th>\n",
              "      <th>23</th>\n",
              "      <th>24</th>\n",
              "      <th>25</th>\n",
              "      <th>26</th>\n",
              "      <th>27</th>\n",
              "      <th>28</th>\n",
              "      <th>29</th>\n",
              "      <th>30</th>\n",
              "      <th>31</th>\n",
              "      <th>32</th>\n",
              "      <th>33</th>\n",
              "      <th>34</th>\n",
              "      <th>35</th>\n",
              "      <th>36</th>\n",
              "      <th>37</th>\n",
              "      <th>38</th>\n",
              "      <th>39</th>\n",
              "      <th>...</th>\n",
              "      <th>260</th>\n",
              "      <th>261</th>\n",
              "      <th>262</th>\n",
              "      <th>263</th>\n",
              "      <th>264</th>\n",
              "      <th>265</th>\n",
              "      <th>266</th>\n",
              "      <th>267</th>\n",
              "      <th>268</th>\n",
              "      <th>269</th>\n",
              "      <th>270</th>\n",
              "      <th>271</th>\n",
              "      <th>272</th>\n",
              "      <th>273</th>\n",
              "      <th>274</th>\n",
              "      <th>275</th>\n",
              "      <th>276</th>\n",
              "      <th>277</th>\n",
              "      <th>278</th>\n",
              "      <th>279</th>\n",
              "      <th>280</th>\n",
              "      <th>281</th>\n",
              "      <th>282</th>\n",
              "      <th>283</th>\n",
              "      <th>284</th>\n",
              "      <th>285</th>\n",
              "      <th>286</th>\n",
              "      <th>287</th>\n",
              "      <th>288</th>\n",
              "      <th>289</th>\n",
              "      <th>290</th>\n",
              "      <th>291</th>\n",
              "      <th>292</th>\n",
              "      <th>293</th>\n",
              "      <th>294</th>\n",
              "      <th>295</th>\n",
              "      <th>296</th>\n",
              "      <th>297</th>\n",
              "      <th>298</th>\n",
              "      <th>299</th>\n",
              "    </tr>\n",
              "    <tr>\n",
              "      <th>customerId</th>\n",
              "      <th></th>\n",
              "      <th></th>\n",
              "      <th></th>\n",
              "      <th></th>\n",
              "      <th></th>\n",
              "      <th></th>\n",
              "      <th></th>\n",
              "      <th></th>\n",
              "      <th></th>\n",
              "      <th></th>\n",
              "      <th></th>\n",
              "      <th></th>\n",
              "      <th></th>\n",
              "      <th></th>\n",
              "      <th></th>\n",
              "      <th></th>\n",
              "      <th></th>\n",
              "      <th></th>\n",
              "      <th></th>\n",
              "      <th></th>\n",
              "      <th></th>\n",
              "      <th></th>\n",
              "      <th></th>\n",
              "      <th></th>\n",
              "      <th></th>\n",
              "      <th></th>\n",
              "      <th></th>\n",
              "      <th></th>\n",
              "      <th></th>\n",
              "      <th></th>\n",
              "      <th></th>\n",
              "      <th></th>\n",
              "      <th></th>\n",
              "      <th></th>\n",
              "      <th></th>\n",
              "      <th></th>\n",
              "      <th></th>\n",
              "      <th></th>\n",
              "      <th></th>\n",
              "      <th></th>\n",
              "      <th></th>\n",
              "      <th></th>\n",
              "      <th></th>\n",
              "      <th></th>\n",
              "      <th></th>\n",
              "      <th></th>\n",
              "      <th></th>\n",
              "      <th></th>\n",
              "      <th></th>\n",
              "      <th></th>\n",
              "      <th></th>\n",
              "      <th></th>\n",
              "      <th></th>\n",
              "      <th></th>\n",
              "      <th></th>\n",
              "      <th></th>\n",
              "      <th></th>\n",
              "      <th></th>\n",
              "      <th></th>\n",
              "      <th></th>\n",
              "      <th></th>\n",
              "      <th></th>\n",
              "      <th></th>\n",
              "      <th></th>\n",
              "      <th></th>\n",
              "      <th></th>\n",
              "      <th></th>\n",
              "      <th></th>\n",
              "      <th></th>\n",
              "      <th></th>\n",
              "      <th></th>\n",
              "      <th></th>\n",
              "      <th></th>\n",
              "      <th></th>\n",
              "      <th></th>\n",
              "      <th></th>\n",
              "      <th></th>\n",
              "      <th></th>\n",
              "      <th></th>\n",
              "      <th></th>\n",
              "      <th></th>\n",
              "    </tr>\n",
              "  </thead>\n",
              "  <tbody>\n",
              "    <tr>\n",
              "      <th>0</th>\n",
              "      <td>NaN</td>\n",
              "      <td>2.0</td>\n",
              "      <td>NaN</td>\n",
              "      <td>NaN</td>\n",
              "      <td>NaN</td>\n",
              "      <td>NaN</td>\n",
              "      <td>NaN</td>\n",
              "      <td>NaN</td>\n",
              "      <td>NaN</td>\n",
              "      <td>NaN</td>\n",
              "      <td>NaN</td>\n",
              "      <td>NaN</td>\n",
              "      <td>NaN</td>\n",
              "      <td>1.0</td>\n",
              "      <td>NaN</td>\n",
              "      <td>NaN</td>\n",
              "      <td>NaN</td>\n",
              "      <td>NaN</td>\n",
              "      <td>NaN</td>\n",
              "      <td>3.0</td>\n",
              "      <td>1.0</td>\n",
              "      <td>NaN</td>\n",
              "      <td>NaN</td>\n",
              "      <td>NaN</td>\n",
              "      <td>NaN</td>\n",
              "      <td>NaN</td>\n",
              "      <td>NaN</td>\n",
              "      <td>NaN</td>\n",
              "      <td>NaN</td>\n",
              "      <td>NaN</td>\n",
              "      <td>NaN</td>\n",
              "      <td>2.0</td>\n",
              "      <td>NaN</td>\n",
              "      <td>NaN</td>\n",
              "      <td>NaN</td>\n",
              "      <td>NaN</td>\n",
              "      <td>NaN</td>\n",
              "      <td>NaN</td>\n",
              "      <td>NaN</td>\n",
              "      <td>NaN</td>\n",
              "      <td>...</td>\n",
              "      <td>5.0</td>\n",
              "      <td>NaN</td>\n",
              "      <td>NaN</td>\n",
              "      <td>NaN</td>\n",
              "      <td>NaN</td>\n",
              "      <td>NaN</td>\n",
              "      <td>NaN</td>\n",
              "      <td>NaN</td>\n",
              "      <td>NaN</td>\n",
              "      <td>NaN</td>\n",
              "      <td>NaN</td>\n",
              "      <td>NaN</td>\n",
              "      <td>NaN</td>\n",
              "      <td>NaN</td>\n",
              "      <td>NaN</td>\n",
              "      <td>NaN</td>\n",
              "      <td>NaN</td>\n",
              "      <td>NaN</td>\n",
              "      <td>NaN</td>\n",
              "      <td>NaN</td>\n",
              "      <td>NaN</td>\n",
              "      <td>NaN</td>\n",
              "      <td>NaN</td>\n",
              "      <td>NaN</td>\n",
              "      <td>NaN</td>\n",
              "      <td>NaN</td>\n",
              "      <td>NaN</td>\n",
              "      <td>NaN</td>\n",
              "      <td>NaN</td>\n",
              "      <td>NaN</td>\n",
              "      <td>NaN</td>\n",
              "      <td>NaN</td>\n",
              "      <td>NaN</td>\n",
              "      <td>NaN</td>\n",
              "      <td>NaN</td>\n",
              "      <td>NaN</td>\n",
              "      <td>NaN</td>\n",
              "      <td>NaN</td>\n",
              "      <td>NaN</td>\n",
              "      <td>NaN</td>\n",
              "    </tr>\n",
              "    <tr>\n",
              "      <th>1</th>\n",
              "      <td>NaN</td>\n",
              "      <td>NaN</td>\n",
              "      <td>6.0</td>\n",
              "      <td>NaN</td>\n",
              "      <td>NaN</td>\n",
              "      <td>NaN</td>\n",
              "      <td>NaN</td>\n",
              "      <td>NaN</td>\n",
              "      <td>NaN</td>\n",
              "      <td>NaN</td>\n",
              "      <td>NaN</td>\n",
              "      <td>NaN</td>\n",
              "      <td>NaN</td>\n",
              "      <td>NaN</td>\n",
              "      <td>NaN</td>\n",
              "      <td>NaN</td>\n",
              "      <td>NaN</td>\n",
              "      <td>NaN</td>\n",
              "      <td>NaN</td>\n",
              "      <td>NaN</td>\n",
              "      <td>NaN</td>\n",
              "      <td>NaN</td>\n",
              "      <td>NaN</td>\n",
              "      <td>1.0</td>\n",
              "      <td>NaN</td>\n",
              "      <td>1.0</td>\n",
              "      <td>NaN</td>\n",
              "      <td>NaN</td>\n",
              "      <td>NaN</td>\n",
              "      <td>1.0</td>\n",
              "      <td>NaN</td>\n",
              "      <td>NaN</td>\n",
              "      <td>NaN</td>\n",
              "      <td>NaN</td>\n",
              "      <td>NaN</td>\n",
              "      <td>NaN</td>\n",
              "      <td>NaN</td>\n",
              "      <td>NaN</td>\n",
              "      <td>NaN</td>\n",
              "      <td>NaN</td>\n",
              "      <td>...</td>\n",
              "      <td>NaN</td>\n",
              "      <td>NaN</td>\n",
              "      <td>NaN</td>\n",
              "      <td>NaN</td>\n",
              "      <td>NaN</td>\n",
              "      <td>NaN</td>\n",
              "      <td>NaN</td>\n",
              "      <td>NaN</td>\n",
              "      <td>NaN</td>\n",
              "      <td>NaN</td>\n",
              "      <td>NaN</td>\n",
              "      <td>NaN</td>\n",
              "      <td>NaN</td>\n",
              "      <td>NaN</td>\n",
              "      <td>1.0</td>\n",
              "      <td>NaN</td>\n",
              "      <td>NaN</td>\n",
              "      <td>NaN</td>\n",
              "      <td>NaN</td>\n",
              "      <td>NaN</td>\n",
              "      <td>NaN</td>\n",
              "      <td>NaN</td>\n",
              "      <td>NaN</td>\n",
              "      <td>NaN</td>\n",
              "      <td>NaN</td>\n",
              "      <td>1.0</td>\n",
              "      <td>NaN</td>\n",
              "      <td>NaN</td>\n",
              "      <td>NaN</td>\n",
              "      <td>NaN</td>\n",
              "      <td>NaN</td>\n",
              "      <td>NaN</td>\n",
              "      <td>NaN</td>\n",
              "      <td>1.0</td>\n",
              "      <td>NaN</td>\n",
              "      <td>NaN</td>\n",
              "      <td>1.0</td>\n",
              "      <td>NaN</td>\n",
              "      <td>NaN</td>\n",
              "      <td>NaN</td>\n",
              "    </tr>\n",
              "    <tr>\n",
              "      <th>2</th>\n",
              "      <td>NaN</td>\n",
              "      <td>NaN</td>\n",
              "      <td>NaN</td>\n",
              "      <td>NaN</td>\n",
              "      <td>NaN</td>\n",
              "      <td>NaN</td>\n",
              "      <td>NaN</td>\n",
              "      <td>NaN</td>\n",
              "      <td>NaN</td>\n",
              "      <td>NaN</td>\n",
              "      <td>NaN</td>\n",
              "      <td>3.0</td>\n",
              "      <td>NaN</td>\n",
              "      <td>NaN</td>\n",
              "      <td>NaN</td>\n",
              "      <td>NaN</td>\n",
              "      <td>NaN</td>\n",
              "      <td>NaN</td>\n",
              "      <td>NaN</td>\n",
              "      <td>NaN</td>\n",
              "      <td>NaN</td>\n",
              "      <td>NaN</td>\n",
              "      <td>NaN</td>\n",
              "      <td>1.0</td>\n",
              "      <td>NaN</td>\n",
              "      <td>NaN</td>\n",
              "      <td>NaN</td>\n",
              "      <td>NaN</td>\n",
              "      <td>NaN</td>\n",
              "      <td>1.0</td>\n",
              "      <td>NaN</td>\n",
              "      <td>NaN</td>\n",
              "      <td>NaN</td>\n",
              "      <td>1.0</td>\n",
              "      <td>NaN</td>\n",
              "      <td>NaN</td>\n",
              "      <td>NaN</td>\n",
              "      <td>NaN</td>\n",
              "      <td>NaN</td>\n",
              "      <td>NaN</td>\n",
              "      <td>...</td>\n",
              "      <td>NaN</td>\n",
              "      <td>NaN</td>\n",
              "      <td>NaN</td>\n",
              "      <td>NaN</td>\n",
              "      <td>NaN</td>\n",
              "      <td>NaN</td>\n",
              "      <td>NaN</td>\n",
              "      <td>NaN</td>\n",
              "      <td>NaN</td>\n",
              "      <td>NaN</td>\n",
              "      <td>NaN</td>\n",
              "      <td>NaN</td>\n",
              "      <td>NaN</td>\n",
              "      <td>NaN</td>\n",
              "      <td>NaN</td>\n",
              "      <td>NaN</td>\n",
              "      <td>NaN</td>\n",
              "      <td>NaN</td>\n",
              "      <td>NaN</td>\n",
              "      <td>NaN</td>\n",
              "      <td>NaN</td>\n",
              "      <td>NaN</td>\n",
              "      <td>NaN</td>\n",
              "      <td>NaN</td>\n",
              "      <td>NaN</td>\n",
              "      <td>NaN</td>\n",
              "      <td>NaN</td>\n",
              "      <td>NaN</td>\n",
              "      <td>NaN</td>\n",
              "      <td>NaN</td>\n",
              "      <td>NaN</td>\n",
              "      <td>NaN</td>\n",
              "      <td>NaN</td>\n",
              "      <td>NaN</td>\n",
              "      <td>NaN</td>\n",
              "      <td>NaN</td>\n",
              "      <td>NaN</td>\n",
              "      <td>NaN</td>\n",
              "      <td>NaN</td>\n",
              "      <td>NaN</td>\n",
              "    </tr>\n",
              "    <tr>\n",
              "      <th>3</th>\n",
              "      <td>NaN</td>\n",
              "      <td>NaN</td>\n",
              "      <td>NaN</td>\n",
              "      <td>NaN</td>\n",
              "      <td>NaN</td>\n",
              "      <td>NaN</td>\n",
              "      <td>NaN</td>\n",
              "      <td>NaN</td>\n",
              "      <td>NaN</td>\n",
              "      <td>NaN</td>\n",
              "      <td>NaN</td>\n",
              "      <td>NaN</td>\n",
              "      <td>NaN</td>\n",
              "      <td>NaN</td>\n",
              "      <td>NaN</td>\n",
              "      <td>NaN</td>\n",
              "      <td>NaN</td>\n",
              "      <td>NaN</td>\n",
              "      <td>NaN</td>\n",
              "      <td>NaN</td>\n",
              "      <td>NaN</td>\n",
              "      <td>NaN</td>\n",
              "      <td>NaN</td>\n",
              "      <td>NaN</td>\n",
              "      <td>NaN</td>\n",
              "      <td>1.0</td>\n",
              "      <td>NaN</td>\n",
              "      <td>NaN</td>\n",
              "      <td>NaN</td>\n",
              "      <td>NaN</td>\n",
              "      <td>NaN</td>\n",
              "      <td>NaN</td>\n",
              "      <td>NaN</td>\n",
              "      <td>NaN</td>\n",
              "      <td>NaN</td>\n",
              "      <td>NaN</td>\n",
              "      <td>NaN</td>\n",
              "      <td>NaN</td>\n",
              "      <td>NaN</td>\n",
              "      <td>NaN</td>\n",
              "      <td>...</td>\n",
              "      <td>NaN</td>\n",
              "      <td>NaN</td>\n",
              "      <td>NaN</td>\n",
              "      <td>NaN</td>\n",
              "      <td>NaN</td>\n",
              "      <td>NaN</td>\n",
              "      <td>NaN</td>\n",
              "      <td>NaN</td>\n",
              "      <td>NaN</td>\n",
              "      <td>NaN</td>\n",
              "      <td>NaN</td>\n",
              "      <td>NaN</td>\n",
              "      <td>NaN</td>\n",
              "      <td>NaN</td>\n",
              "      <td>NaN</td>\n",
              "      <td>NaN</td>\n",
              "      <td>NaN</td>\n",
              "      <td>NaN</td>\n",
              "      <td>NaN</td>\n",
              "      <td>NaN</td>\n",
              "      <td>NaN</td>\n",
              "      <td>NaN</td>\n",
              "      <td>NaN</td>\n",
              "      <td>NaN</td>\n",
              "      <td>NaN</td>\n",
              "      <td>NaN</td>\n",
              "      <td>NaN</td>\n",
              "      <td>NaN</td>\n",
              "      <td>NaN</td>\n",
              "      <td>NaN</td>\n",
              "      <td>NaN</td>\n",
              "      <td>NaN</td>\n",
              "      <td>NaN</td>\n",
              "      <td>NaN</td>\n",
              "      <td>NaN</td>\n",
              "      <td>NaN</td>\n",
              "      <td>NaN</td>\n",
              "      <td>NaN</td>\n",
              "      <td>NaN</td>\n",
              "      <td>NaN</td>\n",
              "    </tr>\n",
              "    <tr>\n",
              "      <th>4</th>\n",
              "      <td>NaN</td>\n",
              "      <td>NaN</td>\n",
              "      <td>NaN</td>\n",
              "      <td>NaN</td>\n",
              "      <td>NaN</td>\n",
              "      <td>NaN</td>\n",
              "      <td>NaN</td>\n",
              "      <td>NaN</td>\n",
              "      <td>NaN</td>\n",
              "      <td>NaN</td>\n",
              "      <td>NaN</td>\n",
              "      <td>NaN</td>\n",
              "      <td>NaN</td>\n",
              "      <td>NaN</td>\n",
              "      <td>NaN</td>\n",
              "      <td>2.0</td>\n",
              "      <td>NaN</td>\n",
              "      <td>NaN</td>\n",
              "      <td>NaN</td>\n",
              "      <td>NaN</td>\n",
              "      <td>NaN</td>\n",
              "      <td>NaN</td>\n",
              "      <td>NaN</td>\n",
              "      <td>NaN</td>\n",
              "      <td>NaN</td>\n",
              "      <td>NaN</td>\n",
              "      <td>NaN</td>\n",
              "      <td>NaN</td>\n",
              "      <td>NaN</td>\n",
              "      <td>NaN</td>\n",
              "      <td>NaN</td>\n",
              "      <td>NaN</td>\n",
              "      <td>NaN</td>\n",
              "      <td>NaN</td>\n",
              "      <td>NaN</td>\n",
              "      <td>NaN</td>\n",
              "      <td>NaN</td>\n",
              "      <td>NaN</td>\n",
              "      <td>NaN</td>\n",
              "      <td>NaN</td>\n",
              "      <td>...</td>\n",
              "      <td>NaN</td>\n",
              "      <td>NaN</td>\n",
              "      <td>NaN</td>\n",
              "      <td>NaN</td>\n",
              "      <td>NaN</td>\n",
              "      <td>NaN</td>\n",
              "      <td>NaN</td>\n",
              "      <td>NaN</td>\n",
              "      <td>NaN</td>\n",
              "      <td>NaN</td>\n",
              "      <td>1.0</td>\n",
              "      <td>NaN</td>\n",
              "      <td>NaN</td>\n",
              "      <td>NaN</td>\n",
              "      <td>NaN</td>\n",
              "      <td>NaN</td>\n",
              "      <td>NaN</td>\n",
              "      <td>NaN</td>\n",
              "      <td>NaN</td>\n",
              "      <td>NaN</td>\n",
              "      <td>NaN</td>\n",
              "      <td>NaN</td>\n",
              "      <td>NaN</td>\n",
              "      <td>NaN</td>\n",
              "      <td>NaN</td>\n",
              "      <td>NaN</td>\n",
              "      <td>NaN</td>\n",
              "      <td>NaN</td>\n",
              "      <td>NaN</td>\n",
              "      <td>1.0</td>\n",
              "      <td>NaN</td>\n",
              "      <td>NaN</td>\n",
              "      <td>NaN</td>\n",
              "      <td>NaN</td>\n",
              "      <td>NaN</td>\n",
              "      <td>NaN</td>\n",
              "      <td>NaN</td>\n",
              "      <td>NaN</td>\n",
              "      <td>NaN</td>\n",
              "      <td>NaN</td>\n",
              "    </tr>\n",
              "  </tbody>\n",
              "</table>\n",
              "<p>5 rows × 300 columns</p>\n",
              "</div>"
            ],
            "text/plain": [
              "productId   0    1    2    3    4    5    ...  294  295  296  297  298  299\n",
              "customerId                                ...                              \n",
              "0           NaN  2.0  NaN  NaN  NaN  NaN  ...  NaN  NaN  NaN  NaN  NaN  NaN\n",
              "1           NaN  NaN  6.0  NaN  NaN  NaN  ...  NaN  NaN  1.0  NaN  NaN  NaN\n",
              "2           NaN  NaN  NaN  NaN  NaN  NaN  ...  NaN  NaN  NaN  NaN  NaN  NaN\n",
              "3           NaN  NaN  NaN  NaN  NaN  NaN  ...  NaN  NaN  NaN  NaN  NaN  NaN\n",
              "4           NaN  NaN  NaN  NaN  NaN  NaN  ...  NaN  NaN  NaN  NaN  NaN  NaN\n",
              "\n",
              "[5 rows x 300 columns]"
            ]
          },
          "metadata": {
            "tags": []
          },
          "execution_count": 15
        }
      ]
    },
    {
      "cell_type": "code",
      "metadata": {
        "id": "77BkO8DiITEz",
        "colab_type": "code",
        "outputId": "f590daa4-d2aa-4354-bceb-1aeb806cca77",
        "colab": {
          "base_uri": "https://localhost:8080/",
          "height": 34
        }
      },
      "source": [
        "(df_matrix.shape)"
      ],
      "execution_count": 0,
      "outputs": [
        {
          "output_type": "execute_result",
          "data": {
            "text/plain": [
              "(24429, 300)"
            ]
          },
          "metadata": {
            "tags": []
          },
          "execution_count": 16
        }
      ]
    },
    {
      "cell_type": "code",
      "metadata": {
        "id": "Gq4yqWNWIgPu",
        "colab_type": "code",
        "outputId": "cbfb4ab8-4549-480c-afca-7bdf06db61ae",
        "colab": {
          "base_uri": "https://localhost:8080/",
          "height": 290
        }
      },
      "source": [
        "df_matrix_norm = (df_matrix-df_matrix.min())/(df_matrix.max()-df_matrix.min())\n",
        "print(df_matrix_norm.shape)\n",
        "df_matrix_norm.head()"
      ],
      "execution_count": 0,
      "outputs": [
        {
          "output_type": "stream",
          "text": [
            "(24429, 300)\n"
          ],
          "name": "stdout"
        },
        {
          "output_type": "execute_result",
          "data": {
            "text/html": [
              "<div>\n",
              "<style scoped>\n",
              "    .dataframe tbody tr th:only-of-type {\n",
              "        vertical-align: middle;\n",
              "    }\n",
              "\n",
              "    .dataframe tbody tr th {\n",
              "        vertical-align: top;\n",
              "    }\n",
              "\n",
              "    .dataframe thead th {\n",
              "        text-align: right;\n",
              "    }\n",
              "</style>\n",
              "<table border=\"1\" class=\"dataframe\">\n",
              "  <thead>\n",
              "    <tr style=\"text-align: right;\">\n",
              "      <th>productId</th>\n",
              "      <th>0</th>\n",
              "      <th>1</th>\n",
              "      <th>2</th>\n",
              "      <th>3</th>\n",
              "      <th>4</th>\n",
              "      <th>5</th>\n",
              "      <th>6</th>\n",
              "      <th>7</th>\n",
              "      <th>8</th>\n",
              "      <th>9</th>\n",
              "      <th>10</th>\n",
              "      <th>11</th>\n",
              "      <th>12</th>\n",
              "      <th>13</th>\n",
              "      <th>14</th>\n",
              "      <th>15</th>\n",
              "      <th>16</th>\n",
              "      <th>17</th>\n",
              "      <th>18</th>\n",
              "      <th>19</th>\n",
              "      <th>20</th>\n",
              "      <th>21</th>\n",
              "      <th>22</th>\n",
              "      <th>23</th>\n",
              "      <th>24</th>\n",
              "      <th>25</th>\n",
              "      <th>26</th>\n",
              "      <th>27</th>\n",
              "      <th>28</th>\n",
              "      <th>29</th>\n",
              "      <th>30</th>\n",
              "      <th>31</th>\n",
              "      <th>32</th>\n",
              "      <th>33</th>\n",
              "      <th>34</th>\n",
              "      <th>35</th>\n",
              "      <th>36</th>\n",
              "      <th>37</th>\n",
              "      <th>38</th>\n",
              "      <th>39</th>\n",
              "      <th>...</th>\n",
              "      <th>260</th>\n",
              "      <th>261</th>\n",
              "      <th>262</th>\n",
              "      <th>263</th>\n",
              "      <th>264</th>\n",
              "      <th>265</th>\n",
              "      <th>266</th>\n",
              "      <th>267</th>\n",
              "      <th>268</th>\n",
              "      <th>269</th>\n",
              "      <th>270</th>\n",
              "      <th>271</th>\n",
              "      <th>272</th>\n",
              "      <th>273</th>\n",
              "      <th>274</th>\n",
              "      <th>275</th>\n",
              "      <th>276</th>\n",
              "      <th>277</th>\n",
              "      <th>278</th>\n",
              "      <th>279</th>\n",
              "      <th>280</th>\n",
              "      <th>281</th>\n",
              "      <th>282</th>\n",
              "      <th>283</th>\n",
              "      <th>284</th>\n",
              "      <th>285</th>\n",
              "      <th>286</th>\n",
              "      <th>287</th>\n",
              "      <th>288</th>\n",
              "      <th>289</th>\n",
              "      <th>290</th>\n",
              "      <th>291</th>\n",
              "      <th>292</th>\n",
              "      <th>293</th>\n",
              "      <th>294</th>\n",
              "      <th>295</th>\n",
              "      <th>296</th>\n",
              "      <th>297</th>\n",
              "      <th>298</th>\n",
              "      <th>299</th>\n",
              "    </tr>\n",
              "    <tr>\n",
              "      <th>customerId</th>\n",
              "      <th></th>\n",
              "      <th></th>\n",
              "      <th></th>\n",
              "      <th></th>\n",
              "      <th></th>\n",
              "      <th></th>\n",
              "      <th></th>\n",
              "      <th></th>\n",
              "      <th></th>\n",
              "      <th></th>\n",
              "      <th></th>\n",
              "      <th></th>\n",
              "      <th></th>\n",
              "      <th></th>\n",
              "      <th></th>\n",
              "      <th></th>\n",
              "      <th></th>\n",
              "      <th></th>\n",
              "      <th></th>\n",
              "      <th></th>\n",
              "      <th></th>\n",
              "      <th></th>\n",
              "      <th></th>\n",
              "      <th></th>\n",
              "      <th></th>\n",
              "      <th></th>\n",
              "      <th></th>\n",
              "      <th></th>\n",
              "      <th></th>\n",
              "      <th></th>\n",
              "      <th></th>\n",
              "      <th></th>\n",
              "      <th></th>\n",
              "      <th></th>\n",
              "      <th></th>\n",
              "      <th></th>\n",
              "      <th></th>\n",
              "      <th></th>\n",
              "      <th></th>\n",
              "      <th></th>\n",
              "      <th></th>\n",
              "      <th></th>\n",
              "      <th></th>\n",
              "      <th></th>\n",
              "      <th></th>\n",
              "      <th></th>\n",
              "      <th></th>\n",
              "      <th></th>\n",
              "      <th></th>\n",
              "      <th></th>\n",
              "      <th></th>\n",
              "      <th></th>\n",
              "      <th></th>\n",
              "      <th></th>\n",
              "      <th></th>\n",
              "      <th></th>\n",
              "      <th></th>\n",
              "      <th></th>\n",
              "      <th></th>\n",
              "      <th></th>\n",
              "      <th></th>\n",
              "      <th></th>\n",
              "      <th></th>\n",
              "      <th></th>\n",
              "      <th></th>\n",
              "      <th></th>\n",
              "      <th></th>\n",
              "      <th></th>\n",
              "      <th></th>\n",
              "      <th></th>\n",
              "      <th></th>\n",
              "      <th></th>\n",
              "      <th></th>\n",
              "      <th></th>\n",
              "      <th></th>\n",
              "      <th></th>\n",
              "      <th></th>\n",
              "      <th></th>\n",
              "      <th></th>\n",
              "      <th></th>\n",
              "      <th></th>\n",
              "    </tr>\n",
              "  </thead>\n",
              "  <tbody>\n",
              "    <tr>\n",
              "      <th>0</th>\n",
              "      <td>NaN</td>\n",
              "      <td>0.1</td>\n",
              "      <td>NaN</td>\n",
              "      <td>NaN</td>\n",
              "      <td>NaN</td>\n",
              "      <td>NaN</td>\n",
              "      <td>NaN</td>\n",
              "      <td>NaN</td>\n",
              "      <td>NaN</td>\n",
              "      <td>NaN</td>\n",
              "      <td>NaN</td>\n",
              "      <td>NaN</td>\n",
              "      <td>NaN</td>\n",
              "      <td>0.0</td>\n",
              "      <td>NaN</td>\n",
              "      <td>NaN</td>\n",
              "      <td>NaN</td>\n",
              "      <td>NaN</td>\n",
              "      <td>NaN</td>\n",
              "      <td>0.142857</td>\n",
              "      <td>0.0</td>\n",
              "      <td>NaN</td>\n",
              "      <td>NaN</td>\n",
              "      <td>NaN</td>\n",
              "      <td>NaN</td>\n",
              "      <td>NaN</td>\n",
              "      <td>NaN</td>\n",
              "      <td>NaN</td>\n",
              "      <td>NaN</td>\n",
              "      <td>NaN</td>\n",
              "      <td>NaN</td>\n",
              "      <td>0.2</td>\n",
              "      <td>NaN</td>\n",
              "      <td>NaN</td>\n",
              "      <td>NaN</td>\n",
              "      <td>NaN</td>\n",
              "      <td>NaN</td>\n",
              "      <td>NaN</td>\n",
              "      <td>NaN</td>\n",
              "      <td>NaN</td>\n",
              "      <td>...</td>\n",
              "      <td>0.571429</td>\n",
              "      <td>NaN</td>\n",
              "      <td>NaN</td>\n",
              "      <td>NaN</td>\n",
              "      <td>NaN</td>\n",
              "      <td>NaN</td>\n",
              "      <td>NaN</td>\n",
              "      <td>NaN</td>\n",
              "      <td>NaN</td>\n",
              "      <td>NaN</td>\n",
              "      <td>NaN</td>\n",
              "      <td>NaN</td>\n",
              "      <td>NaN</td>\n",
              "      <td>NaN</td>\n",
              "      <td>NaN</td>\n",
              "      <td>NaN</td>\n",
              "      <td>NaN</td>\n",
              "      <td>NaN</td>\n",
              "      <td>NaN</td>\n",
              "      <td>NaN</td>\n",
              "      <td>NaN</td>\n",
              "      <td>NaN</td>\n",
              "      <td>NaN</td>\n",
              "      <td>NaN</td>\n",
              "      <td>NaN</td>\n",
              "      <td>NaN</td>\n",
              "      <td>NaN</td>\n",
              "      <td>NaN</td>\n",
              "      <td>NaN</td>\n",
              "      <td>NaN</td>\n",
              "      <td>NaN</td>\n",
              "      <td>NaN</td>\n",
              "      <td>NaN</td>\n",
              "      <td>NaN</td>\n",
              "      <td>NaN</td>\n",
              "      <td>NaN</td>\n",
              "      <td>NaN</td>\n",
              "      <td>NaN</td>\n",
              "      <td>NaN</td>\n",
              "      <td>NaN</td>\n",
              "    </tr>\n",
              "    <tr>\n",
              "      <th>1</th>\n",
              "      <td>NaN</td>\n",
              "      <td>NaN</td>\n",
              "      <td>0.166667</td>\n",
              "      <td>NaN</td>\n",
              "      <td>NaN</td>\n",
              "      <td>NaN</td>\n",
              "      <td>NaN</td>\n",
              "      <td>NaN</td>\n",
              "      <td>NaN</td>\n",
              "      <td>NaN</td>\n",
              "      <td>NaN</td>\n",
              "      <td>NaN</td>\n",
              "      <td>NaN</td>\n",
              "      <td>NaN</td>\n",
              "      <td>NaN</td>\n",
              "      <td>NaN</td>\n",
              "      <td>NaN</td>\n",
              "      <td>NaN</td>\n",
              "      <td>NaN</td>\n",
              "      <td>NaN</td>\n",
              "      <td>NaN</td>\n",
              "      <td>NaN</td>\n",
              "      <td>NaN</td>\n",
              "      <td>0.0</td>\n",
              "      <td>NaN</td>\n",
              "      <td>0.0</td>\n",
              "      <td>NaN</td>\n",
              "      <td>NaN</td>\n",
              "      <td>NaN</td>\n",
              "      <td>0.0</td>\n",
              "      <td>NaN</td>\n",
              "      <td>NaN</td>\n",
              "      <td>NaN</td>\n",
              "      <td>NaN</td>\n",
              "      <td>NaN</td>\n",
              "      <td>NaN</td>\n",
              "      <td>NaN</td>\n",
              "      <td>NaN</td>\n",
              "      <td>NaN</td>\n",
              "      <td>NaN</td>\n",
              "      <td>...</td>\n",
              "      <td>NaN</td>\n",
              "      <td>NaN</td>\n",
              "      <td>NaN</td>\n",
              "      <td>NaN</td>\n",
              "      <td>NaN</td>\n",
              "      <td>NaN</td>\n",
              "      <td>NaN</td>\n",
              "      <td>NaN</td>\n",
              "      <td>NaN</td>\n",
              "      <td>NaN</td>\n",
              "      <td>NaN</td>\n",
              "      <td>NaN</td>\n",
              "      <td>NaN</td>\n",
              "      <td>NaN</td>\n",
              "      <td>0.0</td>\n",
              "      <td>NaN</td>\n",
              "      <td>NaN</td>\n",
              "      <td>NaN</td>\n",
              "      <td>NaN</td>\n",
              "      <td>NaN</td>\n",
              "      <td>NaN</td>\n",
              "      <td>NaN</td>\n",
              "      <td>NaN</td>\n",
              "      <td>NaN</td>\n",
              "      <td>NaN</td>\n",
              "      <td>0.0</td>\n",
              "      <td>NaN</td>\n",
              "      <td>NaN</td>\n",
              "      <td>NaN</td>\n",
              "      <td>NaN</td>\n",
              "      <td>NaN</td>\n",
              "      <td>NaN</td>\n",
              "      <td>NaN</td>\n",
              "      <td>0.0</td>\n",
              "      <td>NaN</td>\n",
              "      <td>NaN</td>\n",
              "      <td>0.0</td>\n",
              "      <td>NaN</td>\n",
              "      <td>NaN</td>\n",
              "      <td>NaN</td>\n",
              "    </tr>\n",
              "    <tr>\n",
              "      <th>2</th>\n",
              "      <td>NaN</td>\n",
              "      <td>NaN</td>\n",
              "      <td>NaN</td>\n",
              "      <td>NaN</td>\n",
              "      <td>NaN</td>\n",
              "      <td>NaN</td>\n",
              "      <td>NaN</td>\n",
              "      <td>NaN</td>\n",
              "      <td>NaN</td>\n",
              "      <td>NaN</td>\n",
              "      <td>NaN</td>\n",
              "      <td>0.1</td>\n",
              "      <td>NaN</td>\n",
              "      <td>NaN</td>\n",
              "      <td>NaN</td>\n",
              "      <td>NaN</td>\n",
              "      <td>NaN</td>\n",
              "      <td>NaN</td>\n",
              "      <td>NaN</td>\n",
              "      <td>NaN</td>\n",
              "      <td>NaN</td>\n",
              "      <td>NaN</td>\n",
              "      <td>NaN</td>\n",
              "      <td>0.0</td>\n",
              "      <td>NaN</td>\n",
              "      <td>NaN</td>\n",
              "      <td>NaN</td>\n",
              "      <td>NaN</td>\n",
              "      <td>NaN</td>\n",
              "      <td>0.0</td>\n",
              "      <td>NaN</td>\n",
              "      <td>NaN</td>\n",
              "      <td>NaN</td>\n",
              "      <td>0.0</td>\n",
              "      <td>NaN</td>\n",
              "      <td>NaN</td>\n",
              "      <td>NaN</td>\n",
              "      <td>NaN</td>\n",
              "      <td>NaN</td>\n",
              "      <td>NaN</td>\n",
              "      <td>...</td>\n",
              "      <td>NaN</td>\n",
              "      <td>NaN</td>\n",
              "      <td>NaN</td>\n",
              "      <td>NaN</td>\n",
              "      <td>NaN</td>\n",
              "      <td>NaN</td>\n",
              "      <td>NaN</td>\n",
              "      <td>NaN</td>\n",
              "      <td>NaN</td>\n",
              "      <td>NaN</td>\n",
              "      <td>NaN</td>\n",
              "      <td>NaN</td>\n",
              "      <td>NaN</td>\n",
              "      <td>NaN</td>\n",
              "      <td>NaN</td>\n",
              "      <td>NaN</td>\n",
              "      <td>NaN</td>\n",
              "      <td>NaN</td>\n",
              "      <td>NaN</td>\n",
              "      <td>NaN</td>\n",
              "      <td>NaN</td>\n",
              "      <td>NaN</td>\n",
              "      <td>NaN</td>\n",
              "      <td>NaN</td>\n",
              "      <td>NaN</td>\n",
              "      <td>NaN</td>\n",
              "      <td>NaN</td>\n",
              "      <td>NaN</td>\n",
              "      <td>NaN</td>\n",
              "      <td>NaN</td>\n",
              "      <td>NaN</td>\n",
              "      <td>NaN</td>\n",
              "      <td>NaN</td>\n",
              "      <td>NaN</td>\n",
              "      <td>NaN</td>\n",
              "      <td>NaN</td>\n",
              "      <td>NaN</td>\n",
              "      <td>NaN</td>\n",
              "      <td>NaN</td>\n",
              "      <td>NaN</td>\n",
              "    </tr>\n",
              "    <tr>\n",
              "      <th>3</th>\n",
              "      <td>NaN</td>\n",
              "      <td>NaN</td>\n",
              "      <td>NaN</td>\n",
              "      <td>NaN</td>\n",
              "      <td>NaN</td>\n",
              "      <td>NaN</td>\n",
              "      <td>NaN</td>\n",
              "      <td>NaN</td>\n",
              "      <td>NaN</td>\n",
              "      <td>NaN</td>\n",
              "      <td>NaN</td>\n",
              "      <td>NaN</td>\n",
              "      <td>NaN</td>\n",
              "      <td>NaN</td>\n",
              "      <td>NaN</td>\n",
              "      <td>NaN</td>\n",
              "      <td>NaN</td>\n",
              "      <td>NaN</td>\n",
              "      <td>NaN</td>\n",
              "      <td>NaN</td>\n",
              "      <td>NaN</td>\n",
              "      <td>NaN</td>\n",
              "      <td>NaN</td>\n",
              "      <td>NaN</td>\n",
              "      <td>NaN</td>\n",
              "      <td>0.0</td>\n",
              "      <td>NaN</td>\n",
              "      <td>NaN</td>\n",
              "      <td>NaN</td>\n",
              "      <td>NaN</td>\n",
              "      <td>NaN</td>\n",
              "      <td>NaN</td>\n",
              "      <td>NaN</td>\n",
              "      <td>NaN</td>\n",
              "      <td>NaN</td>\n",
              "      <td>NaN</td>\n",
              "      <td>NaN</td>\n",
              "      <td>NaN</td>\n",
              "      <td>NaN</td>\n",
              "      <td>NaN</td>\n",
              "      <td>...</td>\n",
              "      <td>NaN</td>\n",
              "      <td>NaN</td>\n",
              "      <td>NaN</td>\n",
              "      <td>NaN</td>\n",
              "      <td>NaN</td>\n",
              "      <td>NaN</td>\n",
              "      <td>NaN</td>\n",
              "      <td>NaN</td>\n",
              "      <td>NaN</td>\n",
              "      <td>NaN</td>\n",
              "      <td>NaN</td>\n",
              "      <td>NaN</td>\n",
              "      <td>NaN</td>\n",
              "      <td>NaN</td>\n",
              "      <td>NaN</td>\n",
              "      <td>NaN</td>\n",
              "      <td>NaN</td>\n",
              "      <td>NaN</td>\n",
              "      <td>NaN</td>\n",
              "      <td>NaN</td>\n",
              "      <td>NaN</td>\n",
              "      <td>NaN</td>\n",
              "      <td>NaN</td>\n",
              "      <td>NaN</td>\n",
              "      <td>NaN</td>\n",
              "      <td>NaN</td>\n",
              "      <td>NaN</td>\n",
              "      <td>NaN</td>\n",
              "      <td>NaN</td>\n",
              "      <td>NaN</td>\n",
              "      <td>NaN</td>\n",
              "      <td>NaN</td>\n",
              "      <td>NaN</td>\n",
              "      <td>NaN</td>\n",
              "      <td>NaN</td>\n",
              "      <td>NaN</td>\n",
              "      <td>NaN</td>\n",
              "      <td>NaN</td>\n",
              "      <td>NaN</td>\n",
              "      <td>NaN</td>\n",
              "    </tr>\n",
              "    <tr>\n",
              "      <th>4</th>\n",
              "      <td>NaN</td>\n",
              "      <td>NaN</td>\n",
              "      <td>NaN</td>\n",
              "      <td>NaN</td>\n",
              "      <td>NaN</td>\n",
              "      <td>NaN</td>\n",
              "      <td>NaN</td>\n",
              "      <td>NaN</td>\n",
              "      <td>NaN</td>\n",
              "      <td>NaN</td>\n",
              "      <td>NaN</td>\n",
              "      <td>NaN</td>\n",
              "      <td>NaN</td>\n",
              "      <td>NaN</td>\n",
              "      <td>NaN</td>\n",
              "      <td>0.022222</td>\n",
              "      <td>NaN</td>\n",
              "      <td>NaN</td>\n",
              "      <td>NaN</td>\n",
              "      <td>NaN</td>\n",
              "      <td>NaN</td>\n",
              "      <td>NaN</td>\n",
              "      <td>NaN</td>\n",
              "      <td>NaN</td>\n",
              "      <td>NaN</td>\n",
              "      <td>NaN</td>\n",
              "      <td>NaN</td>\n",
              "      <td>NaN</td>\n",
              "      <td>NaN</td>\n",
              "      <td>NaN</td>\n",
              "      <td>NaN</td>\n",
              "      <td>NaN</td>\n",
              "      <td>NaN</td>\n",
              "      <td>NaN</td>\n",
              "      <td>NaN</td>\n",
              "      <td>NaN</td>\n",
              "      <td>NaN</td>\n",
              "      <td>NaN</td>\n",
              "      <td>NaN</td>\n",
              "      <td>NaN</td>\n",
              "      <td>...</td>\n",
              "      <td>NaN</td>\n",
              "      <td>NaN</td>\n",
              "      <td>NaN</td>\n",
              "      <td>NaN</td>\n",
              "      <td>NaN</td>\n",
              "      <td>NaN</td>\n",
              "      <td>NaN</td>\n",
              "      <td>NaN</td>\n",
              "      <td>NaN</td>\n",
              "      <td>NaN</td>\n",
              "      <td>0.0</td>\n",
              "      <td>NaN</td>\n",
              "      <td>NaN</td>\n",
              "      <td>NaN</td>\n",
              "      <td>NaN</td>\n",
              "      <td>NaN</td>\n",
              "      <td>NaN</td>\n",
              "      <td>NaN</td>\n",
              "      <td>NaN</td>\n",
              "      <td>NaN</td>\n",
              "      <td>NaN</td>\n",
              "      <td>NaN</td>\n",
              "      <td>NaN</td>\n",
              "      <td>NaN</td>\n",
              "      <td>NaN</td>\n",
              "      <td>NaN</td>\n",
              "      <td>NaN</td>\n",
              "      <td>NaN</td>\n",
              "      <td>NaN</td>\n",
              "      <td>0.0</td>\n",
              "      <td>NaN</td>\n",
              "      <td>NaN</td>\n",
              "      <td>NaN</td>\n",
              "      <td>NaN</td>\n",
              "      <td>NaN</td>\n",
              "      <td>NaN</td>\n",
              "      <td>NaN</td>\n",
              "      <td>NaN</td>\n",
              "      <td>NaN</td>\n",
              "      <td>NaN</td>\n",
              "    </tr>\n",
              "  </tbody>\n",
              "</table>\n",
              "<p>5 rows × 300 columns</p>\n",
              "</div>"
            ],
            "text/plain": [
              "productId   0    1         2    3    4    5    ...  294  295  296  297  298  299\n",
              "customerId                                     ...                              \n",
              "0           NaN  0.1       NaN  NaN  NaN  NaN  ...  NaN  NaN  NaN  NaN  NaN  NaN\n",
              "1           NaN  NaN  0.166667  NaN  NaN  NaN  ...  NaN  NaN  0.0  NaN  NaN  NaN\n",
              "2           NaN  NaN       NaN  NaN  NaN  NaN  ...  NaN  NaN  NaN  NaN  NaN  NaN\n",
              "3           NaN  NaN       NaN  NaN  NaN  NaN  ...  NaN  NaN  NaN  NaN  NaN  NaN\n",
              "4           NaN  NaN       NaN  NaN  NaN  NaN  ...  NaN  NaN  NaN  NaN  NaN  NaN\n",
              "\n",
              "[5 rows x 300 columns]"
            ]
          },
          "metadata": {
            "tags": []
          },
          "execution_count": 17
        }
      ]
    },
    {
      "cell_type": "code",
      "metadata": {
        "id": "EyhRJKWWKV-j",
        "colab_type": "code",
        "outputId": "14937b27-a7ef-472f-93ef-77cc4fb182e2",
        "colab": {
          "base_uri": "https://localhost:8080/",
          "height": 212
        }
      },
      "source": [
        "d = df_matrix_norm.reset_index()\n",
        "d.index.names = ['scaled_purchase_freq']\n",
        "data_norm = pd.melt(d, id_vars=['customerId'], value_name='scaled_purchase_freq').dropna()\n",
        "print(data_norm.shape)\n",
        "data_norm.head()"
      ],
      "execution_count": 0,
      "outputs": [
        {
          "output_type": "stream",
          "text": [
            "(133585, 3)\n"
          ],
          "name": "stdout"
        },
        {
          "output_type": "execute_result",
          "data": {
            "text/html": [
              "<div>\n",
              "<style scoped>\n",
              "    .dataframe tbody tr th:only-of-type {\n",
              "        vertical-align: middle;\n",
              "    }\n",
              "\n",
              "    .dataframe tbody tr th {\n",
              "        vertical-align: top;\n",
              "    }\n",
              "\n",
              "    .dataframe thead th {\n",
              "        text-align: right;\n",
              "    }\n",
              "</style>\n",
              "<table border=\"1\" class=\"dataframe\">\n",
              "  <thead>\n",
              "    <tr style=\"text-align: right;\">\n",
              "      <th></th>\n",
              "      <th>customerId</th>\n",
              "      <th>productId</th>\n",
              "      <th>scaled_purchase_freq</th>\n",
              "    </tr>\n",
              "  </thead>\n",
              "  <tbody>\n",
              "    <tr>\n",
              "      <th>9</th>\n",
              "      <td>9</td>\n",
              "      <td>0</td>\n",
              "      <td>0.133333</td>\n",
              "    </tr>\n",
              "    <tr>\n",
              "      <th>25</th>\n",
              "      <td>25</td>\n",
              "      <td>0</td>\n",
              "      <td>0.133333</td>\n",
              "    </tr>\n",
              "    <tr>\n",
              "      <th>32</th>\n",
              "      <td>33</td>\n",
              "      <td>0</td>\n",
              "      <td>0.133333</td>\n",
              "    </tr>\n",
              "    <tr>\n",
              "      <th>35</th>\n",
              "      <td>36</td>\n",
              "      <td>0</td>\n",
              "      <td>0.133333</td>\n",
              "    </tr>\n",
              "    <tr>\n",
              "      <th>43</th>\n",
              "      <td>44</td>\n",
              "      <td>0</td>\n",
              "      <td>0.133333</td>\n",
              "    </tr>\n",
              "  </tbody>\n",
              "</table>\n",
              "</div>"
            ],
            "text/plain": [
              "    customerId productId  scaled_purchase_freq\n",
              "9            9         0              0.133333\n",
              "25          25         0              0.133333\n",
              "32          33         0              0.133333\n",
              "35          36         0              0.133333\n",
              "43          44         0              0.133333"
            ]
          },
          "metadata": {
            "tags": []
          },
          "execution_count": 18
        }
      ]
    },
    {
      "cell_type": "code",
      "metadata": {
        "id": "orXaqtZ5Kkkb",
        "colab_type": "code",
        "colab": {}
      },
      "source": [
        "def normalize_data(data):\n",
        "    df_matrix = pd.pivot_table(data, values='purchase_count', index='customerId', columns='productId')\n",
        "    df_matrix_norm = (df_matrix-df_matrix.min())/(df_matrix.max()-df_matrix.min())\n",
        "    d = df_matrix_norm.reset_index()\n",
        "    d.index.names = ['scaled_purchase_freq']\n",
        "    return pd.melt(d, id_vars=['customerId'], value_name='scaled_purchase_freq').dropna()"
      ],
      "execution_count": 0,
      "outputs": []
    },
    {
      "cell_type": "code",
      "metadata": {
        "id": "xVepeFk_Kz0D",
        "colab_type": "code",
        "outputId": "16e7d035-9c3f-40ad-e3e5-747caa2e62c0",
        "colab": {
          "base_uri": "https://localhost:8080/",
          "height": 34
        }
      },
      "source": [
        "train, test = train_test_split(data, test_size = .2)\n",
        "print(train.shape, test.shape)"
      ],
      "execution_count": 0,
      "outputs": [
        {
          "output_type": "stream",
          "text": [
            "(106868, 3) (26717, 3)\n"
          ],
          "name": "stdout"
        }
      ]
    },
    {
      "cell_type": "code",
      "metadata": {
        "id": "iH5yjExiK2-o",
        "colab_type": "code",
        "colab": {}
      },
      "source": [
        "\n",
        "# Using turicreate library, we convert dataframe to SFrame - this will be useful in the modeling part\n",
        "\n",
        "train_data = tc.SFrame(train)\n",
        "test_data = tc.SFrame(test)"
      ],
      "execution_count": 0,
      "outputs": []
    },
    {
      "cell_type": "code",
      "metadata": {
        "id": "VUQf10OGK9Ta",
        "colab_type": "code",
        "outputId": "b87358fd-5dee-47c6-e03e-ab2d8ff6a706",
        "colab": {
          "base_uri": "https://localhost:8080/",
          "height": 271
        }
      },
      "source": [
        "train_data"
      ],
      "execution_count": 0,
      "outputs": [
        {
          "output_type": "execute_result",
          "data": {
            "text/html": [
              "<div style=\"max-height:1000px;max-width:1500px;overflow:auto;\"><table frame=\"box\" rules=\"cols\">\n",
              "    <tr>\n",
              "        <th style=\"padding-left: 1em; padding-right: 1em; text-align: center\">customerId</th>\n",
              "        <th style=\"padding-left: 1em; padding-right: 1em; text-align: center\">productId</th>\n",
              "        <th style=\"padding-left: 1em; padding-right: 1em; text-align: center\">purchase_count</th>\n",
              "    </tr>\n",
              "    <tr>\n",
              "        <td style=\"padding-left: 1em; padding-right: 1em; text-align: center; vertical-align: top\">12191</td>\n",
              "        <td style=\"padding-left: 1em; padding-right: 1em; text-align: center; vertical-align: top\">44</td>\n",
              "        <td style=\"padding-left: 1em; padding-right: 1em; text-align: center; vertical-align: top\">1</td>\n",
              "    </tr>\n",
              "    <tr>\n",
              "        <td style=\"padding-left: 1em; padding-right: 1em; text-align: center; vertical-align: top\">11279</td>\n",
              "        <td style=\"padding-left: 1em; padding-right: 1em; text-align: center; vertical-align: top\">2</td>\n",
              "        <td style=\"padding-left: 1em; padding-right: 1em; text-align: center; vertical-align: top\">1</td>\n",
              "    </tr>\n",
              "    <tr>\n",
              "        <td style=\"padding-left: 1em; padding-right: 1em; text-align: center; vertical-align: top\">15897</td>\n",
              "        <td style=\"padding-left: 1em; padding-right: 1em; text-align: center; vertical-align: top\">11</td>\n",
              "        <td style=\"padding-left: 1em; padding-right: 1em; text-align: center; vertical-align: top\">1</td>\n",
              "    </tr>\n",
              "    <tr>\n",
              "        <td style=\"padding-left: 1em; padding-right: 1em; text-align: center; vertical-align: top\">10896</td>\n",
              "        <td style=\"padding-left: 1em; padding-right: 1em; text-align: center; vertical-align: top\">36</td>\n",
              "        <td style=\"padding-left: 1em; padding-right: 1em; text-align: center; vertical-align: top\">2</td>\n",
              "    </tr>\n",
              "    <tr>\n",
              "        <td style=\"padding-left: 1em; padding-right: 1em; text-align: center; vertical-align: top\">2268</td>\n",
              "        <td style=\"padding-left: 1em; padding-right: 1em; text-align: center; vertical-align: top\">5</td>\n",
              "        <td style=\"padding-left: 1em; padding-right: 1em; text-align: center; vertical-align: top\">9</td>\n",
              "    </tr>\n",
              "    <tr>\n",
              "        <td style=\"padding-left: 1em; padding-right: 1em; text-align: center; vertical-align: top\">437</td>\n",
              "        <td style=\"padding-left: 1em; padding-right: 1em; text-align: center; vertical-align: top\">7</td>\n",
              "        <td style=\"padding-left: 1em; padding-right: 1em; text-align: center; vertical-align: top\">2</td>\n",
              "    </tr>\n",
              "    <tr>\n",
              "        <td style=\"padding-left: 1em; padding-right: 1em; text-align: center; vertical-align: top\">28316</td>\n",
              "        <td style=\"padding-left: 1em; padding-right: 1em; text-align: center; vertical-align: top\">106</td>\n",
              "        <td style=\"padding-left: 1em; padding-right: 1em; text-align: center; vertical-align: top\">1</td>\n",
              "    </tr>\n",
              "    <tr>\n",
              "        <td style=\"padding-left: 1em; padding-right: 1em; text-align: center; vertical-align: top\">5042</td>\n",
              "        <td style=\"padding-left: 1em; padding-right: 1em; text-align: center; vertical-align: top\">152</td>\n",
              "        <td style=\"padding-left: 1em; padding-right: 1em; text-align: center; vertical-align: top\">1</td>\n",
              "    </tr>\n",
              "    <tr>\n",
              "        <td style=\"padding-left: 1em; padding-right: 1em; text-align: center; vertical-align: top\">13595</td>\n",
              "        <td style=\"padding-left: 1em; padding-right: 1em; text-align: center; vertical-align: top\">4</td>\n",
              "        <td style=\"padding-left: 1em; padding-right: 1em; text-align: center; vertical-align: top\">1</td>\n",
              "    </tr>\n",
              "    <tr>\n",
              "        <td style=\"padding-left: 1em; padding-right: 1em; text-align: center; vertical-align: top\">9993</td>\n",
              "        <td style=\"padding-left: 1em; padding-right: 1em; text-align: center; vertical-align: top\">161</td>\n",
              "        <td style=\"padding-left: 1em; padding-right: 1em; text-align: center; vertical-align: top\">1</td>\n",
              "    </tr>\n",
              "</table>\n",
              "[106868 rows x 3 columns]<br/>Note: Only the head of the SFrame is printed.<br/>You can use print_rows(num_rows=m, num_columns=n) to print more rows and columns.\n",
              "</div>"
            ],
            "text/plain": [
              "Columns:\n",
              "\tcustomerId\tint\n",
              "\tproductId\tint\n",
              "\tpurchase_count\tint\n",
              "\n",
              "Rows: 106868\n",
              "\n",
              "Data:\n",
              "+------------+-----------+----------------+\n",
              "| customerId | productId | purchase_count |\n",
              "+------------+-----------+----------------+\n",
              "|   12191    |     44    |       1        |\n",
              "|   11279    |     2     |       1        |\n",
              "|   15897    |     11    |       1        |\n",
              "|   10896    |     36    |       2        |\n",
              "|    2268    |     5     |       9        |\n",
              "|    437     |     7     |       2        |\n",
              "|   28316    |    106    |       1        |\n",
              "|    5042    |    152    |       1        |\n",
              "|   13595    |     4     |       1        |\n",
              "|    9993    |    161    |       1        |\n",
              "+------------+-----------+----------------+\n",
              "[106868 rows x 3 columns]\n",
              "Note: Only the head of the SFrame is printed.\n",
              "You can use print_rows(num_rows=m, num_columns=n) to print more rows and columns."
            ]
          },
          "metadata": {
            "tags": []
          },
          "execution_count": 22
        }
      ]
    },
    {
      "cell_type": "code",
      "metadata": {
        "id": "MUtbSVuKLBfS",
        "colab_type": "code",
        "outputId": "2c74acfb-24f8-4392-ec0b-ccf4fd62f521",
        "colab": {
          "base_uri": "https://localhost:8080/",
          "height": 271
        }
      },
      "source": [
        "test_data"
      ],
      "execution_count": 0,
      "outputs": [
        {
          "output_type": "execute_result",
          "data": {
            "text/html": [
              "<div style=\"max-height:1000px;max-width:1500px;overflow:auto;\"><table frame=\"box\" rules=\"cols\">\n",
              "    <tr>\n",
              "        <th style=\"padding-left: 1em; padding-right: 1em; text-align: center\">customerId</th>\n",
              "        <th style=\"padding-left: 1em; padding-right: 1em; text-align: center\">productId</th>\n",
              "        <th style=\"padding-left: 1em; padding-right: 1em; text-align: center\">purchase_count</th>\n",
              "    </tr>\n",
              "    <tr>\n",
              "        <td style=\"padding-left: 1em; padding-right: 1em; text-align: center; vertical-align: top\">15587</td>\n",
              "        <td style=\"padding-left: 1em; padding-right: 1em; text-align: center; vertical-align: top\">13</td>\n",
              "        <td style=\"padding-left: 1em; padding-right: 1em; text-align: center; vertical-align: top\">2</td>\n",
              "    </tr>\n",
              "    <tr>\n",
              "        <td style=\"padding-left: 1em; padding-right: 1em; text-align: center; vertical-align: top\">26508</td>\n",
              "        <td style=\"padding-left: 1em; padding-right: 1em; text-align: center; vertical-align: top\">299</td>\n",
              "        <td style=\"padding-left: 1em; padding-right: 1em; text-align: center; vertical-align: top\">1</td>\n",
              "    </tr>\n",
              "    <tr>\n",
              "        <td style=\"padding-left: 1em; padding-right: 1em; text-align: center; vertical-align: top\">3893</td>\n",
              "        <td style=\"padding-left: 1em; padding-right: 1em; text-align: center; vertical-align: top\">215</td>\n",
              "        <td style=\"padding-left: 1em; padding-right: 1em; text-align: center; vertical-align: top\">1</td>\n",
              "    </tr>\n",
              "    <tr>\n",
              "        <td style=\"padding-left: 1em; padding-right: 1em; text-align: center; vertical-align: top\">2431</td>\n",
              "        <td style=\"padding-left: 1em; padding-right: 1em; text-align: center; vertical-align: top\">221</td>\n",
              "        <td style=\"padding-left: 1em; padding-right: 1em; text-align: center; vertical-align: top\">1</td>\n",
              "    </tr>\n",
              "    <tr>\n",
              "        <td style=\"padding-left: 1em; padding-right: 1em; text-align: center; vertical-align: top\">21965</td>\n",
              "        <td style=\"padding-left: 1em; padding-right: 1em; text-align: center; vertical-align: top\">257</td>\n",
              "        <td style=\"padding-left: 1em; padding-right: 1em; text-align: center; vertical-align: top\">1</td>\n",
              "    </tr>\n",
              "    <tr>\n",
              "        <td style=\"padding-left: 1em; padding-right: 1em; text-align: center; vertical-align: top\">22422</td>\n",
              "        <td style=\"padding-left: 1em; padding-right: 1em; text-align: center; vertical-align: top\">31</td>\n",
              "        <td style=\"padding-left: 1em; padding-right: 1em; text-align: center; vertical-align: top\">2</td>\n",
              "    </tr>\n",
              "    <tr>\n",
              "        <td style=\"padding-left: 1em; padding-right: 1em; text-align: center; vertical-align: top\">6348</td>\n",
              "        <td style=\"padding-left: 1em; padding-right: 1em; text-align: center; vertical-align: top\">244</td>\n",
              "        <td style=\"padding-left: 1em; padding-right: 1em; text-align: center; vertical-align: top\">1</td>\n",
              "    </tr>\n",
              "    <tr>\n",
              "        <td style=\"padding-left: 1em; padding-right: 1em; text-align: center; vertical-align: top\">13060</td>\n",
              "        <td style=\"padding-left: 1em; padding-right: 1em; text-align: center; vertical-align: top\">211</td>\n",
              "        <td style=\"padding-left: 1em; padding-right: 1em; text-align: center; vertical-align: top\">1</td>\n",
              "    </tr>\n",
              "    <tr>\n",
              "        <td style=\"padding-left: 1em; padding-right: 1em; text-align: center; vertical-align: top\">20372</td>\n",
              "        <td style=\"padding-left: 1em; padding-right: 1em; text-align: center; vertical-align: top\">73</td>\n",
              "        <td style=\"padding-left: 1em; padding-right: 1em; text-align: center; vertical-align: top\">1</td>\n",
              "    </tr>\n",
              "    <tr>\n",
              "        <td style=\"padding-left: 1em; padding-right: 1em; text-align: center; vertical-align: top\">8802</td>\n",
              "        <td style=\"padding-left: 1em; padding-right: 1em; text-align: center; vertical-align: top\">166</td>\n",
              "        <td style=\"padding-left: 1em; padding-right: 1em; text-align: center; vertical-align: top\">1</td>\n",
              "    </tr>\n",
              "</table>\n",
              "[26717 rows x 3 columns]<br/>Note: Only the head of the SFrame is printed.<br/>You can use print_rows(num_rows=m, num_columns=n) to print more rows and columns.\n",
              "</div>"
            ],
            "text/plain": [
              "Columns:\n",
              "\tcustomerId\tint\n",
              "\tproductId\tint\n",
              "\tpurchase_count\tint\n",
              "\n",
              "Rows: 26717\n",
              "\n",
              "Data:\n",
              "+------------+-----------+----------------+\n",
              "| customerId | productId | purchase_count |\n",
              "+------------+-----------+----------------+\n",
              "|   15587    |     13    |       2        |\n",
              "|   26508    |    299    |       1        |\n",
              "|    3893    |    215    |       1        |\n",
              "|    2431    |    221    |       1        |\n",
              "|   21965    |    257    |       1        |\n",
              "|   22422    |     31    |       2        |\n",
              "|    6348    |    244    |       1        |\n",
              "|   13060    |    211    |       1        |\n",
              "|   20372    |     73    |       1        |\n",
              "|    8802    |    166    |       1        |\n",
              "+------------+-----------+----------------+\n",
              "[26717 rows x 3 columns]\n",
              "Note: Only the head of the SFrame is printed.\n",
              "You can use print_rows(num_rows=m, num_columns=n) to print more rows and columns."
            ]
          },
          "metadata": {
            "tags": []
          },
          "execution_count": 23
        }
      ]
    },
    {
      "cell_type": "code",
      "metadata": {
        "id": "VjIWqqjcNgFZ",
        "colab_type": "code",
        "colab": {}
      },
      "source": [
        "# We can define a function for this step as follows\n",
        "\n",
        "def split_data(data):\n",
        "    '''\n",
        "    Splits dataset into training and test set.\n",
        "    \n",
        "    Args:\n",
        "        data (pandas.DataFrame)\n",
        "        \n",
        "    Returns\n",
        "        train_data (tc.SFrame)\n",
        "        test_data (tc.SFrame)\n",
        "    '''\n",
        "    train, test = train_test_split(data, test_size = .2)\n",
        "    train_data = tc.SFrame(train)\n",
        "    test_data = tc.SFrame(test)\n",
        "    return train_data, test_data"
      ],
      "execution_count": 0,
      "outputs": []
    },
    {
      "cell_type": "code",
      "metadata": {
        "id": "Pn3VwcNFLETI",
        "colab_type": "code",
        "colab": {}
      },
      "source": [
        "# lets try with both dummy table and scaled/normalized purchase table\n",
        "\n",
        "train_data_dummy, test_data_dummy = split_data(data_dummy)\n",
        "train_data_norm, test_data_norm = split_data(data_norm)"
      ],
      "execution_count": 0,
      "outputs": []
    },
    {
      "cell_type": "markdown",
      "metadata": {
        "id": "rf28nbUtL7xi",
        "colab_type": "text"
      },
      "source": [
        "Baseline Model\n",
        "\n",
        "Before running a more complicated approach such as collaborative filtering, we would like to use a baseline model to compare and evaluate models. Since baseline typically uses a very simple approach, techniques used beyond this approach should be chosen if they show relatively better accuracy and complexity.\n",
        "\n",
        "\n",
        "Using a Popularity model as a baseline\n",
        "\n",
        "The popularity model takes the most popular items for recommendation. These items are products with the highest number of sells across customers.\n",
        "We use turicreate library for running and evaluating both baseline and collaborative filtering models below\n",
        "\n",
        "Training data is used for model selection"
      ]
    },
    {
      "cell_type": "code",
      "metadata": {
        "id": "jGhYIPAcL39c",
        "colab_type": "code",
        "colab": {}
      },
      "source": [
        "# variables to define field names\n",
        "user_id = 'customerId'\n",
        "item_id = 'productId'\n",
        "target = 'purchase_count'\n",
        "users_to_recommend = list(transactions[user_id])\n",
        "n_rec = 10 # number of items to recommend\n",
        "n_display = 30"
      ],
      "execution_count": 0,
      "outputs": []
    },
    {
      "cell_type": "code",
      "metadata": {
        "id": "XTnJcCTLMVN1",
        "colab_type": "code",
        "outputId": "793122bf-12b9-4028-e3e1-e10877b02025",
        "colab": {
          "base_uri": "https://localhost:8080/",
          "height": 84
        }
      },
      "source": [
        "popularity_model = tc.popularity_recommender.create(train_data, \n",
        "                                                    user_id=user_id, \n",
        "                                                    item_id=item_id, \n",
        "                                                    target=target)"
      ],
      "execution_count": 0,
      "outputs": [
        {
          "output_type": "display_data",
          "data": {
            "text/html": [
              "<pre>Preparing data set.</pre>"
            ],
            "text/plain": [
              "Preparing data set."
            ]
          },
          "metadata": {
            "tags": []
          }
        },
        {
          "output_type": "display_data",
          "data": {
            "text/html": [
              "<pre>    Data has 106868 observations with 23346 users and 300 items.</pre>"
            ],
            "text/plain": [
              "    Data has 106868 observations with 23346 users and 300 items."
            ]
          },
          "metadata": {
            "tags": []
          }
        },
        {
          "output_type": "display_data",
          "data": {
            "text/html": [
              "<pre>    Data prepared in: 0.111831s</pre>"
            ],
            "text/plain": [
              "    Data prepared in: 0.111831s"
            ]
          },
          "metadata": {
            "tags": []
          }
        },
        {
          "output_type": "display_data",
          "data": {
            "text/html": [
              "<pre>106868 observations to process; with 300 unique items.</pre>"
            ],
            "text/plain": [
              "106868 observations to process; with 300 unique items."
            ]
          },
          "metadata": {
            "tags": []
          }
        }
      ]
    },
    {
      "cell_type": "code",
      "metadata": {
        "id": "nINJfMyxMZJC",
        "colab_type": "code",
        "outputId": "7f8fca45-6029-4052-c627-2e5a80749e8a",
        "colab": {
          "base_uri": "https://localhost:8080/",
          "height": 1000
        }
      },
      "source": [
        "# Get recommendations for a list of users to recommend (from customers file)\n",
        "# Printed below is head / top 30 rows for first 3 customers with 10 recommendations each\n",
        "\n",
        "popularity_recomm = popularity_model.recommend(users=users_to_recommend, k=n_rec)\n",
        "popularity_recomm.print_rows(n_display)"
      ],
      "execution_count": 0,
      "outputs": [
        {
          "output_type": "display_data",
          "data": {
            "text/html": [
              "<pre>recommendations finished on 1000/62483 queries. users per second: 103541</pre>"
            ],
            "text/plain": [
              "recommendations finished on 1000/62483 queries. users per second: 103541"
            ]
          },
          "metadata": {
            "tags": []
          }
        },
        {
          "output_type": "display_data",
          "data": {
            "text/html": [
              "<pre>recommendations finished on 2000/62483 queries. users per second: 117461</pre>"
            ],
            "text/plain": [
              "recommendations finished on 2000/62483 queries. users per second: 117461"
            ]
          },
          "metadata": {
            "tags": []
          }
        },
        {
          "output_type": "display_data",
          "data": {
            "text/html": [
              "<pre>recommendations finished on 3000/62483 queries. users per second: 126444</pre>"
            ],
            "text/plain": [
              "recommendations finished on 3000/62483 queries. users per second: 126444"
            ]
          },
          "metadata": {
            "tags": []
          }
        },
        {
          "output_type": "display_data",
          "data": {
            "text/html": [
              "<pre>recommendations finished on 4000/62483 queries. users per second: 133770</pre>"
            ],
            "text/plain": [
              "recommendations finished on 4000/62483 queries. users per second: 133770"
            ]
          },
          "metadata": {
            "tags": []
          }
        },
        {
          "output_type": "display_data",
          "data": {
            "text/html": [
              "<pre>recommendations finished on 5000/62483 queries. users per second: 135955</pre>"
            ],
            "text/plain": [
              "recommendations finished on 5000/62483 queries. users per second: 135955"
            ]
          },
          "metadata": {
            "tags": []
          }
        },
        {
          "output_type": "display_data",
          "data": {
            "text/html": [
              "<pre>recommendations finished on 6000/62483 queries. users per second: 138619</pre>"
            ],
            "text/plain": [
              "recommendations finished on 6000/62483 queries. users per second: 138619"
            ]
          },
          "metadata": {
            "tags": []
          }
        },
        {
          "output_type": "display_data",
          "data": {
            "text/html": [
              "<pre>recommendations finished on 7000/62483 queries. users per second: 140413</pre>"
            ],
            "text/plain": [
              "recommendations finished on 7000/62483 queries. users per second: 140413"
            ]
          },
          "metadata": {
            "tags": []
          }
        },
        {
          "output_type": "display_data",
          "data": {
            "text/html": [
              "<pre>recommendations finished on 8000/62483 queries. users per second: 143010</pre>"
            ],
            "text/plain": [
              "recommendations finished on 8000/62483 queries. users per second: 143010"
            ]
          },
          "metadata": {
            "tags": []
          }
        },
        {
          "output_type": "display_data",
          "data": {
            "text/html": [
              "<pre>recommendations finished on 9000/62483 queries. users per second: 141752</pre>"
            ],
            "text/plain": [
              "recommendations finished on 9000/62483 queries. users per second: 141752"
            ]
          },
          "metadata": {
            "tags": []
          }
        },
        {
          "output_type": "display_data",
          "data": {
            "text/html": [
              "<pre>recommendations finished on 10000/62483 queries. users per second: 140203</pre>"
            ],
            "text/plain": [
              "recommendations finished on 10000/62483 queries. users per second: 140203"
            ]
          },
          "metadata": {
            "tags": []
          }
        },
        {
          "output_type": "display_data",
          "data": {
            "text/html": [
              "<pre>recommendations finished on 11000/62483 queries. users per second: 140471</pre>"
            ],
            "text/plain": [
              "recommendations finished on 11000/62483 queries. users per second: 140471"
            ]
          },
          "metadata": {
            "tags": []
          }
        },
        {
          "output_type": "display_data",
          "data": {
            "text/html": [
              "<pre>recommendations finished on 12000/62483 queries. users per second: 136821</pre>"
            ],
            "text/plain": [
              "recommendations finished on 12000/62483 queries. users per second: 136821"
            ]
          },
          "metadata": {
            "tags": []
          }
        },
        {
          "output_type": "display_data",
          "data": {
            "text/html": [
              "<pre>recommendations finished on 13000/62483 queries. users per second: 139112</pre>"
            ],
            "text/plain": [
              "recommendations finished on 13000/62483 queries. users per second: 139112"
            ]
          },
          "metadata": {
            "tags": []
          }
        },
        {
          "output_type": "display_data",
          "data": {
            "text/html": [
              "<pre>recommendations finished on 14000/62483 queries. users per second: 141966</pre>"
            ],
            "text/plain": [
              "recommendations finished on 14000/62483 queries. users per second: 141966"
            ]
          },
          "metadata": {
            "tags": []
          }
        },
        {
          "output_type": "display_data",
          "data": {
            "text/html": [
              "<pre>recommendations finished on 15000/62483 queries. users per second: 140991</pre>"
            ],
            "text/plain": [
              "recommendations finished on 15000/62483 queries. users per second: 140991"
            ]
          },
          "metadata": {
            "tags": []
          }
        },
        {
          "output_type": "display_data",
          "data": {
            "text/html": [
              "<pre>recommendations finished on 16000/62483 queries. users per second: 141887</pre>"
            ],
            "text/plain": [
              "recommendations finished on 16000/62483 queries. users per second: 141887"
            ]
          },
          "metadata": {
            "tags": []
          }
        },
        {
          "output_type": "display_data",
          "data": {
            "text/html": [
              "<pre>recommendations finished on 17000/62483 queries. users per second: 141099</pre>"
            ],
            "text/plain": [
              "recommendations finished on 17000/62483 queries. users per second: 141099"
            ]
          },
          "metadata": {
            "tags": []
          }
        },
        {
          "output_type": "display_data",
          "data": {
            "text/html": [
              "<pre>recommendations finished on 18000/62483 queries. users per second: 140456</pre>"
            ],
            "text/plain": [
              "recommendations finished on 18000/62483 queries. users per second: 140456"
            ]
          },
          "metadata": {
            "tags": []
          }
        },
        {
          "output_type": "display_data",
          "data": {
            "text/html": [
              "<pre>recommendations finished on 19000/62483 queries. users per second: 142933</pre>"
            ],
            "text/plain": [
              "recommendations finished on 19000/62483 queries. users per second: 142933"
            ]
          },
          "metadata": {
            "tags": []
          }
        },
        {
          "output_type": "display_data",
          "data": {
            "text/html": [
              "<pre>recommendations finished on 20000/62483 queries. users per second: 143725</pre>"
            ],
            "text/plain": [
              "recommendations finished on 20000/62483 queries. users per second: 143725"
            ]
          },
          "metadata": {
            "tags": []
          }
        },
        {
          "output_type": "display_data",
          "data": {
            "text/html": [
              "<pre>recommendations finished on 21000/62483 queries. users per second: 143679</pre>"
            ],
            "text/plain": [
              "recommendations finished on 21000/62483 queries. users per second: 143679"
            ]
          },
          "metadata": {
            "tags": []
          }
        },
        {
          "output_type": "display_data",
          "data": {
            "text/html": [
              "<pre>recommendations finished on 22000/62483 queries. users per second: 137256</pre>"
            ],
            "text/plain": [
              "recommendations finished on 22000/62483 queries. users per second: 137256"
            ]
          },
          "metadata": {
            "tags": []
          }
        },
        {
          "output_type": "display_data",
          "data": {
            "text/html": [
              "<pre>recommendations finished on 23000/62483 queries. users per second: 135049</pre>"
            ],
            "text/plain": [
              "recommendations finished on 23000/62483 queries. users per second: 135049"
            ]
          },
          "metadata": {
            "tags": []
          }
        },
        {
          "output_type": "display_data",
          "data": {
            "text/html": [
              "<pre>recommendations finished on 24000/62483 queries. users per second: 135589</pre>"
            ],
            "text/plain": [
              "recommendations finished on 24000/62483 queries. users per second: 135589"
            ]
          },
          "metadata": {
            "tags": []
          }
        },
        {
          "output_type": "display_data",
          "data": {
            "text/html": [
              "<pre>recommendations finished on 25000/62483 queries. users per second: 133224</pre>"
            ],
            "text/plain": [
              "recommendations finished on 25000/62483 queries. users per second: 133224"
            ]
          },
          "metadata": {
            "tags": []
          }
        },
        {
          "output_type": "display_data",
          "data": {
            "text/html": [
              "<pre>recommendations finished on 26000/62483 queries. users per second: 134762</pre>"
            ],
            "text/plain": [
              "recommendations finished on 26000/62483 queries. users per second: 134762"
            ]
          },
          "metadata": {
            "tags": []
          }
        },
        {
          "output_type": "display_data",
          "data": {
            "text/html": [
              "<pre>recommendations finished on 27000/62483 queries. users per second: 133546</pre>"
            ],
            "text/plain": [
              "recommendations finished on 27000/62483 queries. users per second: 133546"
            ]
          },
          "metadata": {
            "tags": []
          }
        },
        {
          "output_type": "display_data",
          "data": {
            "text/html": [
              "<pre>recommendations finished on 28000/62483 queries. users per second: 131556</pre>"
            ],
            "text/plain": [
              "recommendations finished on 28000/62483 queries. users per second: 131556"
            ]
          },
          "metadata": {
            "tags": []
          }
        },
        {
          "output_type": "display_data",
          "data": {
            "text/html": [
              "<pre>recommendations finished on 29000/62483 queries. users per second: 130786</pre>"
            ],
            "text/plain": [
              "recommendations finished on 29000/62483 queries. users per second: 130786"
            ]
          },
          "metadata": {
            "tags": []
          }
        },
        {
          "output_type": "display_data",
          "data": {
            "text/html": [
              "<pre>recommendations finished on 30000/62483 queries. users per second: 130628</pre>"
            ],
            "text/plain": [
              "recommendations finished on 30000/62483 queries. users per second: 130628"
            ]
          },
          "metadata": {
            "tags": []
          }
        },
        {
          "output_type": "display_data",
          "data": {
            "text/html": [
              "<pre>recommendations finished on 31000/62483 queries. users per second: 130469</pre>"
            ],
            "text/plain": [
              "recommendations finished on 31000/62483 queries. users per second: 130469"
            ]
          },
          "metadata": {
            "tags": []
          }
        },
        {
          "output_type": "display_data",
          "data": {
            "text/html": [
              "<pre>recommendations finished on 32000/62483 queries. users per second: 128718</pre>"
            ],
            "text/plain": [
              "recommendations finished on 32000/62483 queries. users per second: 128718"
            ]
          },
          "metadata": {
            "tags": []
          }
        },
        {
          "output_type": "display_data",
          "data": {
            "text/html": [
              "<pre>recommendations finished on 33000/62483 queries. users per second: 128888</pre>"
            ],
            "text/plain": [
              "recommendations finished on 33000/62483 queries. users per second: 128888"
            ]
          },
          "metadata": {
            "tags": []
          }
        },
        {
          "output_type": "display_data",
          "data": {
            "text/html": [
              "<pre>recommendations finished on 34000/62483 queries. users per second: 129429</pre>"
            ],
            "text/plain": [
              "recommendations finished on 34000/62483 queries. users per second: 129429"
            ]
          },
          "metadata": {
            "tags": []
          }
        },
        {
          "output_type": "display_data",
          "data": {
            "text/html": [
              "<pre>recommendations finished on 35000/62483 queries. users per second: 129671</pre>"
            ],
            "text/plain": [
              "recommendations finished on 35000/62483 queries. users per second: 129671"
            ]
          },
          "metadata": {
            "tags": []
          }
        },
        {
          "output_type": "display_data",
          "data": {
            "text/html": [
              "<pre>recommendations finished on 36000/62483 queries. users per second: 130448</pre>"
            ],
            "text/plain": [
              "recommendations finished on 36000/62483 queries. users per second: 130448"
            ]
          },
          "metadata": {
            "tags": []
          }
        },
        {
          "output_type": "display_data",
          "data": {
            "text/html": [
              "<pre>recommendations finished on 37000/62483 queries. users per second: 129840</pre>"
            ],
            "text/plain": [
              "recommendations finished on 37000/62483 queries. users per second: 129840"
            ]
          },
          "metadata": {
            "tags": []
          }
        },
        {
          "output_type": "display_data",
          "data": {
            "text/html": [
              "<pre>recommendations finished on 38000/62483 queries. users per second: 129745</pre>"
            ],
            "text/plain": [
              "recommendations finished on 38000/62483 queries. users per second: 129745"
            ]
          },
          "metadata": {
            "tags": []
          }
        },
        {
          "output_type": "display_data",
          "data": {
            "text/html": [
              "<pre>recommendations finished on 39000/62483 queries. users per second: 128889</pre>"
            ],
            "text/plain": [
              "recommendations finished on 39000/62483 queries. users per second: 128889"
            ]
          },
          "metadata": {
            "tags": []
          }
        },
        {
          "output_type": "display_data",
          "data": {
            "text/html": [
              "<pre>recommendations finished on 40000/62483 queries. users per second: 125929</pre>"
            ],
            "text/plain": [
              "recommendations finished on 40000/62483 queries. users per second: 125929"
            ]
          },
          "metadata": {
            "tags": []
          }
        },
        {
          "output_type": "display_data",
          "data": {
            "text/html": [
              "<pre>recommendations finished on 41000/62483 queries. users per second: 125918</pre>"
            ],
            "text/plain": [
              "recommendations finished on 41000/62483 queries. users per second: 125918"
            ]
          },
          "metadata": {
            "tags": []
          }
        },
        {
          "output_type": "display_data",
          "data": {
            "text/html": [
              "<pre>recommendations finished on 42000/62483 queries. users per second: 126367</pre>"
            ],
            "text/plain": [
              "recommendations finished on 42000/62483 queries. users per second: 126367"
            ]
          },
          "metadata": {
            "tags": []
          }
        },
        {
          "output_type": "display_data",
          "data": {
            "text/html": [
              "<pre>recommendations finished on 43000/62483 queries. users per second: 126568</pre>"
            ],
            "text/plain": [
              "recommendations finished on 43000/62483 queries. users per second: 126568"
            ]
          },
          "metadata": {
            "tags": []
          }
        },
        {
          "output_type": "display_data",
          "data": {
            "text/html": [
              "<pre>recommendations finished on 44000/62483 queries. users per second: 126981</pre>"
            ],
            "text/plain": [
              "recommendations finished on 44000/62483 queries. users per second: 126981"
            ]
          },
          "metadata": {
            "tags": []
          }
        },
        {
          "output_type": "display_data",
          "data": {
            "text/html": [
              "<pre>recommendations finished on 45000/62483 queries. users per second: 127475</pre>"
            ],
            "text/plain": [
              "recommendations finished on 45000/62483 queries. users per second: 127475"
            ]
          },
          "metadata": {
            "tags": []
          }
        },
        {
          "output_type": "display_data",
          "data": {
            "text/html": [
              "<pre>recommendations finished on 46000/62483 queries. users per second: 128005</pre>"
            ],
            "text/plain": [
              "recommendations finished on 46000/62483 queries. users per second: 128005"
            ]
          },
          "metadata": {
            "tags": []
          }
        },
        {
          "output_type": "display_data",
          "data": {
            "text/html": [
              "<pre>recommendations finished on 47000/62483 queries. users per second: 128562</pre>"
            ],
            "text/plain": [
              "recommendations finished on 47000/62483 queries. users per second: 128562"
            ]
          },
          "metadata": {
            "tags": []
          }
        },
        {
          "output_type": "display_data",
          "data": {
            "text/html": [
              "<pre>recommendations finished on 48000/62483 queries. users per second: 129149</pre>"
            ],
            "text/plain": [
              "recommendations finished on 48000/62483 queries. users per second: 129149"
            ]
          },
          "metadata": {
            "tags": []
          }
        },
        {
          "output_type": "display_data",
          "data": {
            "text/html": [
              "<pre>recommendations finished on 49000/62483 queries. users per second: 129855</pre>"
            ],
            "text/plain": [
              "recommendations finished on 49000/62483 queries. users per second: 129855"
            ]
          },
          "metadata": {
            "tags": []
          }
        },
        {
          "output_type": "display_data",
          "data": {
            "text/html": [
              "<pre>recommendations finished on 50000/62483 queries. users per second: 130215</pre>"
            ],
            "text/plain": [
              "recommendations finished on 50000/62483 queries. users per second: 130215"
            ]
          },
          "metadata": {
            "tags": []
          }
        },
        {
          "output_type": "display_data",
          "data": {
            "text/html": [
              "<pre>recommendations finished on 51000/62483 queries. users per second: 130391</pre>"
            ],
            "text/plain": [
              "recommendations finished on 51000/62483 queries. users per second: 130391"
            ]
          },
          "metadata": {
            "tags": []
          }
        },
        {
          "output_type": "display_data",
          "data": {
            "text/html": [
              "<pre>recommendations finished on 52000/62483 queries. users per second: 130037</pre>"
            ],
            "text/plain": [
              "recommendations finished on 52000/62483 queries. users per second: 130037"
            ]
          },
          "metadata": {
            "tags": []
          }
        },
        {
          "output_type": "display_data",
          "data": {
            "text/html": [
              "<pre>recommendations finished on 53000/62483 queries. users per second: 129981</pre>"
            ],
            "text/plain": [
              "recommendations finished on 53000/62483 queries. users per second: 129981"
            ]
          },
          "metadata": {
            "tags": []
          }
        },
        {
          "output_type": "display_data",
          "data": {
            "text/html": [
              "<pre>recommendations finished on 54000/62483 queries. users per second: 129885</pre>"
            ],
            "text/plain": [
              "recommendations finished on 54000/62483 queries. users per second: 129885"
            ]
          },
          "metadata": {
            "tags": []
          }
        },
        {
          "output_type": "display_data",
          "data": {
            "text/html": [
              "<pre>recommendations finished on 55000/62483 queries. users per second: 130349</pre>"
            ],
            "text/plain": [
              "recommendations finished on 55000/62483 queries. users per second: 130349"
            ]
          },
          "metadata": {
            "tags": []
          }
        },
        {
          "output_type": "display_data",
          "data": {
            "text/html": [
              "<pre>recommendations finished on 56000/62483 queries. users per second: 130265</pre>"
            ],
            "text/plain": [
              "recommendations finished on 56000/62483 queries. users per second: 130265"
            ]
          },
          "metadata": {
            "tags": []
          }
        },
        {
          "output_type": "display_data",
          "data": {
            "text/html": [
              "<pre>recommendations finished on 57000/62483 queries. users per second: 130371</pre>"
            ],
            "text/plain": [
              "recommendations finished on 57000/62483 queries. users per second: 130371"
            ]
          },
          "metadata": {
            "tags": []
          }
        },
        {
          "output_type": "display_data",
          "data": {
            "text/html": [
              "<pre>recommendations finished on 58000/62483 queries. users per second: 130593</pre>"
            ],
            "text/plain": [
              "recommendations finished on 58000/62483 queries. users per second: 130593"
            ]
          },
          "metadata": {
            "tags": []
          }
        },
        {
          "output_type": "display_data",
          "data": {
            "text/html": [
              "<pre>recommendations finished on 59000/62483 queries. users per second: 130862</pre>"
            ],
            "text/plain": [
              "recommendations finished on 59000/62483 queries. users per second: 130862"
            ]
          },
          "metadata": {
            "tags": []
          }
        },
        {
          "output_type": "display_data",
          "data": {
            "text/html": [
              "<pre>recommendations finished on 60000/62483 queries. users per second: 130448</pre>"
            ],
            "text/plain": [
              "recommendations finished on 60000/62483 queries. users per second: 130448"
            ]
          },
          "metadata": {
            "tags": []
          }
        },
        {
          "output_type": "display_data",
          "data": {
            "text/html": [
              "<pre>recommendations finished on 61000/62483 queries. users per second: 129713</pre>"
            ],
            "text/plain": [
              "recommendations finished on 61000/62483 queries. users per second: 129713"
            ]
          },
          "metadata": {
            "tags": []
          }
        },
        {
          "output_type": "display_data",
          "data": {
            "text/html": [
              "<pre>recommendations finished on 62000/62483 queries. users per second: 129801</pre>"
            ],
            "text/plain": [
              "recommendations finished on 62000/62483 queries. users per second: 129801"
            ]
          },
          "metadata": {
            "tags": []
          }
        },
        {
          "output_type": "stream",
          "text": [
            "+------------+-----------+--------------------+------+\n",
            "| customerId | productId |       score        | rank |\n",
            "+------------+-----------+--------------------+------+\n",
            "|     0      |     37    | 3.088803088803089  |  1   |\n",
            "|     0      |    248    | 3.022222222222222  |  2   |\n",
            "|     0      |     34    | 2.9655172413793105 |  3   |\n",
            "|     0      |     0     | 2.951447245564893  |  4   |\n",
            "|     0      |    132    | 2.9074074074074074 |  5   |\n",
            "|     0      |    110    | 2.8263473053892216 |  6   |\n",
            "|     0      |     27    |     2.7734375      |  7   |\n",
            "|     0      |     3     | 2.764826175869121  |  8   |\n",
            "|     0      |    245    | 2.6931818181818183 |  9   |\n",
            "|     0      |    230    | 2.6538461538461537 |  10  |\n",
            "|     1      |     37    | 3.088803088803089  |  1   |\n",
            "|     1      |    248    | 3.022222222222222  |  2   |\n",
            "|     1      |     34    | 2.9655172413793105 |  3   |\n",
            "|     1      |     0     | 2.951447245564893  |  4   |\n",
            "|     1      |    132    | 2.9074074074074074 |  5   |\n",
            "|     1      |    110    | 2.8263473053892216 |  6   |\n",
            "|     1      |     27    |     2.7734375      |  7   |\n",
            "|     1      |     3     | 2.764826175869121  |  8   |\n",
            "|     1      |    245    | 2.6931818181818183 |  9   |\n",
            "|     1      |    230    | 2.6538461538461537 |  10  |\n",
            "|     2      |     37    | 3.088803088803089  |  1   |\n",
            "|     2      |    248    | 3.022222222222222  |  2   |\n",
            "|     2      |     34    | 2.9655172413793105 |  3   |\n",
            "|     2      |     0     | 2.951447245564893  |  4   |\n",
            "|     2      |    132    | 2.9074074074074074 |  5   |\n",
            "|     2      |    110    | 2.8263473053892216 |  6   |\n",
            "|     2      |     27    |     2.7734375      |  7   |\n",
            "|     2      |     3     | 2.764826175869121  |  8   |\n",
            "|     2      |    245    | 2.6931818181818183 |  9   |\n",
            "|     2      |    230    | 2.6538461538461537 |  10  |\n",
            "+------------+-----------+--------------------+------+\n",
            "[624830 rows x 4 columns]\n",
            "\n"
          ],
          "name": "stdout"
        }
      ]
    },
    {
      "cell_type": "markdown",
      "metadata": {
        "id": "mZ-BDo8cMvtF",
        "colab_type": "text"
      },
      "source": [
        "Define a model function for model selection"
      ]
    },
    {
      "cell_type": "code",
      "metadata": {
        "id": "BPlaySwsMkXM",
        "colab_type": "code",
        "colab": {}
      },
      "source": [
        "\n",
        "# Since turicreate is very accessible library, we can define a model selection function as below\n",
        "\n",
        "def model(train_data, name, user_id, item_id, target, users_to_recommend, n_rec, n_display):\n",
        "    if name == 'popularity':\n",
        "        model = tc.popularity_recommender.create(train_data, \n",
        "                                                    user_id=user_id, \n",
        "                                                    item_id=item_id, \n",
        "                                                    target=target)\n",
        "    elif name == 'cosine':\n",
        "        model = tc.item_similarity_recommender.create(train_data, \n",
        "                                                    user_id=user_id, \n",
        "                                                    item_id=item_id, \n",
        "                                                    target=target, \n",
        "                                                    similarity_type='cosine')\n",
        "    elif name == 'pearson':\n",
        "        model = tc.item_similarity_recommender.create(train_data, \n",
        "                                                    user_id=user_id, \n",
        "                                                    item_id=item_id, \n",
        "                                                    target=target, \n",
        "                                                    similarity_type='pearson')\n",
        "        \n",
        "    recom = model.recommend(users=users_to_recommend, k=n_rec)\n",
        "    recom.print_rows(n_display)\n",
        "    return model"
      ],
      "execution_count": 0,
      "outputs": []
    },
    {
      "cell_type": "code",
      "metadata": {
        "id": "TFqkzre9NDPU",
        "colab_type": "code",
        "colab": {}
      },
      "source": [
        "# variables to define field names\n",
        "# constant variables include:\n",
        "user_id = 'customerId'\n",
        "item_id = 'productId'\n",
        "users_to_recommend = list(customers[user_id])\n",
        "n_rec = 10 # number of items to recommend\n",
        "n_display = 30 # to print the head / first few rows in a defined dataset"
      ],
      "execution_count": 0,
      "outputs": []
    },
    {
      "cell_type": "code",
      "metadata": {
        "id": "nD-IwxFLNG_2",
        "colab_type": "code",
        "outputId": "7b6ee6c3-f41e-453e-d4cd-af4d98ac5dbb",
        "colab": {
          "base_uri": "https://localhost:8080/",
          "height": 739
        }
      },
      "source": [
        "# these variables will change accordingly\n",
        "name = 'popularity'\n",
        "target = 'purchase_dummy'\n",
        "pop_dummy = model(train_data_dummy, name, user_id, item_id, target, users_to_recommend, n_rec, n_display)"
      ],
      "execution_count": 0,
      "outputs": [
        {
          "output_type": "display_data",
          "data": {
            "text/html": [
              "<pre>Warning: Ignoring columns purchase_count;</pre>"
            ],
            "text/plain": [
              "Warning: Ignoring columns purchase_count;"
            ]
          },
          "metadata": {
            "tags": []
          }
        },
        {
          "output_type": "display_data",
          "data": {
            "text/html": [
              "<pre>    To use these columns in scoring predictions, use a model that allows the use of additional features.</pre>"
            ],
            "text/plain": [
              "    To use these columns in scoring predictions, use a model that allows the use of additional features."
            ]
          },
          "metadata": {
            "tags": []
          }
        },
        {
          "output_type": "display_data",
          "data": {
            "text/html": [
              "<pre>Preparing data set.</pre>"
            ],
            "text/plain": [
              "Preparing data set."
            ]
          },
          "metadata": {
            "tags": []
          }
        },
        {
          "output_type": "display_data",
          "data": {
            "text/html": [
              "<pre>    Data has 106868 observations with 23332 users and 300 items.</pre>"
            ],
            "text/plain": [
              "    Data has 106868 observations with 23332 users and 300 items."
            ]
          },
          "metadata": {
            "tags": []
          }
        },
        {
          "output_type": "display_data",
          "data": {
            "text/html": [
              "<pre>    Data prepared in: 0.1142s</pre>"
            ],
            "text/plain": [
              "    Data prepared in: 0.1142s"
            ]
          },
          "metadata": {
            "tags": []
          }
        },
        {
          "output_type": "display_data",
          "data": {
            "text/html": [
              "<pre>106868 observations to process; with 300 unique items.</pre>"
            ],
            "text/plain": [
              "106868 observations to process; with 300 unique items."
            ]
          },
          "metadata": {
            "tags": []
          }
        },
        {
          "output_type": "display_data",
          "data": {
            "text/html": [
              "<pre>recommendations finished on 1000/1000 queries. users per second: 117467</pre>"
            ],
            "text/plain": [
              "recommendations finished on 1000/1000 queries. users per second: 117467"
            ]
          },
          "metadata": {
            "tags": []
          }
        },
        {
          "output_type": "stream",
          "text": [
            "+------------+-----------+-------+------+\n",
            "| customerId | productId | score | rank |\n",
            "+------------+-----------+-------+------+\n",
            "|    1553    |     78    |  1.0  |  1   |\n",
            "|    1553    |    196    |  1.0  |  2   |\n",
            "|    1553    |     61    |  1.0  |  3   |\n",
            "|    1553    |     1     |  1.0  |  4   |\n",
            "|    1553    |     21    |  1.0  |  5   |\n",
            "|    1553    |     10    |  1.0  |  6   |\n",
            "|    1553    |     65    |  1.0  |  7   |\n",
            "|    1553    |    256    |  1.0  |  8   |\n",
            "|    1553    |    112    |  1.0  |  9   |\n",
            "|    1553    |     2     |  1.0  |  10  |\n",
            "|   20400    |     78    |  1.0  |  1   |\n",
            "|   20400    |    196    |  1.0  |  2   |\n",
            "|   20400    |     61    |  1.0  |  3   |\n",
            "|   20400    |     1     |  1.0  |  4   |\n",
            "|   20400    |     21    |  1.0  |  5   |\n",
            "|   20400    |     10    |  1.0  |  6   |\n",
            "|   20400    |     65    |  1.0  |  7   |\n",
            "|   20400    |    256    |  1.0  |  8   |\n",
            "|   20400    |    112    |  1.0  |  9   |\n",
            "|   20400    |     2     |  1.0  |  10  |\n",
            "|   19750    |     78    |  1.0  |  1   |\n",
            "|   19750    |    196    |  1.0  |  2   |\n",
            "|   19750    |     61    |  1.0  |  3   |\n",
            "|   19750    |     1     |  1.0  |  4   |\n",
            "|   19750    |     21    |  1.0  |  5   |\n",
            "|   19750    |     10    |  1.0  |  6   |\n",
            "|   19750    |     65    |  1.0  |  7   |\n",
            "|   19750    |    256    |  1.0  |  8   |\n",
            "|   19750    |    112    |  1.0  |  9   |\n",
            "|   19750    |     2     |  1.0  |  10  |\n",
            "+------------+-----------+-------+------+\n",
            "[10000 rows x 4 columns]\n",
            "\n"
          ],
          "name": "stdout"
        }
      ]
    },
    {
      "cell_type": "code",
      "metadata": {
        "id": "1hyI8PmANWIM",
        "colab_type": "code",
        "outputId": "80fe922e-a5b4-4525-e242-8f20f4f43390",
        "colab": {
          "base_uri": "https://localhost:8080/",
          "height": 706
        }
      },
      "source": [
        "name = 'popularity'\n",
        "target = 'scaled_purchase_freq'\n",
        "pop_norm = model(train_data_norm, name, user_id, item_id, target, users_to_recommend, n_rec, n_display)"
      ],
      "execution_count": 0,
      "outputs": [
        {
          "output_type": "display_data",
          "data": {
            "text/html": [
              "<pre>Preparing data set.</pre>"
            ],
            "text/plain": [
              "Preparing data set."
            ]
          },
          "metadata": {
            "tags": []
          }
        },
        {
          "output_type": "display_data",
          "data": {
            "text/html": [
              "<pre>    Data has 106868 observations with 23309 users and 300 items.</pre>"
            ],
            "text/plain": [
              "    Data has 106868 observations with 23309 users and 300 items."
            ]
          },
          "metadata": {
            "tags": []
          }
        },
        {
          "output_type": "display_data",
          "data": {
            "text/html": [
              "<pre>    Data prepared in: 0.115195s</pre>"
            ],
            "text/plain": [
              "    Data prepared in: 0.115195s"
            ]
          },
          "metadata": {
            "tags": []
          }
        },
        {
          "output_type": "display_data",
          "data": {
            "text/html": [
              "<pre>106868 observations to process; with 300 unique items.</pre>"
            ],
            "text/plain": [
              "106868 observations to process; with 300 unique items."
            ]
          },
          "metadata": {
            "tags": []
          }
        },
        {
          "output_type": "display_data",
          "data": {
            "text/html": [
              "<pre>recommendations finished on 1000/1000 queries. users per second: 107782</pre>"
            ],
            "text/plain": [
              "recommendations finished on 1000/1000 queries. users per second: 107782"
            ]
          },
          "metadata": {
            "tags": []
          }
        },
        {
          "output_type": "stream",
          "text": [
            "+------------+-----------+---------------------+------+\n",
            "| customerId | productId |        score        | rank |\n",
            "+------------+-----------+---------------------+------+\n",
            "|    1553    |    226    |  0.7816901408450704 |  1   |\n",
            "|    1553    |    247    | 0.33583959899749377 |  2   |\n",
            "|    1553    |    230    |  0.3270072992700724 |  3   |\n",
            "|    1553    |    248    | 0.26902173913043476 |  4   |\n",
            "|    1553    |    125    |  0.2565517241379307 |  5   |\n",
            "|    1553    |    294    |  0.2536231884057968 |  6   |\n",
            "|    1553    |    276    |  0.2385496183206107 |  7   |\n",
            "|    1553    |    204    |  0.231111111111111  |  8   |\n",
            "|    1553    |    155    | 0.23018867924528305 |  9   |\n",
            "|    1553    |     72    | 0.22577319587628866 |  10  |\n",
            "|   20400    |    226    |  0.7816901408450704 |  1   |\n",
            "|   20400    |    247    | 0.33583959899749377 |  2   |\n",
            "|   20400    |    230    |  0.3270072992700724 |  3   |\n",
            "|   20400    |    248    | 0.26902173913043476 |  4   |\n",
            "|   20400    |    125    |  0.2565517241379307 |  5   |\n",
            "|   20400    |    294    |  0.2536231884057968 |  6   |\n",
            "|   20400    |    276    |  0.2385496183206107 |  7   |\n",
            "|   20400    |    204    |  0.231111111111111  |  8   |\n",
            "|   20400    |    155    | 0.23018867924528305 |  9   |\n",
            "|   20400    |     72    | 0.22577319587628866 |  10  |\n",
            "|   19750    |    226    |  0.7816901408450704 |  1   |\n",
            "|   19750    |    230    |  0.3270072992700724 |  2   |\n",
            "|   19750    |    248    | 0.26902173913043476 |  3   |\n",
            "|   19750    |    125    |  0.2565517241379307 |  4   |\n",
            "|   19750    |    294    |  0.2536231884057968 |  5   |\n",
            "|   19750    |    276    |  0.2385496183206107 |  6   |\n",
            "|   19750    |    204    |  0.231111111111111  |  7   |\n",
            "|   19750    |    155    | 0.23018867924528305 |  8   |\n",
            "|   19750    |     72    | 0.22577319587628866 |  9   |\n",
            "|   19750    |    165    |  0.225130890052356  |  10  |\n",
            "+------------+-----------+---------------------+------+\n",
            "[10000 rows x 4 columns]\n",
            "\n"
          ],
          "name": "stdout"
        }
      ]
    },
    {
      "cell_type": "markdown",
      "metadata": {
        "id": "RL_CKRNHSgWi",
        "colab_type": "text"
      },
      "source": [
        "Notes\n",
        "\n",
        "Once we created the model, we predicted the recommendation items using scores by popularity. As you can tell for each model results above, the rows show the first 30 records from 1000 users with 10 recommendations. These 30 records include 3 users and their recommended items, along with score and descending ranks.\n",
        "\n",
        "In the result, although different models have different recommendation list, each user is recommended the same list of 10 items. This is because popularity is calculated by taking the most popular items across all users.\n",
        "\n",
        "If a grouping example below, products 132, 248, 37, and 34 are the most popular (best-selling) across customers. Using their purchase counts divided by the number of customers, we see that these products are at least bought 3 times on average in the training set of transactions (same as the first popularity measure on purchase_count variable)"
      ]
    },
    {
      "cell_type": "code",
      "metadata": {
        "id": "AqbbKBVTP4tD",
        "colab_type": "code",
        "outputId": "23211638-94f0-4206-f886-69a5380731b9",
        "colab": {
          "base_uri": "https://localhost:8080/",
          "height": 386
        }
      },
      "source": [
        "train.groupby(by=item_id)['purchase_count'].mean().sort_values(ascending=False).head(20)"
      ],
      "execution_count": 0,
      "outputs": [
        {
          "output_type": "execute_result",
          "data": {
            "text/plain": [
              "productId\n",
              "37     3.088803\n",
              "248    3.022222\n",
              "34     2.965517\n",
              "0      2.951447\n",
              "132    2.907407\n",
              "110    2.826347\n",
              "27     2.773438\n",
              "3      2.764826\n",
              "245    2.693182\n",
              "230    2.653846\n",
              "82     2.626609\n",
              "10     2.588415\n",
              "32     2.560976\n",
              "226    2.517986\n",
              "129    2.485876\n",
              "87     2.470339\n",
              "252    2.423729\n",
              "58     2.423529\n",
              "18     2.373402\n",
              "83     2.354839\n",
              "Name: purchase_count, dtype: float64"
            ]
          },
          "metadata": {
            "tags": []
          },
          "execution_count": 33
        }
      ]
    },
    {
      "cell_type": "markdown",
      "metadata": {
        "id": "1w93IgQAE7fJ",
        "colab_type": "text"
      },
      "source": [
        "**Collaborative Filtering**\n",
        "\n",
        "In collaborative filtering, we would recommend items based on how similar users purchase items. For instance, if customer 1 and customer 2 bought similar items, e.g. 1 bought X, Y, Z and 2 bought X, Y, we would recommend an item Z to customer 2.\n",
        "\n",
        "To define similarity across users, we use the following steps:\n",
        "\n",
        "Create a user-item matrix, where index values represent unique customer IDs and column values represent unique product IDs\n",
        "\n",
        "Create an item-to-item similarity matrix. The idea is to calculate how similar a product is to another product. There are a number of ways of calculating this. In steps 6.1 and 6.2, we use cosine and pearson similarity measure, respectively.\n",
        "\n",
        "To calculate similarity between products X and Y, look at all customers who have rated both these items. For example, both X and Y have been rated by customers 1 and 2.\n",
        "We then create two item-vectors, v1 for item X and v2 for item Y, in the user-space of (1, 2) and then find the cosine or pearson angle/distance between these vectors. A zero angle or overlapping vectors with cosine value of 1 means total similarity (or per user, across all items, there is same rating) and an angle of 90 degree would mean cosine of 0 or no similarity.\n",
        "For each customer, we then predict his likelihood to buy a product (or his purchase counts) for products that he had not bought.\n",
        "\n",
        "For our example, we will calculate rating for user 2 in the case of item Z (target item). To calculate this we weigh the just-calculated similarity-measure between the target item and other items that customer has already bought. The weighing factor is the purchase counts given by the user to items already bought by him.\n",
        "We then scale this weighted sum with the sum of similarity-measures so that the calculated rating remains within a predefined limits. Thus, the predicted rating for item Z for user 2 would be calculated using similarity measures.\n",
        "While I wrote python scripts for all the process including finding similarity using python scripts (which can be found in scripts folder, we can use turicreate library for now to capture different measures like using cosine and pearson distance, and evaluate the best model.\n",
        "\n"
      ]
    },
    {
      "cell_type": "markdown",
      "metadata": {
        "id": "vGgr7CpWTHGb",
        "colab_type": "text"
      },
      "source": [
        "Cosine similarity\n",
        "\n",
        "Using purchase count"
      ]
    },
    {
      "cell_type": "code",
      "metadata": {
        "id": "s3IN8EieSxui",
        "colab_type": "code",
        "outputId": "9d4940d0-4c2f-4413-b47f-3c8ea5a9d897",
        "colab": {
          "base_uri": "https://localhost:8080/",
          "height": 1000
        }
      },
      "source": [
        "name = 'cosine'\n",
        "target = 'purchase_count'\n",
        "cos = model(train_data, name, user_id, item_id, target, users_to_recommend, n_rec, n_display)"
      ],
      "execution_count": 0,
      "outputs": [
        {
          "output_type": "display_data",
          "data": {
            "text/html": [
              "<pre>Preparing data set.</pre>"
            ],
            "text/plain": [
              "Preparing data set."
            ]
          },
          "metadata": {
            "tags": []
          }
        },
        {
          "output_type": "display_data",
          "data": {
            "text/html": [
              "<pre>    Data has 106868 observations with 23346 users and 300 items.</pre>"
            ],
            "text/plain": [
              "    Data has 106868 observations with 23346 users and 300 items."
            ]
          },
          "metadata": {
            "tags": []
          }
        },
        {
          "output_type": "display_data",
          "data": {
            "text/html": [
              "<pre>    Data prepared in: 0.116939s</pre>"
            ],
            "text/plain": [
              "    Data prepared in: 0.116939s"
            ]
          },
          "metadata": {
            "tags": []
          }
        },
        {
          "output_type": "display_data",
          "data": {
            "text/html": [
              "<pre>Training model from provided data.</pre>"
            ],
            "text/plain": [
              "Training model from provided data."
            ]
          },
          "metadata": {
            "tags": []
          }
        },
        {
          "output_type": "display_data",
          "data": {
            "text/html": [
              "<pre>Gathering per-item and per-user statistics.</pre>"
            ],
            "text/plain": [
              "Gathering per-item and per-user statistics."
            ]
          },
          "metadata": {
            "tags": []
          }
        },
        {
          "output_type": "display_data",
          "data": {
            "text/html": [
              "<pre>+--------------------------------+------------+</pre>"
            ],
            "text/plain": [
              "+--------------------------------+------------+"
            ]
          },
          "metadata": {
            "tags": []
          }
        },
        {
          "output_type": "display_data",
          "data": {
            "text/html": [
              "<pre>| Elapsed Time (Item Statistics) | % Complete |</pre>"
            ],
            "text/plain": [
              "| Elapsed Time (Item Statistics) | % Complete |"
            ]
          },
          "metadata": {
            "tags": []
          }
        },
        {
          "output_type": "display_data",
          "data": {
            "text/html": [
              "<pre>+--------------------------------+------------+</pre>"
            ],
            "text/plain": [
              "+--------------------------------+------------+"
            ]
          },
          "metadata": {
            "tags": []
          }
        },
        {
          "output_type": "display_data",
          "data": {
            "text/html": [
              "<pre>| 1.113ms                        | 4.25       |</pre>"
            ],
            "text/plain": [
              "| 1.113ms                        | 4.25       |"
            ]
          },
          "metadata": {
            "tags": []
          }
        },
        {
          "output_type": "display_data",
          "data": {
            "text/html": [
              "<pre>| 9.769ms                        | 100        |</pre>"
            ],
            "text/plain": [
              "| 9.769ms                        | 100        |"
            ]
          },
          "metadata": {
            "tags": []
          }
        },
        {
          "output_type": "display_data",
          "data": {
            "text/html": [
              "<pre>+--------------------------------+------------+</pre>"
            ],
            "text/plain": [
              "+--------------------------------+------------+"
            ]
          },
          "metadata": {
            "tags": []
          }
        },
        {
          "output_type": "display_data",
          "data": {
            "text/html": [
              "<pre>Setting up lookup tables.</pre>"
            ],
            "text/plain": [
              "Setting up lookup tables."
            ]
          },
          "metadata": {
            "tags": []
          }
        },
        {
          "output_type": "display_data",
          "data": {
            "text/html": [
              "<pre>Processing data in one pass using dense lookup tables.</pre>"
            ],
            "text/plain": [
              "Processing data in one pass using dense lookup tables."
            ]
          },
          "metadata": {
            "tags": []
          }
        },
        {
          "output_type": "display_data",
          "data": {
            "text/html": [
              "<pre>+-------------------------------------+------------------+-----------------+</pre>"
            ],
            "text/plain": [
              "+-------------------------------------+------------------+-----------------+"
            ]
          },
          "metadata": {
            "tags": []
          }
        },
        {
          "output_type": "display_data",
          "data": {
            "text/html": [
              "<pre>| Elapsed Time (Constructing Lookups) | Total % Complete | Items Processed |</pre>"
            ],
            "text/plain": [
              "| Elapsed Time (Constructing Lookups) | Total % Complete | Items Processed |"
            ]
          },
          "metadata": {
            "tags": []
          }
        },
        {
          "output_type": "display_data",
          "data": {
            "text/html": [
              "<pre>+-------------------------------------+------------------+-----------------+</pre>"
            ],
            "text/plain": [
              "+-------------------------------------+------------------+-----------------+"
            ]
          },
          "metadata": {
            "tags": []
          }
        },
        {
          "output_type": "display_data",
          "data": {
            "text/html": [
              "<pre>| 12.353ms                            | 0                | 0               |</pre>"
            ],
            "text/plain": [
              "| 12.353ms                            | 0                | 0               |"
            ]
          },
          "metadata": {
            "tags": []
          }
        },
        {
          "output_type": "display_data",
          "data": {
            "text/html": [
              "<pre>| 36.487ms                            | 100              | 300             |</pre>"
            ],
            "text/plain": [
              "| 36.487ms                            | 100              | 300             |"
            ]
          },
          "metadata": {
            "tags": []
          }
        },
        {
          "output_type": "display_data",
          "data": {
            "text/html": [
              "<pre>+-------------------------------------+------------------+-----------------+</pre>"
            ],
            "text/plain": [
              "+-------------------------------------+------------------+-----------------+"
            ]
          },
          "metadata": {
            "tags": []
          }
        },
        {
          "output_type": "display_data",
          "data": {
            "text/html": [
              "<pre>Finalizing lookup tables.</pre>"
            ],
            "text/plain": [
              "Finalizing lookup tables."
            ]
          },
          "metadata": {
            "tags": []
          }
        },
        {
          "output_type": "display_data",
          "data": {
            "text/html": [
              "<pre>Generating candidate set for working with new users.</pre>"
            ],
            "text/plain": [
              "Generating candidate set for working with new users."
            ]
          },
          "metadata": {
            "tags": []
          }
        },
        {
          "output_type": "display_data",
          "data": {
            "text/html": [
              "<pre>Finished training in 1.05056s</pre>"
            ],
            "text/plain": [
              "Finished training in 1.05056s"
            ]
          },
          "metadata": {
            "tags": []
          }
        },
        {
          "output_type": "display_data",
          "data": {
            "text/html": [
              "<pre>recommendations finished on 1000/1000 queries. users per second: 57169</pre>"
            ],
            "text/plain": [
              "recommendations finished on 1000/1000 queries. users per second: 57169"
            ]
          },
          "metadata": {
            "tags": []
          }
        },
        {
          "output_type": "stream",
          "text": [
            "+------------+-----------+----------------------+------+\n",
            "| customerId | productId |        score         | rank |\n",
            "+------------+-----------+----------------------+------+\n",
            "|    1553    |     2     | 0.11677020788192749  |  1   |\n",
            "|    1553    |     35    | 0.07258299589157105  |  2   |\n",
            "|    1553    |     1     | 0.07236067056655884  |  3   |\n",
            "|    1553    |    162    | 0.06531751155853271  |  4   |\n",
            "|    1553    |    105    |  0.0636749505996704  |  5   |\n",
            "|    1553    |     17    | 0.061118030548095705 |  6   |\n",
            "|    1553    |     21    | 0.05724612474441528  |  7   |\n",
            "|    1553    |     5     | 0.044860315322875974 |  8   |\n",
            "|    1553    |     85    | 0.039043545722961426 |  9   |\n",
            "|    1553    |    195    | 0.03685802221298218  |  10  |\n",
            "|   20400    |    280    | 0.09889405965805054  |  1   |\n",
            "|   20400    |     1     | 0.041494905948638916 |  2   |\n",
            "|   20400    |    122    | 0.03869813680648804  |  3   |\n",
            "|   20400    |     42    | 0.03809303045272827  |  4   |\n",
            "|   20400    |     6     | 0.037599027156829834 |  5   |\n",
            "|   20400    |    131    | 0.03674393892288208  |  6   |\n",
            "|   20400    |     21    | 0.033847033977508545 |  7   |\n",
            "|   20400    |     77    | 0.03381645679473877  |  8   |\n",
            "|   20400    |     39    | 0.03311026096343994  |  9   |\n",
            "|   20400    |    113    | 0.032822489738464355 |  10  |\n",
            "|   19750    |     38    | 0.09417564868927002  |  1   |\n",
            "|   19750    |     48    | 0.09111279249191284  |  2   |\n",
            "|   19750    |     36    | 0.07874702215194702  |  3   |\n",
            "|   19750    |     1     | 0.07651610374450683  |  4   |\n",
            "|   19750    |     2     | 0.07596534490585327  |  5   |\n",
            "|   19750    |     79    | 0.05570001602172851  |  6   |\n",
            "|   19750    |    166    | 0.05554057359695434  |  7   |\n",
            "|   19750    |     13    | 0.05213894844055176  |  8   |\n",
            "|   19750    |     5     | 0.05098050832748413  |  9   |\n",
            "|   19750    |    194    | 0.049255990982055665 |  10  |\n",
            "+------------+-----------+----------------------+------+\n",
            "[10000 rows x 4 columns]\n",
            "\n"
          ],
          "name": "stdout"
        }
      ]
    },
    {
      "cell_type": "markdown",
      "metadata": {
        "id": "4BU6nVi-TvXF",
        "colab_type": "text"
      },
      "source": [
        "Using purchase dummy"
      ]
    },
    {
      "cell_type": "code",
      "metadata": {
        "id": "KMIUm7lITkwH",
        "colab_type": "code",
        "outputId": "75db2d69-db76-423f-c166-21a5b4ed6443",
        "colab": {
          "base_uri": "https://localhost:8080/",
          "height": 1000
        }
      },
      "source": [
        "name='cosine'\n",
        "target='purchase_dummy'\n",
        "cos_dummy=model(train_data_dummy,name,user_id,item_id,target,users_to_recommend,n_rec,n_display)"
      ],
      "execution_count": 0,
      "outputs": [
        {
          "output_type": "display_data",
          "data": {
            "text/html": [
              "<pre>Warning: Ignoring columns purchase_count;</pre>"
            ],
            "text/plain": [
              "Warning: Ignoring columns purchase_count;"
            ]
          },
          "metadata": {
            "tags": []
          }
        },
        {
          "output_type": "display_data",
          "data": {
            "text/html": [
              "<pre>    To use these columns in scoring predictions, use a model that allows the use of additional features.</pre>"
            ],
            "text/plain": [
              "    To use these columns in scoring predictions, use a model that allows the use of additional features."
            ]
          },
          "metadata": {
            "tags": []
          }
        },
        {
          "output_type": "display_data",
          "data": {
            "text/html": [
              "<pre>Preparing data set.</pre>"
            ],
            "text/plain": [
              "Preparing data set."
            ]
          },
          "metadata": {
            "tags": []
          }
        },
        {
          "output_type": "display_data",
          "data": {
            "text/html": [
              "<pre>    Data has 106868 observations with 23332 users and 300 items.</pre>"
            ],
            "text/plain": [
              "    Data has 106868 observations with 23332 users and 300 items."
            ]
          },
          "metadata": {
            "tags": []
          }
        },
        {
          "output_type": "display_data",
          "data": {
            "text/html": [
              "<pre>    Data prepared in: 0.109258s</pre>"
            ],
            "text/plain": [
              "    Data prepared in: 0.109258s"
            ]
          },
          "metadata": {
            "tags": []
          }
        },
        {
          "output_type": "display_data",
          "data": {
            "text/html": [
              "<pre>Training model from provided data.</pre>"
            ],
            "text/plain": [
              "Training model from provided data."
            ]
          },
          "metadata": {
            "tags": []
          }
        },
        {
          "output_type": "display_data",
          "data": {
            "text/html": [
              "<pre>Gathering per-item and per-user statistics.</pre>"
            ],
            "text/plain": [
              "Gathering per-item and per-user statistics."
            ]
          },
          "metadata": {
            "tags": []
          }
        },
        {
          "output_type": "display_data",
          "data": {
            "text/html": [
              "<pre>+--------------------------------+------------+</pre>"
            ],
            "text/plain": [
              "+--------------------------------+------------+"
            ]
          },
          "metadata": {
            "tags": []
          }
        },
        {
          "output_type": "display_data",
          "data": {
            "text/html": [
              "<pre>| Elapsed Time (Item Statistics) | % Complete |</pre>"
            ],
            "text/plain": [
              "| Elapsed Time (Item Statistics) | % Complete |"
            ]
          },
          "metadata": {
            "tags": []
          }
        },
        {
          "output_type": "display_data",
          "data": {
            "text/html": [
              "<pre>+--------------------------------+------------+</pre>"
            ],
            "text/plain": [
              "+--------------------------------+------------+"
            ]
          },
          "metadata": {
            "tags": []
          }
        },
        {
          "output_type": "display_data",
          "data": {
            "text/html": [
              "<pre>| 917us                          | 4.25       |</pre>"
            ],
            "text/plain": [
              "| 917us                          | 4.25       |"
            ]
          },
          "metadata": {
            "tags": []
          }
        },
        {
          "output_type": "display_data",
          "data": {
            "text/html": [
              "<pre>| 15.434ms                       | 100        |</pre>"
            ],
            "text/plain": [
              "| 15.434ms                       | 100        |"
            ]
          },
          "metadata": {
            "tags": []
          }
        },
        {
          "output_type": "display_data",
          "data": {
            "text/html": [
              "<pre>+--------------------------------+------------+</pre>"
            ],
            "text/plain": [
              "+--------------------------------+------------+"
            ]
          },
          "metadata": {
            "tags": []
          }
        },
        {
          "output_type": "display_data",
          "data": {
            "text/html": [
              "<pre>Setting up lookup tables.</pre>"
            ],
            "text/plain": [
              "Setting up lookup tables."
            ]
          },
          "metadata": {
            "tags": []
          }
        },
        {
          "output_type": "display_data",
          "data": {
            "text/html": [
              "<pre>Processing data in one pass using dense lookup tables.</pre>"
            ],
            "text/plain": [
              "Processing data in one pass using dense lookup tables."
            ]
          },
          "metadata": {
            "tags": []
          }
        },
        {
          "output_type": "display_data",
          "data": {
            "text/html": [
              "<pre>+-------------------------------------+------------------+-----------------+</pre>"
            ],
            "text/plain": [
              "+-------------------------------------+------------------+-----------------+"
            ]
          },
          "metadata": {
            "tags": []
          }
        },
        {
          "output_type": "display_data",
          "data": {
            "text/html": [
              "<pre>| Elapsed Time (Constructing Lookups) | Total % Complete | Items Processed |</pre>"
            ],
            "text/plain": [
              "| Elapsed Time (Constructing Lookups) | Total % Complete | Items Processed |"
            ]
          },
          "metadata": {
            "tags": []
          }
        },
        {
          "output_type": "display_data",
          "data": {
            "text/html": [
              "<pre>+-------------------------------------+------------------+-----------------+</pre>"
            ],
            "text/plain": [
              "+-------------------------------------+------------------+-----------------+"
            ]
          },
          "metadata": {
            "tags": []
          }
        },
        {
          "output_type": "display_data",
          "data": {
            "text/html": [
              "<pre>| 16.22ms                             | 0                | 0               |</pre>"
            ],
            "text/plain": [
              "| 16.22ms                             | 0                | 0               |"
            ]
          },
          "metadata": {
            "tags": []
          }
        },
        {
          "output_type": "display_data",
          "data": {
            "text/html": [
              "<pre>| 41.228ms                            | 100              | 300             |</pre>"
            ],
            "text/plain": [
              "| 41.228ms                            | 100              | 300             |"
            ]
          },
          "metadata": {
            "tags": []
          }
        },
        {
          "output_type": "display_data",
          "data": {
            "text/html": [
              "<pre>+-------------------------------------+------------------+-----------------+</pre>"
            ],
            "text/plain": [
              "+-------------------------------------+------------------+-----------------+"
            ]
          },
          "metadata": {
            "tags": []
          }
        },
        {
          "output_type": "display_data",
          "data": {
            "text/html": [
              "<pre>Finalizing lookup tables.</pre>"
            ],
            "text/plain": [
              "Finalizing lookup tables."
            ]
          },
          "metadata": {
            "tags": []
          }
        },
        {
          "output_type": "display_data",
          "data": {
            "text/html": [
              "<pre>Generating candidate set for working with new users.</pre>"
            ],
            "text/plain": [
              "Generating candidate set for working with new users."
            ]
          },
          "metadata": {
            "tags": []
          }
        },
        {
          "output_type": "display_data",
          "data": {
            "text/html": [
              "<pre>Finished training in 0.061726s</pre>"
            ],
            "text/plain": [
              "Finished training in 0.061726s"
            ]
          },
          "metadata": {
            "tags": []
          }
        },
        {
          "output_type": "display_data",
          "data": {
            "text/html": [
              "<pre>recommendations finished on 1000/1000 queries. users per second: 68998.8</pre>"
            ],
            "text/plain": [
              "recommendations finished on 1000/1000 queries. users per second: 68998.8"
            ]
          },
          "metadata": {
            "tags": []
          }
        },
        {
          "output_type": "stream",
          "text": [
            "+------------+-----------+----------------------+------+\n",
            "| customerId | productId |        score         | rank |\n",
            "+------------+-----------+----------------------+------+\n",
            "|    1553    |     2     | 0.09627453088760377  |  1   |\n",
            "|    1553    |     35    | 0.08312979936599732  |  2   |\n",
            "|    1553    |     1     | 0.08272480964660645  |  3   |\n",
            "|    1553    |     5     |  0.069237220287323   |  4   |\n",
            "|    1553    |     17    | 0.06073616743087769  |  5   |\n",
            "|    1553    |     21    | 0.06010178327560425  |  6   |\n",
            "|    1553    |     8     | 0.05409390926361084  |  7   |\n",
            "|    1553    |     33    | 0.050050091743469236 |  8   |\n",
            "|    1553    |     15    | 0.04747622013092041  |  9   |\n",
            "|    1553    |     13    | 0.04429011344909668  |  10  |\n",
            "|   20400    |     78    |         0.0          |  1   |\n",
            "|   20400    |    196    |         0.0          |  2   |\n",
            "|   20400    |     61    |         0.0          |  3   |\n",
            "|   20400    |     1     |         0.0          |  4   |\n",
            "|   20400    |     21    |         0.0          |  5   |\n",
            "|   20400    |     10    |         0.0          |  6   |\n",
            "|   20400    |     65    |         0.0          |  7   |\n",
            "|   20400    |    256    |         0.0          |  8   |\n",
            "|   20400    |    112    |         0.0          |  9   |\n",
            "|   20400    |     2     |         0.0          |  10  |\n",
            "|   19750    |     48    | 0.11347604990005493  |  1   |\n",
            "|   19750    |     38    | 0.10596715211868286  |  2   |\n",
            "|   19750    |     36    | 0.10169886350631714  |  3   |\n",
            "|   19750    |     79    | 0.09965329170227051  |  4   |\n",
            "|   19750    |     1     | 0.07859226465225219  |  5   |\n",
            "|   19750    |     2     | 0.07119110822677613  |  6   |\n",
            "|   19750    |     21    | 0.06193854808807373  |  7   |\n",
            "|   19750    |     5     | 0.06069570779800415  |  8   |\n",
            "|   19750    |     14    | 0.059055662155151366 |  9   |\n",
            "|   19750    |    194    | 0.05840122699737549  |  10  |\n",
            "+------------+-----------+----------------------+------+\n",
            "[10000 rows x 4 columns]\n",
            "\n"
          ],
          "name": "stdout"
        }
      ]
    },
    {
      "cell_type": "markdown",
      "metadata": {
        "id": "6KuOhbLyUijj",
        "colab_type": "text"
      },
      "source": [
        "\n",
        "Using normalized purchase count"
      ]
    },
    {
      "cell_type": "code",
      "metadata": {
        "id": "bwo1E5iAUcXy",
        "colab_type": "code",
        "outputId": "42eed859-3b09-41e8-e24b-2c30aba23fc5",
        "colab": {
          "base_uri": "https://localhost:8080/",
          "height": 1000
        }
      },
      "source": [
        "name='cosine'\n",
        "target='scaled_purchase_freq'\n",
        "cos_norm=model(train_data_norm,name,user_id,item_id,target,users_to_recommend,n_rec,n_display)"
      ],
      "execution_count": 0,
      "outputs": [
        {
          "output_type": "display_data",
          "data": {
            "text/html": [
              "<pre>Preparing data set.</pre>"
            ],
            "text/plain": [
              "Preparing data set."
            ]
          },
          "metadata": {
            "tags": []
          }
        },
        {
          "output_type": "display_data",
          "data": {
            "text/html": [
              "<pre>    Data has 106868 observations with 23309 users and 300 items.</pre>"
            ],
            "text/plain": [
              "    Data has 106868 observations with 23309 users and 300 items."
            ]
          },
          "metadata": {
            "tags": []
          }
        },
        {
          "output_type": "display_data",
          "data": {
            "text/html": [
              "<pre>    Data prepared in: 0.118274s</pre>"
            ],
            "text/plain": [
              "    Data prepared in: 0.118274s"
            ]
          },
          "metadata": {
            "tags": []
          }
        },
        {
          "output_type": "display_data",
          "data": {
            "text/html": [
              "<pre>Training model from provided data.</pre>"
            ],
            "text/plain": [
              "Training model from provided data."
            ]
          },
          "metadata": {
            "tags": []
          }
        },
        {
          "output_type": "display_data",
          "data": {
            "text/html": [
              "<pre>Gathering per-item and per-user statistics.</pre>"
            ],
            "text/plain": [
              "Gathering per-item and per-user statistics."
            ]
          },
          "metadata": {
            "tags": []
          }
        },
        {
          "output_type": "display_data",
          "data": {
            "text/html": [
              "<pre>+--------------------------------+------------+</pre>"
            ],
            "text/plain": [
              "+--------------------------------+------------+"
            ]
          },
          "metadata": {
            "tags": []
          }
        },
        {
          "output_type": "display_data",
          "data": {
            "text/html": [
              "<pre>| Elapsed Time (Item Statistics) | % Complete |</pre>"
            ],
            "text/plain": [
              "| Elapsed Time (Item Statistics) | % Complete |"
            ]
          },
          "metadata": {
            "tags": []
          }
        },
        {
          "output_type": "display_data",
          "data": {
            "text/html": [
              "<pre>+--------------------------------+------------+</pre>"
            ],
            "text/plain": [
              "+--------------------------------+------------+"
            ]
          },
          "metadata": {
            "tags": []
          }
        },
        {
          "output_type": "display_data",
          "data": {
            "text/html": [
              "<pre>| 1.264ms                        | 4.25       |</pre>"
            ],
            "text/plain": [
              "| 1.264ms                        | 4.25       |"
            ]
          },
          "metadata": {
            "tags": []
          }
        },
        {
          "output_type": "display_data",
          "data": {
            "text/html": [
              "<pre>| 12.41ms                        | 100        |</pre>"
            ],
            "text/plain": [
              "| 12.41ms                        | 100        |"
            ]
          },
          "metadata": {
            "tags": []
          }
        },
        {
          "output_type": "display_data",
          "data": {
            "text/html": [
              "<pre>+--------------------------------+------------+</pre>"
            ],
            "text/plain": [
              "+--------------------------------+------------+"
            ]
          },
          "metadata": {
            "tags": []
          }
        },
        {
          "output_type": "display_data",
          "data": {
            "text/html": [
              "<pre>Setting up lookup tables.</pre>"
            ],
            "text/plain": [
              "Setting up lookup tables."
            ]
          },
          "metadata": {
            "tags": []
          }
        },
        {
          "output_type": "display_data",
          "data": {
            "text/html": [
              "<pre>Processing data in one pass using dense lookup tables.</pre>"
            ],
            "text/plain": [
              "Processing data in one pass using dense lookup tables."
            ]
          },
          "metadata": {
            "tags": []
          }
        },
        {
          "output_type": "display_data",
          "data": {
            "text/html": [
              "<pre>+-------------------------------------+------------------+-----------------+</pre>"
            ],
            "text/plain": [
              "+-------------------------------------+------------------+-----------------+"
            ]
          },
          "metadata": {
            "tags": []
          }
        },
        {
          "output_type": "display_data",
          "data": {
            "text/html": [
              "<pre>| Elapsed Time (Constructing Lookups) | Total % Complete | Items Processed |</pre>"
            ],
            "text/plain": [
              "| Elapsed Time (Constructing Lookups) | Total % Complete | Items Processed |"
            ]
          },
          "metadata": {
            "tags": []
          }
        },
        {
          "output_type": "display_data",
          "data": {
            "text/html": [
              "<pre>+-------------------------------------+------------------+-----------------+</pre>"
            ],
            "text/plain": [
              "+-------------------------------------+------------------+-----------------+"
            ]
          },
          "metadata": {
            "tags": []
          }
        },
        {
          "output_type": "display_data",
          "data": {
            "text/html": [
              "<pre>| 13.024ms                            | 0                | 0               |</pre>"
            ],
            "text/plain": [
              "| 13.024ms                            | 0                | 0               |"
            ]
          },
          "metadata": {
            "tags": []
          }
        },
        {
          "output_type": "display_data",
          "data": {
            "text/html": [
              "<pre>| 39.409ms                            | 100              | 300             |</pre>"
            ],
            "text/plain": [
              "| 39.409ms                            | 100              | 300             |"
            ]
          },
          "metadata": {
            "tags": []
          }
        },
        {
          "output_type": "display_data",
          "data": {
            "text/html": [
              "<pre>+-------------------------------------+------------------+-----------------+</pre>"
            ],
            "text/plain": [
              "+-------------------------------------+------------------+-----------------+"
            ]
          },
          "metadata": {
            "tags": []
          }
        },
        {
          "output_type": "display_data",
          "data": {
            "text/html": [
              "<pre>Finalizing lookup tables.</pre>"
            ],
            "text/plain": [
              "Finalizing lookup tables."
            ]
          },
          "metadata": {
            "tags": []
          }
        },
        {
          "output_type": "display_data",
          "data": {
            "text/html": [
              "<pre>Generating candidate set for working with new users.</pre>"
            ],
            "text/plain": [
              "Generating candidate set for working with new users."
            ]
          },
          "metadata": {
            "tags": []
          }
        },
        {
          "output_type": "display_data",
          "data": {
            "text/html": [
              "<pre>Finished training in 0.062337s</pre>"
            ],
            "text/plain": [
              "Finished training in 0.062337s"
            ]
          },
          "metadata": {
            "tags": []
          }
        },
        {
          "output_type": "display_data",
          "data": {
            "text/html": [
              "<pre>recommendations finished on 1000/1000 queries. users per second: 47092.1</pre>"
            ],
            "text/plain": [
              "recommendations finished on 1000/1000 queries. users per second: 47092.1"
            ]
          },
          "metadata": {
            "tags": []
          }
        },
        {
          "output_type": "stream",
          "text": [
            "+------------+-----------+-----------------------+------+\n",
            "| customerId | productId |         score         | rank |\n",
            "+------------+-----------+-----------------------+------+\n",
            "|    1553    |     45    |          0.0          |  1   |\n",
            "|    1553    |    129    |          0.0          |  2   |\n",
            "|    1553    |    192    |          0.0          |  3   |\n",
            "|    1553    |     76    |          0.0          |  4   |\n",
            "|    1553    |     12    |          0.0          |  5   |\n",
            "|    1553    |     93    |          0.0          |  6   |\n",
            "|    1553    |    153    |          0.0          |  7   |\n",
            "|    1553    |     23    |          0.0          |  8   |\n",
            "|    1553    |     16    |          0.0          |  9   |\n",
            "|    1553    |     25    |          0.0          |  10  |\n",
            "|   20400    |     45    |          0.0          |  1   |\n",
            "|   20400    |    129    |          0.0          |  2   |\n",
            "|   20400    |    192    |          0.0          |  3   |\n",
            "|   20400    |     76    |          0.0          |  4   |\n",
            "|   20400    |     12    |          0.0          |  5   |\n",
            "|   20400    |     93    |          0.0          |  6   |\n",
            "|   20400    |    153    |          0.0          |  7   |\n",
            "|   20400    |     23    |          0.0          |  8   |\n",
            "|   20400    |     16    |          0.0          |  9   |\n",
            "|   20400    |     25    |          0.0          |  10  |\n",
            "|   19750    |    225    |  0.00438683032989502  |  1   |\n",
            "|   19750    |    178    |  0.003293931484222412 |  2   |\n",
            "|   19750    |    248    |  0.003268718719482422 |  3   |\n",
            "|   19750    |    228    | 0.0031753182411193848 |  4   |\n",
            "|   19750    |    181    |  0.00281294584274292  |  5   |\n",
            "|   19750    |    187    | 0.0027915358543395994 |  6   |\n",
            "|   19750    |    120    | 0.0026786088943481444 |  7   |\n",
            "|   19750    |    222    | 0.0025483131408691405 |  8   |\n",
            "|   19750    |    134    |  0.002524399757385254 |  9   |\n",
            "|   19750    |    251    | 0.0025039076805114745 |  10  |\n",
            "+------------+-----------+-----------------------+------+\n",
            "[10000 rows x 4 columns]\n",
            "\n"
          ],
          "name": "stdout"
        }
      ]
    },
    {
      "cell_type": "markdown",
      "metadata": {
        "id": "eTyBygvCzjIm",
        "colab_type": "text"
      },
      "source": [
        "Pearson similarity"
      ]
    },
    {
      "cell_type": "markdown",
      "metadata": {
        "id": "jyUeHmcX0d4g",
        "colab_type": "text"
      },
      "source": [
        "#Using purchase count"
      ]
    },
    {
      "cell_type": "code",
      "metadata": {
        "id": "oDR2wU7-zTrv",
        "colab_type": "code",
        "colab": {
          "base_uri": "https://localhost:8080/",
          "height": 1000
        },
        "outputId": "84ace156-ac6e-4b8d-9cb1-5e6ba9eda0cd"
      },
      "source": [
        "# these variables will change accordingly\n",
        "name = 'pearson'\n",
        "target = 'purchase_count'\n",
        "pear = model(train_data, name, user_id, item_id, target, users_to_recommend, n_rec, n_display)"
      ],
      "execution_count": 38,
      "outputs": [
        {
          "output_type": "display_data",
          "data": {
            "text/html": [
              "<pre>Preparing data set.</pre>"
            ],
            "text/plain": [
              "Preparing data set."
            ]
          },
          "metadata": {
            "tags": []
          }
        },
        {
          "output_type": "display_data",
          "data": {
            "text/html": [
              "<pre>    Data has 106868 observations with 23346 users and 300 items.</pre>"
            ],
            "text/plain": [
              "    Data has 106868 observations with 23346 users and 300 items."
            ]
          },
          "metadata": {
            "tags": []
          }
        },
        {
          "output_type": "display_data",
          "data": {
            "text/html": [
              "<pre>    Data prepared in: 0.16929s</pre>"
            ],
            "text/plain": [
              "    Data prepared in: 0.16929s"
            ]
          },
          "metadata": {
            "tags": []
          }
        },
        {
          "output_type": "display_data",
          "data": {
            "text/html": [
              "<pre>Training model from provided data.</pre>"
            ],
            "text/plain": [
              "Training model from provided data."
            ]
          },
          "metadata": {
            "tags": []
          }
        },
        {
          "output_type": "display_data",
          "data": {
            "text/html": [
              "<pre>Gathering per-item and per-user statistics.</pre>"
            ],
            "text/plain": [
              "Gathering per-item and per-user statistics."
            ]
          },
          "metadata": {
            "tags": []
          }
        },
        {
          "output_type": "display_data",
          "data": {
            "text/html": [
              "<pre>+--------------------------------+------------+</pre>"
            ],
            "text/plain": [
              "+--------------------------------+------------+"
            ]
          },
          "metadata": {
            "tags": []
          }
        },
        {
          "output_type": "display_data",
          "data": {
            "text/html": [
              "<pre>| Elapsed Time (Item Statistics) | % Complete |</pre>"
            ],
            "text/plain": [
              "| Elapsed Time (Item Statistics) | % Complete |"
            ]
          },
          "metadata": {
            "tags": []
          }
        },
        {
          "output_type": "display_data",
          "data": {
            "text/html": [
              "<pre>+--------------------------------+------------+</pre>"
            ],
            "text/plain": [
              "+--------------------------------+------------+"
            ]
          },
          "metadata": {
            "tags": []
          }
        },
        {
          "output_type": "display_data",
          "data": {
            "text/html": [
              "<pre>| 2.228ms                        | 4.25       |</pre>"
            ],
            "text/plain": [
              "| 2.228ms                        | 4.25       |"
            ]
          },
          "metadata": {
            "tags": []
          }
        },
        {
          "output_type": "display_data",
          "data": {
            "text/html": [
              "<pre>| 19.684ms                       | 100        |</pre>"
            ],
            "text/plain": [
              "| 19.684ms                       | 100        |"
            ]
          },
          "metadata": {
            "tags": []
          }
        },
        {
          "output_type": "display_data",
          "data": {
            "text/html": [
              "<pre>+--------------------------------+------------+</pre>"
            ],
            "text/plain": [
              "+--------------------------------+------------+"
            ]
          },
          "metadata": {
            "tags": []
          }
        },
        {
          "output_type": "display_data",
          "data": {
            "text/html": [
              "<pre>Setting up lookup tables.</pre>"
            ],
            "text/plain": [
              "Setting up lookup tables."
            ]
          },
          "metadata": {
            "tags": []
          }
        },
        {
          "output_type": "display_data",
          "data": {
            "text/html": [
              "<pre>Processing data in one pass using dense lookup tables.</pre>"
            ],
            "text/plain": [
              "Processing data in one pass using dense lookup tables."
            ]
          },
          "metadata": {
            "tags": []
          }
        },
        {
          "output_type": "display_data",
          "data": {
            "text/html": [
              "<pre>+-------------------------------------+------------------+-----------------+</pre>"
            ],
            "text/plain": [
              "+-------------------------------------+------------------+-----------------+"
            ]
          },
          "metadata": {
            "tags": []
          }
        },
        {
          "output_type": "display_data",
          "data": {
            "text/html": [
              "<pre>| Elapsed Time (Constructing Lookups) | Total % Complete | Items Processed |</pre>"
            ],
            "text/plain": [
              "| Elapsed Time (Constructing Lookups) | Total % Complete | Items Processed |"
            ]
          },
          "metadata": {
            "tags": []
          }
        },
        {
          "output_type": "display_data",
          "data": {
            "text/html": [
              "<pre>+-------------------------------------+------------------+-----------------+</pre>"
            ],
            "text/plain": [
              "+-------------------------------------+------------------+-----------------+"
            ]
          },
          "metadata": {
            "tags": []
          }
        },
        {
          "output_type": "display_data",
          "data": {
            "text/html": [
              "<pre>| 23.092ms                            | 0                | 0               |</pre>"
            ],
            "text/plain": [
              "| 23.092ms                            | 0                | 0               |"
            ]
          },
          "metadata": {
            "tags": []
          }
        },
        {
          "output_type": "display_data",
          "data": {
            "text/html": [
              "<pre>| 62.092ms                            | 100              | 300             |</pre>"
            ],
            "text/plain": [
              "| 62.092ms                            | 100              | 300             |"
            ]
          },
          "metadata": {
            "tags": []
          }
        },
        {
          "output_type": "display_data",
          "data": {
            "text/html": [
              "<pre>+-------------------------------------+------------------+-----------------+</pre>"
            ],
            "text/plain": [
              "+-------------------------------------+------------------+-----------------+"
            ]
          },
          "metadata": {
            "tags": []
          }
        },
        {
          "output_type": "display_data",
          "data": {
            "text/html": [
              "<pre>Finalizing lookup tables.</pre>"
            ],
            "text/plain": [
              "Finalizing lookup tables."
            ]
          },
          "metadata": {
            "tags": []
          }
        },
        {
          "output_type": "display_data",
          "data": {
            "text/html": [
              "<pre>Generating candidate set for working with new users.</pre>"
            ],
            "text/plain": [
              "Generating candidate set for working with new users."
            ]
          },
          "metadata": {
            "tags": []
          }
        },
        {
          "output_type": "display_data",
          "data": {
            "text/html": [
              "<pre>Finished training in 0.085782s</pre>"
            ],
            "text/plain": [
              "Finished training in 0.085782s"
            ]
          },
          "metadata": {
            "tags": []
          }
        },
        {
          "output_type": "display_data",
          "data": {
            "text/html": [
              "<pre>recommendations finished on 1000/1000 queries. users per second: 69228.1</pre>"
            ],
            "text/plain": [
              "recommendations finished on 1000/1000 queries. users per second: 69228.1"
            ]
          },
          "metadata": {
            "tags": []
          }
        },
        {
          "output_type": "stream",
          "text": [
            "+------------+-----------+--------------------+------+\n",
            "| customerId | productId |       score        | rank |\n",
            "+------------+-----------+--------------------+------+\n",
            "|    1553    |     37    |  3.08790774359206  |  1   |\n",
            "|    1553    |    248    | 3.0188101304901966 |  2   |\n",
            "|    1553    |     34    | 2.9646888560262217 |  3   |\n",
            "|    1553    |     0     | 2.9488450021414345 |  4   |\n",
            "|    1553    |    132    | 2.9074074074074083 |  5   |\n",
            "|    1553    |    110    | 2.819882561775024  |  6   |\n",
            "|    1553    |     27    | 2.7734374999999996 |  7   |\n",
            "|    1553    |     3     | 2.7648261758691226 |  8   |\n",
            "|    1553    |    245    | 2.693181818181817  |  9   |\n",
            "|    1553    |    230    | 2.653023383250604  |  10  |\n",
            "|   20400    |     37    | 3.0872690440605046 |  1   |\n",
            "|   20400    |    248    | 3.0222222222222217 |  2   |\n",
            "|   20400    |     34    |  2.96551724137931  |  3   |\n",
            "|   20400    |     0     | 2.9514472455648963 |  4   |\n",
            "|   20400    |    132    | 2.9074074074074083 |  5   |\n",
            "|   20400    |    110    | 2.8263473053892207 |  6   |\n",
            "|   20400    |     27    | 2.7713994383811946 |  7   |\n",
            "|   20400    |     3     | 2.7619712921983157 |  8   |\n",
            "|   20400    |    245    | 2.693181818181817  |  9   |\n",
            "|   20400    |    230    | 2.653846153846154  |  10  |\n",
            "|   19750    |     37    | 3.0863189937065005 |  1   |\n",
            "|   19750    |    248    | 3.0221505059136278 |  2   |\n",
            "|   19750    |     34    | 2.9576368993726265 |  3   |\n",
            "|   19750    |     0     | 2.9514472455648963 |  4   |\n",
            "|   19750    |    132    | 2.9041301056190783 |  5   |\n",
            "|   19750    |    110    | 2.8232510348280027 |  6   |\n",
            "|   19750    |     27    | 2.7734374999999996 |  7   |\n",
            "|   19750    |     3     | 2.7648261758691226 |  8   |\n",
            "|   19750    |    245    | 2.6892401749437496 |  9   |\n",
            "|   19750    |    230    | 2.653846153846154  |  10  |\n",
            "+------------+-----------+--------------------+------+\n",
            "[10000 rows x 4 columns]\n",
            "\n"
          ],
          "name": "stdout"
        }
      ]
    },
    {
      "cell_type": "markdown",
      "metadata": {
        "id": "fGFS-iFX0kCm",
        "colab_type": "text"
      },
      "source": [
        "#using purchase dummy"
      ]
    },
    {
      "cell_type": "code",
      "metadata": {
        "id": "9lUJjOyRy4fU",
        "colab_type": "code",
        "colab": {
          "base_uri": "https://localhost:8080/",
          "height": 1000
        },
        "outputId": "c6909e84-a5fd-4b09-d4e4-41c4c20b6e0d"
      },
      "source": [
        "name='pearson'\n",
        "target='purchase_dummy'\n",
        "pear_dummy=model(train_data_dummy,name,user_id,item_id,target,users_to_recommend,n_rec,n_display)"
      ],
      "execution_count": 40,
      "outputs": [
        {
          "output_type": "display_data",
          "data": {
            "text/html": [
              "<pre>Warning: Ignoring columns purchase_count;</pre>"
            ],
            "text/plain": [
              "Warning: Ignoring columns purchase_count;"
            ]
          },
          "metadata": {
            "tags": []
          }
        },
        {
          "output_type": "display_data",
          "data": {
            "text/html": [
              "<pre>    To use these columns in scoring predictions, use a model that allows the use of additional features.</pre>"
            ],
            "text/plain": [
              "    To use these columns in scoring predictions, use a model that allows the use of additional features."
            ]
          },
          "metadata": {
            "tags": []
          }
        },
        {
          "output_type": "display_data",
          "data": {
            "text/html": [
              "<pre>Preparing data set.</pre>"
            ],
            "text/plain": [
              "Preparing data set."
            ]
          },
          "metadata": {
            "tags": []
          }
        },
        {
          "output_type": "display_data",
          "data": {
            "text/html": [
              "<pre>    Data has 106868 observations with 23332 users and 300 items.</pre>"
            ],
            "text/plain": [
              "    Data has 106868 observations with 23332 users and 300 items."
            ]
          },
          "metadata": {
            "tags": []
          }
        },
        {
          "output_type": "display_data",
          "data": {
            "text/html": [
              "<pre>    Data prepared in: 0.136256s</pre>"
            ],
            "text/plain": [
              "    Data prepared in: 0.136256s"
            ]
          },
          "metadata": {
            "tags": []
          }
        },
        {
          "output_type": "display_data",
          "data": {
            "text/html": [
              "<pre>Training model from provided data.</pre>"
            ],
            "text/plain": [
              "Training model from provided data."
            ]
          },
          "metadata": {
            "tags": []
          }
        },
        {
          "output_type": "display_data",
          "data": {
            "text/html": [
              "<pre>Gathering per-item and per-user statistics.</pre>"
            ],
            "text/plain": [
              "Gathering per-item and per-user statistics."
            ]
          },
          "metadata": {
            "tags": []
          }
        },
        {
          "output_type": "display_data",
          "data": {
            "text/html": [
              "<pre>+--------------------------------+------------+</pre>"
            ],
            "text/plain": [
              "+--------------------------------+------------+"
            ]
          },
          "metadata": {
            "tags": []
          }
        },
        {
          "output_type": "display_data",
          "data": {
            "text/html": [
              "<pre>| Elapsed Time (Item Statistics) | % Complete |</pre>"
            ],
            "text/plain": [
              "| Elapsed Time (Item Statistics) | % Complete |"
            ]
          },
          "metadata": {
            "tags": []
          }
        },
        {
          "output_type": "display_data",
          "data": {
            "text/html": [
              "<pre>+--------------------------------+------------+</pre>"
            ],
            "text/plain": [
              "+--------------------------------+------------+"
            ]
          },
          "metadata": {
            "tags": []
          }
        },
        {
          "output_type": "display_data",
          "data": {
            "text/html": [
              "<pre>| 5.617ms                        | 4.25       |</pre>"
            ],
            "text/plain": [
              "| 5.617ms                        | 4.25       |"
            ]
          },
          "metadata": {
            "tags": []
          }
        },
        {
          "output_type": "display_data",
          "data": {
            "text/html": [
              "<pre>| 17.68ms                        | 100        |</pre>"
            ],
            "text/plain": [
              "| 17.68ms                        | 100        |"
            ]
          },
          "metadata": {
            "tags": []
          }
        },
        {
          "output_type": "display_data",
          "data": {
            "text/html": [
              "<pre>+--------------------------------+------------+</pre>"
            ],
            "text/plain": [
              "+--------------------------------+------------+"
            ]
          },
          "metadata": {
            "tags": []
          }
        },
        {
          "output_type": "display_data",
          "data": {
            "text/html": [
              "<pre>Setting up lookup tables.</pre>"
            ],
            "text/plain": [
              "Setting up lookup tables."
            ]
          },
          "metadata": {
            "tags": []
          }
        },
        {
          "output_type": "display_data",
          "data": {
            "text/html": [
              "<pre>Processing data in one pass using dense lookup tables.</pre>"
            ],
            "text/plain": [
              "Processing data in one pass using dense lookup tables."
            ]
          },
          "metadata": {
            "tags": []
          }
        },
        {
          "output_type": "display_data",
          "data": {
            "text/html": [
              "<pre>+-------------------------------------+------------------+-----------------+</pre>"
            ],
            "text/plain": [
              "+-------------------------------------+------------------+-----------------+"
            ]
          },
          "metadata": {
            "tags": []
          }
        },
        {
          "output_type": "display_data",
          "data": {
            "text/html": [
              "<pre>| Elapsed Time (Constructing Lookups) | Total % Complete | Items Processed |</pre>"
            ],
            "text/plain": [
              "| Elapsed Time (Constructing Lookups) | Total % Complete | Items Processed |"
            ]
          },
          "metadata": {
            "tags": []
          }
        },
        {
          "output_type": "display_data",
          "data": {
            "text/html": [
              "<pre>+-------------------------------------+------------------+-----------------+</pre>"
            ],
            "text/plain": [
              "+-------------------------------------+------------------+-----------------+"
            ]
          },
          "metadata": {
            "tags": []
          }
        },
        {
          "output_type": "display_data",
          "data": {
            "text/html": [
              "<pre>| 18.274ms                            | 0                | 0               |</pre>"
            ],
            "text/plain": [
              "| 18.274ms                            | 0                | 0               |"
            ]
          },
          "metadata": {
            "tags": []
          }
        },
        {
          "output_type": "display_data",
          "data": {
            "text/html": [
              "<pre>| 59.523ms                            | 100              | 300             |</pre>"
            ],
            "text/plain": [
              "| 59.523ms                            | 100              | 300             |"
            ]
          },
          "metadata": {
            "tags": []
          }
        },
        {
          "output_type": "display_data",
          "data": {
            "text/html": [
              "<pre>+-------------------------------------+------------------+-----------------+</pre>"
            ],
            "text/plain": [
              "+-------------------------------------+------------------+-----------------+"
            ]
          },
          "metadata": {
            "tags": []
          }
        },
        {
          "output_type": "display_data",
          "data": {
            "text/html": [
              "<pre>Finalizing lookup tables.</pre>"
            ],
            "text/plain": [
              "Finalizing lookup tables."
            ]
          },
          "metadata": {
            "tags": []
          }
        },
        {
          "output_type": "display_data",
          "data": {
            "text/html": [
              "<pre>Generating candidate set for working with new users.</pre>"
            ],
            "text/plain": [
              "Generating candidate set for working with new users."
            ]
          },
          "metadata": {
            "tags": []
          }
        },
        {
          "output_type": "display_data",
          "data": {
            "text/html": [
              "<pre>Finished training in 0.0811s</pre>"
            ],
            "text/plain": [
              "Finished training in 0.0811s"
            ]
          },
          "metadata": {
            "tags": []
          }
        },
        {
          "output_type": "display_data",
          "data": {
            "text/html": [
              "<pre>recommendations finished on 1000/1000 queries. users per second: 78106.7</pre>"
            ],
            "text/plain": [
              "recommendations finished on 1000/1000 queries. users per second: 78106.7"
            ]
          },
          "metadata": {
            "tags": []
          }
        },
        {
          "output_type": "stream",
          "text": [
            "+------------+-----------+-------+------+\n",
            "| customerId | productId | score | rank |\n",
            "+------------+-----------+-------+------+\n",
            "|    1553    |     78    |  0.0  |  1   |\n",
            "|    1553    |    196    |  0.0  |  2   |\n",
            "|    1553    |     61    |  0.0  |  3   |\n",
            "|    1553    |     1     |  0.0  |  4   |\n",
            "|    1553    |     21    |  0.0  |  5   |\n",
            "|    1553    |     10    |  0.0  |  6   |\n",
            "|    1553    |     65    |  0.0  |  7   |\n",
            "|    1553    |    256    |  0.0  |  8   |\n",
            "|    1553    |    112    |  0.0  |  9   |\n",
            "|    1553    |     2     |  0.0  |  10  |\n",
            "|   20400    |     78    |  0.0  |  1   |\n",
            "|   20400    |    196    |  0.0  |  2   |\n",
            "|   20400    |     61    |  0.0  |  3   |\n",
            "|   20400    |     1     |  0.0  |  4   |\n",
            "|   20400    |     21    |  0.0  |  5   |\n",
            "|   20400    |     10    |  0.0  |  6   |\n",
            "|   20400    |     65    |  0.0  |  7   |\n",
            "|   20400    |    256    |  0.0  |  8   |\n",
            "|   20400    |    112    |  0.0  |  9   |\n",
            "|   20400    |     2     |  0.0  |  10  |\n",
            "|   19750    |     78    |  0.0  |  1   |\n",
            "|   19750    |    196    |  0.0  |  2   |\n",
            "|   19750    |     61    |  0.0  |  3   |\n",
            "|   19750    |     1     |  0.0  |  4   |\n",
            "|   19750    |     21    |  0.0  |  5   |\n",
            "|   19750    |     10    |  0.0  |  6   |\n",
            "|   19750    |     65    |  0.0  |  7   |\n",
            "|   19750    |    256    |  0.0  |  8   |\n",
            "|   19750    |    112    |  0.0  |  9   |\n",
            "|   19750    |     2     |  0.0  |  10  |\n",
            "+------------+-----------+-------+------+\n",
            "[10000 rows x 4 columns]\n",
            "\n"
          ],
          "name": "stdout"
        }
      ]
    },
    {
      "cell_type": "markdown",
      "metadata": {
        "id": "SXhrxd_g1hxo",
        "colab_type": "text"
      },
      "source": [
        "#using normalized purchase count"
      ]
    },
    {
      "cell_type": "code",
      "metadata": {
        "id": "ca56aUwg1psY",
        "colab_type": "code",
        "colab": {
          "base_uri": "https://localhost:8080/",
          "height": 1000
        },
        "outputId": "592cee5d-0ca8-46f4-9a04-7a9029650528"
      },
      "source": [
        "name='pearson'\n",
        "target='scaled_purchase_freq'\n",
        "pear_norm=model(train_data_norm,name,user_id,item_id,target,users_to_recommend,n_rec,n_display)"
      ],
      "execution_count": 41,
      "outputs": [
        {
          "output_type": "display_data",
          "data": {
            "text/html": [
              "<pre>Preparing data set.</pre>"
            ],
            "text/plain": [
              "Preparing data set."
            ]
          },
          "metadata": {
            "tags": []
          }
        },
        {
          "output_type": "display_data",
          "data": {
            "text/html": [
              "<pre>    Data has 106868 observations with 23309 users and 300 items.</pre>"
            ],
            "text/plain": [
              "    Data has 106868 observations with 23309 users and 300 items."
            ]
          },
          "metadata": {
            "tags": []
          }
        },
        {
          "output_type": "display_data",
          "data": {
            "text/html": [
              "<pre>    Data prepared in: 0.148151s</pre>"
            ],
            "text/plain": [
              "    Data prepared in: 0.148151s"
            ]
          },
          "metadata": {
            "tags": []
          }
        },
        {
          "output_type": "display_data",
          "data": {
            "text/html": [
              "<pre>Training model from provided data.</pre>"
            ],
            "text/plain": [
              "Training model from provided data."
            ]
          },
          "metadata": {
            "tags": []
          }
        },
        {
          "output_type": "display_data",
          "data": {
            "text/html": [
              "<pre>Gathering per-item and per-user statistics.</pre>"
            ],
            "text/plain": [
              "Gathering per-item and per-user statistics."
            ]
          },
          "metadata": {
            "tags": []
          }
        },
        {
          "output_type": "display_data",
          "data": {
            "text/html": [
              "<pre>+--------------------------------+------------+</pre>"
            ],
            "text/plain": [
              "+--------------------------------+------------+"
            ]
          },
          "metadata": {
            "tags": []
          }
        },
        {
          "output_type": "display_data",
          "data": {
            "text/html": [
              "<pre>| Elapsed Time (Item Statistics) | % Complete |</pre>"
            ],
            "text/plain": [
              "| Elapsed Time (Item Statistics) | % Complete |"
            ]
          },
          "metadata": {
            "tags": []
          }
        },
        {
          "output_type": "display_data",
          "data": {
            "text/html": [
              "<pre>+--------------------------------+------------+</pre>"
            ],
            "text/plain": [
              "+--------------------------------+------------+"
            ]
          },
          "metadata": {
            "tags": []
          }
        },
        {
          "output_type": "display_data",
          "data": {
            "text/html": [
              "<pre>| 2.52ms                         | 4.25       |</pre>"
            ],
            "text/plain": [
              "| 2.52ms                         | 4.25       |"
            ]
          },
          "metadata": {
            "tags": []
          }
        },
        {
          "output_type": "display_data",
          "data": {
            "text/html": [
              "<pre>| 18.251ms                       | 100        |</pre>"
            ],
            "text/plain": [
              "| 18.251ms                       | 100        |"
            ]
          },
          "metadata": {
            "tags": []
          }
        },
        {
          "output_type": "display_data",
          "data": {
            "text/html": [
              "<pre>+--------------------------------+------------+</pre>"
            ],
            "text/plain": [
              "+--------------------------------+------------+"
            ]
          },
          "metadata": {
            "tags": []
          }
        },
        {
          "output_type": "display_data",
          "data": {
            "text/html": [
              "<pre>Setting up lookup tables.</pre>"
            ],
            "text/plain": [
              "Setting up lookup tables."
            ]
          },
          "metadata": {
            "tags": []
          }
        },
        {
          "output_type": "display_data",
          "data": {
            "text/html": [
              "<pre>Processing data in one pass using dense lookup tables.</pre>"
            ],
            "text/plain": [
              "Processing data in one pass using dense lookup tables."
            ]
          },
          "metadata": {
            "tags": []
          }
        },
        {
          "output_type": "display_data",
          "data": {
            "text/html": [
              "<pre>+-------------------------------------+------------------+-----------------+</pre>"
            ],
            "text/plain": [
              "+-------------------------------------+------------------+-----------------+"
            ]
          },
          "metadata": {
            "tags": []
          }
        },
        {
          "output_type": "display_data",
          "data": {
            "text/html": [
              "<pre>| Elapsed Time (Constructing Lookups) | Total % Complete | Items Processed |</pre>"
            ],
            "text/plain": [
              "| Elapsed Time (Constructing Lookups) | Total % Complete | Items Processed |"
            ]
          },
          "metadata": {
            "tags": []
          }
        },
        {
          "output_type": "display_data",
          "data": {
            "text/html": [
              "<pre>+-------------------------------------+------------------+-----------------+</pre>"
            ],
            "text/plain": [
              "+-------------------------------------+------------------+-----------------+"
            ]
          },
          "metadata": {
            "tags": []
          }
        },
        {
          "output_type": "display_data",
          "data": {
            "text/html": [
              "<pre>| 19.128ms                            | 0                | 0               |</pre>"
            ],
            "text/plain": [
              "| 19.128ms                            | 0                | 0               |"
            ]
          },
          "metadata": {
            "tags": []
          }
        },
        {
          "output_type": "display_data",
          "data": {
            "text/html": [
              "<pre>| 65.524ms                            | 100              | 300             |</pre>"
            ],
            "text/plain": [
              "| 65.524ms                            | 100              | 300             |"
            ]
          },
          "metadata": {
            "tags": []
          }
        },
        {
          "output_type": "display_data",
          "data": {
            "text/html": [
              "<pre>+-------------------------------------+------------------+-----------------+</pre>"
            ],
            "text/plain": [
              "+-------------------------------------+------------------+-----------------+"
            ]
          },
          "metadata": {
            "tags": []
          }
        },
        {
          "output_type": "display_data",
          "data": {
            "text/html": [
              "<pre>Finalizing lookup tables.</pre>"
            ],
            "text/plain": [
              "Finalizing lookup tables."
            ]
          },
          "metadata": {
            "tags": []
          }
        },
        {
          "output_type": "display_data",
          "data": {
            "text/html": [
              "<pre>Generating candidate set for working with new users.</pre>"
            ],
            "text/plain": [
              "Generating candidate set for working with new users."
            ]
          },
          "metadata": {
            "tags": []
          }
        },
        {
          "output_type": "display_data",
          "data": {
            "text/html": [
              "<pre>Finished training in 0.080826s</pre>"
            ],
            "text/plain": [
              "Finished training in 0.080826s"
            ]
          },
          "metadata": {
            "tags": []
          }
        },
        {
          "output_type": "display_data",
          "data": {
            "text/html": [
              "<pre>recommendations finished on 1000/1000 queries. users per second: 72098.1</pre>"
            ],
            "text/plain": [
              "recommendations finished on 1000/1000 queries. users per second: 72098.1"
            ]
          },
          "metadata": {
            "tags": []
          }
        },
        {
          "output_type": "stream",
          "text": [
            "+------------+-----------+---------------------+------+\n",
            "| customerId | productId |        score        | rank |\n",
            "+------------+-----------+---------------------+------+\n",
            "|    1553    |    226    |  0.781512459398995  |  1   |\n",
            "|    1553    |    247    |  0.3358395989974938 |  2   |\n",
            "|    1553    |    230    |  0.3266478683609161 |  3   |\n",
            "|    1553    |    248    | 0.26902173913043487 |  4   |\n",
            "|    1553    |    125    |  0.2564108336588432 |  5   |\n",
            "|    1553    |    294    |  0.2536231884057972 |  6   |\n",
            "|    1553    |    276    | 0.23824722905650392 |  7   |\n",
            "|    1553    |    204    | 0.23111111111111116 |  8   |\n",
            "|    1553    |    155    | 0.23018867924528308 |  9   |\n",
            "|    1553    |     72    | 0.22560928310315623 |  10  |\n",
            "|   20400    |    226    |  0.7816901408450705 |  1   |\n",
            "|   20400    |    247    |  0.3358395989974938 |  2   |\n",
            "|   20400    |    230    |  0.3270072992700729 |  3   |\n",
            "|   20400    |    248    | 0.26902173913043487 |  4   |\n",
            "|   20400    |    125    | 0.25655172413793104 |  5   |\n",
            "|   20400    |    294    |  0.2536231884057972 |  6   |\n",
            "|   20400    |    276    | 0.23789176185622468 |  7   |\n",
            "|   20400    |    204    | 0.23111111111111116 |  8   |\n",
            "|   20400    |    155    | 0.23007739737348742 |  9   |\n",
            "|   20400    |     72    | 0.22577319587628855 |  10  |\n",
            "|   19750    |    226    |  0.7815535508411032 |  1   |\n",
            "|   19750    |    230    |  0.3270072992700729 |  2   |\n",
            "|   19750    |    248    |  0.2688888803772305 |  3   |\n",
            "|   19750    |    125    |  0.2561803514381935 |  4   |\n",
            "|   19750    |    294    |  0.2536231884057972 |  5   |\n",
            "|   19750    |    276    | 0.23846534927382723 |  6   |\n",
            "|   19750    |    204    |  0.2309843320316739 |  7   |\n",
            "|   19750    |    155    | 0.23018867924528308 |  8   |\n",
            "|   19750    |     72    | 0.22498357738416208 |  9   |\n",
            "|   19750    |    165    | 0.22397554938081676 |  10  |\n",
            "+------------+-----------+---------------------+------+\n",
            "[10000 rows x 4 columns]\n",
            "\n"
          ],
          "name": "stdout"
        }
      ]
    },
    {
      "cell_type": "markdown",
      "metadata": {
        "id": "P7ue4GL6wqS_",
        "colab_type": "text"
      },
      "source": [
        "In collaborative filtering above, we used two approaches: cosine and pearson distance. \n",
        "\n",
        "We also got to apply them to three training datasets with normal counts, dummy, or normalized counts of items purchase."
      ]
    },
    {
      "cell_type": "markdown",
      "metadata": {
        "id": "DCeAQ_nswykD",
        "colab_type": "text"
      },
      "source": [
        "**Model Evaluation**\n",
        "For evaluating recommendation engines, we can use the concept of precision-recall.\n",
        "\n",
        "RMSE (Root Mean Squared Errors)\n",
        "\n",
        "Measures the error of predicted values\n",
        "\n",
        "Lesser the RMSE value, better the recommendations\n",
        "\n",
        "**Recall**\n",
        "\n",
        "What percentage of products that a user buys are actually recommended?\n",
        "\n",
        "If a customer buys 5 products and the recommendation decided to show 3 of them, then the recall is 0.6\n",
        "\n",
        "**Precision**\n",
        "\n",
        "Out of all the recommended items, how many the user actually liked?\n",
        "If 5 products were recommended to the customer out of which he buys 4 of them, then precision is 0.8\n",
        "\n",
        "Why are both recall and precision important?\n",
        "\n",
        "Consider a case where we recommend all products, so our customers will surely cover the items that they liked and bought. In this case, we have 100% recall! \n",
        "\n",
        "Does this mean our model is good?\n",
        "\n",
        "We have to consider precision. If we recommend 300 items but user likes and buys only 3 of them, then precision is 0.1%! This very low precision indicates that the model is not great, despite their excellent recall.\n",
        "So our aim has to be optimizing both recall and precision (to be close to 1 as possible).\n",
        "\n",
        "Lets compare all the models we have built based on precision-recall characteristics:"
      ]
    },
    {
      "cell_type": "code",
      "metadata": {
        "id": "Coo1n4CwVAA0",
        "colab_type": "code",
        "colab": {}
      },
      "source": [
        "#create initial callable models\n",
        "model_w_counts=[popularity_model,cos,pear]\n",
        "model_w_dummy=[pop_dummy,cos_dummy,pear_dummy]\n",
        "model_w_norm=[pop_norm,cos_norm,pear_norm]\n",
        "\n",
        "\n",
        "names_w_counts = ['Popularity Model on Purchase Counts', 'Cosine Similarity on Purchase Counts', 'Pearson Similarity on Purchase Counts']\n",
        "names_w_dummy = ['Popularity Model on Purchase Dummy', 'Cosine Similarity on Purchase Dummy', 'Pearson Similarity on Purchase Dummy']\n",
        "names_w_norm = ['Popularity Model on Scaled Purchase Counts', 'Cosine Similarity on Scaled Purchase Counts', 'Pearson Similarity on Scaled Purchase Counts']"
      ],
      "execution_count": 0,
      "outputs": []
    },
    {
      "cell_type": "code",
      "metadata": {
        "id": "ZKITwUCp2Gd4",
        "colab_type": "code",
        "colab": {
          "base_uri": "https://localhost:8080/",
          "height": 1000
        },
        "outputId": "c29ac5f7-a57f-4039-9e44-30532567ce51"
      },
      "source": [
        "#models on purchase_count\n",
        "eval_count=tc.recommender.util.compare_models(test_data,model_w_counts,model_names=names_w_counts)"
      ],
      "execution_count": 43,
      "outputs": [
        {
          "output_type": "stream",
          "text": [
            "PROGRESS: Evaluate model Popularity Model on Purchase Counts\n"
          ],
          "name": "stdout"
        },
        {
          "output_type": "display_data",
          "data": {
            "text/html": [
              "<pre>recommendations finished on 1000/13884 queries. users per second: 61599.1</pre>"
            ],
            "text/plain": [
              "recommendations finished on 1000/13884 queries. users per second: 61599.1"
            ]
          },
          "metadata": {
            "tags": []
          }
        },
        {
          "output_type": "display_data",
          "data": {
            "text/html": [
              "<pre>recommendations finished on 2000/13884 queries. users per second: 66328.4</pre>"
            ],
            "text/plain": [
              "recommendations finished on 2000/13884 queries. users per second: 66328.4"
            ]
          },
          "metadata": {
            "tags": []
          }
        },
        {
          "output_type": "display_data",
          "data": {
            "text/html": [
              "<pre>recommendations finished on 3000/13884 queries. users per second: 70773.1</pre>"
            ],
            "text/plain": [
              "recommendations finished on 3000/13884 queries. users per second: 70773.1"
            ]
          },
          "metadata": {
            "tags": []
          }
        },
        {
          "output_type": "display_data",
          "data": {
            "text/html": [
              "<pre>recommendations finished on 4000/13884 queries. users per second: 73757.2</pre>"
            ],
            "text/plain": [
              "recommendations finished on 4000/13884 queries. users per second: 73757.2"
            ]
          },
          "metadata": {
            "tags": []
          }
        },
        {
          "output_type": "display_data",
          "data": {
            "text/html": [
              "<pre>recommendations finished on 5000/13884 queries. users per second: 77383.8</pre>"
            ],
            "text/plain": [
              "recommendations finished on 5000/13884 queries. users per second: 77383.8"
            ]
          },
          "metadata": {
            "tags": []
          }
        },
        {
          "output_type": "display_data",
          "data": {
            "text/html": [
              "<pre>recommendations finished on 6000/13884 queries. users per second: 72348.4</pre>"
            ],
            "text/plain": [
              "recommendations finished on 6000/13884 queries. users per second: 72348.4"
            ]
          },
          "metadata": {
            "tags": []
          }
        },
        {
          "output_type": "display_data",
          "data": {
            "text/html": [
              "<pre>recommendations finished on 7000/13884 queries. users per second: 63722.1</pre>"
            ],
            "text/plain": [
              "recommendations finished on 7000/13884 queries. users per second: 63722.1"
            ]
          },
          "metadata": {
            "tags": []
          }
        },
        {
          "output_type": "display_data",
          "data": {
            "text/html": [
              "<pre>recommendations finished on 8000/13884 queries. users per second: 65813.3</pre>"
            ],
            "text/plain": [
              "recommendations finished on 8000/13884 queries. users per second: 65813.3"
            ]
          },
          "metadata": {
            "tags": []
          }
        },
        {
          "output_type": "display_data",
          "data": {
            "text/html": [
              "<pre>recommendations finished on 9000/13884 queries. users per second: 67698.2</pre>"
            ],
            "text/plain": [
              "recommendations finished on 9000/13884 queries. users per second: 67698.2"
            ]
          },
          "metadata": {
            "tags": []
          }
        },
        {
          "output_type": "display_data",
          "data": {
            "text/html": [
              "<pre>recommendations finished on 10000/13884 queries. users per second: 69057.4</pre>"
            ],
            "text/plain": [
              "recommendations finished on 10000/13884 queries. users per second: 69057.4"
            ]
          },
          "metadata": {
            "tags": []
          }
        },
        {
          "output_type": "display_data",
          "data": {
            "text/html": [
              "<pre>recommendations finished on 11000/13884 queries. users per second: 70315.4</pre>"
            ],
            "text/plain": [
              "recommendations finished on 11000/13884 queries. users per second: 70315.4"
            ]
          },
          "metadata": {
            "tags": []
          }
        },
        {
          "output_type": "display_data",
          "data": {
            "text/html": [
              "<pre>recommendations finished on 12000/13884 queries. users per second: 69626.6</pre>"
            ],
            "text/plain": [
              "recommendations finished on 12000/13884 queries. users per second: 69626.6"
            ]
          },
          "metadata": {
            "tags": []
          }
        },
        {
          "output_type": "display_data",
          "data": {
            "text/html": [
              "<pre>recommendations finished on 13000/13884 queries. users per second: 68569.7</pre>"
            ],
            "text/plain": [
              "recommendations finished on 13000/13884 queries. users per second: 68569.7"
            ]
          },
          "metadata": {
            "tags": []
          }
        },
        {
          "output_type": "stream",
          "text": [
            "\n",
            "Precision and recall summary statistics by cutoff\n",
            "+--------+-----------------------+-----------------------+\n",
            "| cutoff |     mean_precision    |      mean_recall      |\n",
            "+--------+-----------------------+-----------------------+\n",
            "|   1    |  0.004465571881302223 |   0.0024949353601039  |\n",
            "|   2    |  0.003205128205128205 | 0.0035393382840507846 |\n",
            "|   3    | 0.0033371746854892973 |  0.005173141954371302 |\n",
            "|   4    |  0.006698357821953328 |  0.015088496024550228 |\n",
            "|   5    | 0.0056900028810141536 |  0.01586216835721131  |\n",
            "|   6    |  0.005233842312493989 |  0.017520558467331176 |\n",
            "|   7    |  0.004980038687903881 |  0.019536325160064122 |\n",
            "|   8    |  0.005239844425237687 |  0.023463141165531828 |\n",
            "|   9    |  0.004857709913889739 |  0.02443616938575109  |\n",
            "|   10   |  0.004696053010659791 |  0.02637878811577369  |\n",
            "+--------+-----------------------+-----------------------+\n",
            "[10 rows x 3 columns]\n",
            "\n",
            "\n",
            "Overall RMSE: 1.0689648918289487\n",
            "\n",
            "Per User RMSE (best)\n",
            "+------------+----------------------+-------+\n",
            "| customerId |         rmse         | count |\n",
            "+------------+----------------------+-------+\n",
            "|   19354    | 0.004566210045662267 |   1   |\n",
            "+------------+----------------------+-------+\n",
            "[1 rows x 3 columns]\n",
            "\n",
            "\n",
            "Per User RMSE (worst)\n",
            "+------------+--------------------+-------+\n",
            "| customerId |        rmse        | count |\n",
            "+------------+--------------------+-------+\n",
            "|    693     | 18.849124666334617 |   2   |\n",
            "+------------+--------------------+-------+\n",
            "[1 rows x 3 columns]\n",
            "\n",
            "\n",
            "Per Item RMSE (best)\n",
            "+-----------+---------------------+-------+\n",
            "| productId |         rmse        | count |\n",
            "+-----------+---------------------+-------+\n",
            "|    166    | 0.30740906910442417 |   99  |\n",
            "+-----------+---------------------+-------+\n",
            "[1 rows x 3 columns]\n",
            "\n",
            "\n",
            "Per Item RMSE (worst)\n",
            "+-----------+-------------------+-------+\n",
            "| productId |        rmse       | count |\n",
            "+-----------+-------------------+-------+\n",
            "|    173    | 4.048642173405283 |   29  |\n",
            "+-----------+-------------------+-------+\n",
            "[1 rows x 3 columns]\n",
            "\n",
            "PROGRESS: Evaluate model Cosine Similarity on Purchase Counts\n"
          ],
          "name": "stdout"
        },
        {
          "output_type": "display_data",
          "data": {
            "text/html": [
              "<pre>recommendations finished on 1000/13884 queries. users per second: 46705</pre>"
            ],
            "text/plain": [
              "recommendations finished on 1000/13884 queries. users per second: 46705"
            ]
          },
          "metadata": {
            "tags": []
          }
        },
        {
          "output_type": "display_data",
          "data": {
            "text/html": [
              "<pre>recommendations finished on 2000/13884 queries. users per second: 45813.8</pre>"
            ],
            "text/plain": [
              "recommendations finished on 2000/13884 queries. users per second: 45813.8"
            ]
          },
          "metadata": {
            "tags": []
          }
        },
        {
          "output_type": "display_data",
          "data": {
            "text/html": [
              "<pre>recommendations finished on 3000/13884 queries. users per second: 48132.5</pre>"
            ],
            "text/plain": [
              "recommendations finished on 3000/13884 queries. users per second: 48132.5"
            ]
          },
          "metadata": {
            "tags": []
          }
        },
        {
          "output_type": "display_data",
          "data": {
            "text/html": [
              "<pre>recommendations finished on 4000/13884 queries. users per second: 49616.1</pre>"
            ],
            "text/plain": [
              "recommendations finished on 4000/13884 queries. users per second: 49616.1"
            ]
          },
          "metadata": {
            "tags": []
          }
        },
        {
          "output_type": "display_data",
          "data": {
            "text/html": [
              "<pre>recommendations finished on 5000/13884 queries. users per second: 51017.3</pre>"
            ],
            "text/plain": [
              "recommendations finished on 5000/13884 queries. users per second: 51017.3"
            ]
          },
          "metadata": {
            "tags": []
          }
        },
        {
          "output_type": "display_data",
          "data": {
            "text/html": [
              "<pre>recommendations finished on 6000/13884 queries. users per second: 50883.2</pre>"
            ],
            "text/plain": [
              "recommendations finished on 6000/13884 queries. users per second: 50883.2"
            ]
          },
          "metadata": {
            "tags": []
          }
        },
        {
          "output_type": "display_data",
          "data": {
            "text/html": [
              "<pre>recommendations finished on 7000/13884 queries. users per second: 50589.7</pre>"
            ],
            "text/plain": [
              "recommendations finished on 7000/13884 queries. users per second: 50589.7"
            ]
          },
          "metadata": {
            "tags": []
          }
        },
        {
          "output_type": "display_data",
          "data": {
            "text/html": [
              "<pre>recommendations finished on 8000/13884 queries. users per second: 51240.7</pre>"
            ],
            "text/plain": [
              "recommendations finished on 8000/13884 queries. users per second: 51240.7"
            ]
          },
          "metadata": {
            "tags": []
          }
        },
        {
          "output_type": "display_data",
          "data": {
            "text/html": [
              "<pre>recommendations finished on 9000/13884 queries. users per second: 51867.8</pre>"
            ],
            "text/plain": [
              "recommendations finished on 9000/13884 queries. users per second: 51867.8"
            ]
          },
          "metadata": {
            "tags": []
          }
        },
        {
          "output_type": "display_data",
          "data": {
            "text/html": [
              "<pre>recommendations finished on 10000/13884 queries. users per second: 52435.6</pre>"
            ],
            "text/plain": [
              "recommendations finished on 10000/13884 queries. users per second: 52435.6"
            ]
          },
          "metadata": {
            "tags": []
          }
        },
        {
          "output_type": "display_data",
          "data": {
            "text/html": [
              "<pre>recommendations finished on 11000/13884 queries. users per second: 52912.3</pre>"
            ],
            "text/plain": [
              "recommendations finished on 11000/13884 queries. users per second: 52912.3"
            ]
          },
          "metadata": {
            "tags": []
          }
        },
        {
          "output_type": "display_data",
          "data": {
            "text/html": [
              "<pre>recommendations finished on 12000/13884 queries. users per second: 52575.5</pre>"
            ],
            "text/plain": [
              "recommendations finished on 12000/13884 queries. users per second: 52575.5"
            ]
          },
          "metadata": {
            "tags": []
          }
        },
        {
          "output_type": "display_data",
          "data": {
            "text/html": [
              "<pre>recommendations finished on 13000/13884 queries. users per second: 52973</pre>"
            ],
            "text/plain": [
              "recommendations finished on 13000/13884 queries. users per second: 52973"
            ]
          },
          "metadata": {
            "tags": []
          }
        },
        {
          "output_type": "stream",
          "text": [
            "\n",
            "Precision and recall summary statistics by cutoff\n",
            "+--------+----------------------+---------------------+\n",
            "| cutoff |    mean_precision    |     mean_recall     |\n",
            "+--------+----------------------+---------------------+\n",
            "|   1    | 0.11509651397291848  | 0.06629826885093236 |\n",
            "|   2    | 0.09554163065399018  | 0.11024619555666655 |\n",
            "|   3    | 0.08040430231441494  | 0.13710066977289373 |\n",
            "|   4    | 0.06966652261596068  | 0.15608754189647073 |\n",
            "|   5    | 0.06250360126764642  | 0.17497094362851784 |\n",
            "|   6    | 0.05644386824162101  | 0.18843199880305622 |\n",
            "|   7    | 0.052115487508746214 | 0.20163890520986866 |\n",
            "|   8    | 0.04842804667242869  | 0.21297275478683958 |\n",
            "|   9    | 0.045271935721373405 |  0.2231313282364739 |\n",
            "|   10   | 0.04286949006050157  | 0.23446089979544618 |\n",
            "+--------+----------------------+---------------------+\n",
            "[10 rows x 3 columns]\n",
            "\n",
            "\n",
            "Overall RMSE: 1.9079706480669176\n",
            "\n",
            "Per User RMSE (best)\n",
            "+------------+----------------------+-------+\n",
            "| customerId |         rmse         | count |\n",
            "+------------+----------------------+-------+\n",
            "|   21009    | 0.040985822677612305 |   1   |\n",
            "+------------+----------------------+-------+\n",
            "[1 rows x 3 columns]\n",
            "\n",
            "\n",
            "Per User RMSE (worst)\n",
            "+------------+--------------------+-------+\n",
            "| customerId |        rmse        | count |\n",
            "+------------+--------------------+-------+\n",
            "|    693     | 19.810081134138713 |   2   |\n",
            "+------------+--------------------+-------+\n",
            "[1 rows x 3 columns]\n",
            "\n",
            "\n",
            "Per Item RMSE (best)\n",
            "+-----------+--------------------+-------+\n",
            "| productId |        rmse        | count |\n",
            "+-----------+--------------------+-------+\n",
            "|    166    | 1.0788784487174992 |   99  |\n",
            "+-----------+--------------------+-------+\n",
            "[1 rows x 3 columns]\n",
            "\n",
            "\n",
            "Per Item RMSE (worst)\n",
            "+-----------+-------------------+-------+\n",
            "| productId |        rmse       | count |\n",
            "+-----------+-------------------+-------+\n",
            "|    173    | 4.591464026429885 |   29  |\n",
            "+-----------+-------------------+-------+\n",
            "[1 rows x 3 columns]\n",
            "\n",
            "PROGRESS: Evaluate model Pearson Similarity on Purchase Counts\n"
          ],
          "name": "stdout"
        },
        {
          "output_type": "display_data",
          "data": {
            "text/html": [
              "<pre>recommendations finished on 1000/13884 queries. users per second: 50062.6</pre>"
            ],
            "text/plain": [
              "recommendations finished on 1000/13884 queries. users per second: 50062.6"
            ]
          },
          "metadata": {
            "tags": []
          }
        },
        {
          "output_type": "display_data",
          "data": {
            "text/html": [
              "<pre>recommendations finished on 2000/13884 queries. users per second: 45666.3</pre>"
            ],
            "text/plain": [
              "recommendations finished on 2000/13884 queries. users per second: 45666.3"
            ]
          },
          "metadata": {
            "tags": []
          }
        },
        {
          "output_type": "display_data",
          "data": {
            "text/html": [
              "<pre>recommendations finished on 3000/13884 queries. users per second: 48800.3</pre>"
            ],
            "text/plain": [
              "recommendations finished on 3000/13884 queries. users per second: 48800.3"
            ]
          },
          "metadata": {
            "tags": []
          }
        },
        {
          "output_type": "display_data",
          "data": {
            "text/html": [
              "<pre>recommendations finished on 4000/13884 queries. users per second: 50055.7</pre>"
            ],
            "text/plain": [
              "recommendations finished on 4000/13884 queries. users per second: 50055.7"
            ]
          },
          "metadata": {
            "tags": []
          }
        },
        {
          "output_type": "display_data",
          "data": {
            "text/html": [
              "<pre>recommendations finished on 5000/13884 queries. users per second: 51766.3</pre>"
            ],
            "text/plain": [
              "recommendations finished on 5000/13884 queries. users per second: 51766.3"
            ]
          },
          "metadata": {
            "tags": []
          }
        },
        {
          "output_type": "display_data",
          "data": {
            "text/html": [
              "<pre>recommendations finished on 6000/13884 queries. users per second: 52495.3</pre>"
            ],
            "text/plain": [
              "recommendations finished on 6000/13884 queries. users per second: 52495.3"
            ]
          },
          "metadata": {
            "tags": []
          }
        },
        {
          "output_type": "display_data",
          "data": {
            "text/html": [
              "<pre>recommendations finished on 7000/13884 queries. users per second: 50505.1</pre>"
            ],
            "text/plain": [
              "recommendations finished on 7000/13884 queries. users per second: 50505.1"
            ]
          },
          "metadata": {
            "tags": []
          }
        },
        {
          "output_type": "display_data",
          "data": {
            "text/html": [
              "<pre>recommendations finished on 8000/13884 queries. users per second: 50754.7</pre>"
            ],
            "text/plain": [
              "recommendations finished on 8000/13884 queries. users per second: 50754.7"
            ]
          },
          "metadata": {
            "tags": []
          }
        },
        {
          "output_type": "display_data",
          "data": {
            "text/html": [
              "<pre>recommendations finished on 9000/13884 queries. users per second: 50909.6</pre>"
            ],
            "text/plain": [
              "recommendations finished on 9000/13884 queries. users per second: 50909.6"
            ]
          },
          "metadata": {
            "tags": []
          }
        },
        {
          "output_type": "display_data",
          "data": {
            "text/html": [
              "<pre>recommendations finished on 10000/13884 queries. users per second: 51584.1</pre>"
            ],
            "text/plain": [
              "recommendations finished on 10000/13884 queries. users per second: 51584.1"
            ]
          },
          "metadata": {
            "tags": []
          }
        },
        {
          "output_type": "display_data",
          "data": {
            "text/html": [
              "<pre>recommendations finished on 11000/13884 queries. users per second: 52169.8</pre>"
            ],
            "text/plain": [
              "recommendations finished on 11000/13884 queries. users per second: 52169.8"
            ]
          },
          "metadata": {
            "tags": []
          }
        },
        {
          "output_type": "display_data",
          "data": {
            "text/html": [
              "<pre>recommendations finished on 12000/13884 queries. users per second: 52527.7</pre>"
            ],
            "text/plain": [
              "recommendations finished on 12000/13884 queries. users per second: 52527.7"
            ]
          },
          "metadata": {
            "tags": []
          }
        },
        {
          "output_type": "display_data",
          "data": {
            "text/html": [
              "<pre>recommendations finished on 13000/13884 queries. users per second: 51016.2</pre>"
            ],
            "text/plain": [
              "recommendations finished on 13000/13884 queries. users per second: 51016.2"
            ]
          },
          "metadata": {
            "tags": []
          }
        },
        {
          "output_type": "stream",
          "text": [
            "\n",
            "Precision and recall summary statistics by cutoff\n",
            "+--------+-----------------------+-----------------------+\n",
            "| cutoff |     mean_precision    |      mean_recall      |\n",
            "+--------+-----------------------+-----------------------+\n",
            "|   1    |  0.004465571881302209 |  0.002494935360103901 |\n",
            "|   2    |  0.003097090175741862 | 0.0033232622252780857 |\n",
            "|   3    |  0.003409200038413527 |  0.005297185617740804 |\n",
            "|   4    |  0.006698357821953329 |  0.015088496024550231 |\n",
            "|   5    |  0.005704407951598996 |  0.015898181033673478 |\n",
            "|   6    | 0.0052338423124939975 |  0.01753856480556223  |\n",
            "|   7    |  0.005000617360167939 |  0.019644363189450488 |\n",
            "|   8    |  0.005248847594353214 |  0.023499153841993924 |\n",
            "|   9    |  0.004889721181856076 |  0.02464024121903641  |\n",
            "|   10   |  0.004732065687121907 |  0.026666889527470608 |\n",
            "+--------+-----------------------+-----------------------+\n",
            "[10 rows x 3 columns]\n",
            "\n",
            "\n",
            "Overall RMSE: 1.0659829370932197\n",
            "\n",
            "Per User RMSE (best)\n",
            "+------------+------------------------+-------+\n",
            "| customerId |          rmse          | count |\n",
            "+------------+------------------------+-------+\n",
            "|    7614    | 0.00044176633744141824 |   1   |\n",
            "+------------+------------------------+-------+\n",
            "[1 rows x 3 columns]\n",
            "\n",
            "\n",
            "Per User RMSE (worst)\n",
            "+------------+--------------------+-------+\n",
            "| customerId |        rmse        | count |\n",
            "+------------+--------------------+-------+\n",
            "|    693     | 18.841167868827316 |   2   |\n",
            "+------------+--------------------+-------+\n",
            "[1 rows x 3 columns]\n",
            "\n",
            "\n",
            "Per Item RMSE (best)\n",
            "+-----------+---------------------+-------+\n",
            "| productId |         rmse        | count |\n",
            "+-----------+---------------------+-------+\n",
            "|    166    | 0.30903395507616327 |   99  |\n",
            "+-----------+---------------------+-------+\n",
            "[1 rows x 3 columns]\n",
            "\n",
            "\n",
            "Per Item RMSE (worst)\n",
            "+-----------+-------------------+-------+\n",
            "| productId |        rmse       | count |\n",
            "+-----------+-------------------+-------+\n",
            "|    173    | 4.047442409739096 |   29  |\n",
            "+-----------+-------------------+-------+\n",
            "[1 rows x 3 columns]\n",
            "\n"
          ],
          "name": "stdout"
        }
      ]
    },
    {
      "cell_type": "markdown",
      "metadata": {
        "id": "0KEPOMRe5QYC",
        "colab_type": "text"
      },
      "source": [
        "#model on purchase dummy"
      ]
    },
    {
      "cell_type": "code",
      "metadata": {
        "id": "MFqfGEu24Gvj",
        "colab_type": "code",
        "colab": {
          "base_uri": "https://localhost:8080/",
          "height": 1000
        },
        "outputId": "90b48f75-5272-4477-c496-28c770f3560a"
      },
      "source": [
        "eval_dummy=tc.recommender.util.compare_models(test_data_dummy,model_w_dummy,model_names=model_w_dummy)"
      ],
      "execution_count": 44,
      "outputs": [
        {
          "output_type": "stream",
          "text": [
            "PROGRESS: Evaluate model PopularityRecommender\n"
          ],
          "name": "stdout"
        },
        {
          "output_type": "display_data",
          "data": {
            "text/html": [
              "<pre>recommendations finished on 1000/13904 queries. users per second: 51271.5</pre>"
            ],
            "text/plain": [
              "recommendations finished on 1000/13904 queries. users per second: 51271.5"
            ]
          },
          "metadata": {
            "tags": []
          }
        },
        {
          "output_type": "display_data",
          "data": {
            "text/html": [
              "<pre>recommendations finished on 2000/13904 queries. users per second: 58967.5</pre>"
            ],
            "text/plain": [
              "recommendations finished on 2000/13904 queries. users per second: 58967.5"
            ]
          },
          "metadata": {
            "tags": []
          }
        },
        {
          "output_type": "display_data",
          "data": {
            "text/html": [
              "<pre>recommendations finished on 3000/13904 queries. users per second: 66607.5</pre>"
            ],
            "text/plain": [
              "recommendations finished on 3000/13904 queries. users per second: 66607.5"
            ]
          },
          "metadata": {
            "tags": []
          }
        },
        {
          "output_type": "display_data",
          "data": {
            "text/html": [
              "<pre>recommendations finished on 4000/13904 queries. users per second: 70327.2</pre>"
            ],
            "text/plain": [
              "recommendations finished on 4000/13904 queries. users per second: 70327.2"
            ]
          },
          "metadata": {
            "tags": []
          }
        },
        {
          "output_type": "display_data",
          "data": {
            "text/html": [
              "<pre>recommendations finished on 5000/13904 queries. users per second: 72742.1</pre>"
            ],
            "text/plain": [
              "recommendations finished on 5000/13904 queries. users per second: 72742.1"
            ]
          },
          "metadata": {
            "tags": []
          }
        },
        {
          "output_type": "display_data",
          "data": {
            "text/html": [
              "<pre>recommendations finished on 6000/13904 queries. users per second: 75947.4</pre>"
            ],
            "text/plain": [
              "recommendations finished on 6000/13904 queries. users per second: 75947.4"
            ]
          },
          "metadata": {
            "tags": []
          }
        },
        {
          "output_type": "display_data",
          "data": {
            "text/html": [
              "<pre>recommendations finished on 7000/13904 queries. users per second: 70189.5</pre>"
            ],
            "text/plain": [
              "recommendations finished on 7000/13904 queries. users per second: 70189.5"
            ]
          },
          "metadata": {
            "tags": []
          }
        },
        {
          "output_type": "display_data",
          "data": {
            "text/html": [
              "<pre>recommendations finished on 8000/13904 queries. users per second: 70782.7</pre>"
            ],
            "text/plain": [
              "recommendations finished on 8000/13904 queries. users per second: 70782.7"
            ]
          },
          "metadata": {
            "tags": []
          }
        },
        {
          "output_type": "display_data",
          "data": {
            "text/html": [
              "<pre>recommendations finished on 9000/13904 queries. users per second: 72869.2</pre>"
            ],
            "text/plain": [
              "recommendations finished on 9000/13904 queries. users per second: 72869.2"
            ]
          },
          "metadata": {
            "tags": []
          }
        },
        {
          "output_type": "display_data",
          "data": {
            "text/html": [
              "<pre>recommendations finished on 10000/13904 queries. users per second: 74482.3</pre>"
            ],
            "text/plain": [
              "recommendations finished on 10000/13904 queries. users per second: 74482.3"
            ]
          },
          "metadata": {
            "tags": []
          }
        },
        {
          "output_type": "display_data",
          "data": {
            "text/html": [
              "<pre>recommendations finished on 11000/13904 queries. users per second: 75297.1</pre>"
            ],
            "text/plain": [
              "recommendations finished on 11000/13904 queries. users per second: 75297.1"
            ]
          },
          "metadata": {
            "tags": []
          }
        },
        {
          "output_type": "display_data",
          "data": {
            "text/html": [
              "<pre>recommendations finished on 12000/13904 queries. users per second: 75896</pre>"
            ],
            "text/plain": [
              "recommendations finished on 12000/13904 queries. users per second: 75896"
            ]
          },
          "metadata": {
            "tags": []
          }
        },
        {
          "output_type": "display_data",
          "data": {
            "text/html": [
              "<pre>recommendations finished on 13000/13904 queries. users per second: 72382.3</pre>"
            ],
            "text/plain": [
              "recommendations finished on 13000/13904 queries. users per second: 72382.3"
            ]
          },
          "metadata": {
            "tags": []
          }
        },
        {
          "output_type": "stream",
          "text": [
            "\n",
            "Precision and recall summary statistics by cutoff\n",
            "+--------+----------------------+----------------------+\n",
            "| cutoff |    mean_precision    |     mean_recall      |\n",
            "+--------+----------------------+----------------------+\n",
            "|   1    | 0.004531070195627156 | 0.00203917127176621  |\n",
            "|   2    | 0.005717779056386653 | 0.005367502428420148 |\n",
            "|   3    | 0.005681818181818178 | 0.007887065701765686 |\n",
            "|   4    | 0.005807681242807827 | 0.010992252972301032 |\n",
            "|   5    | 0.00556674338319911  | 0.013103926899639526 |\n",
            "|   6    | 0.005286248561565007 | 0.015073736128151296 |\n",
            "|   7    | 0.005517425612362338 | 0.019135174426140197 |\n",
            "|   8    | 0.005708788837744534 |  0.0230025191360482  |\n",
            "|   9    | 0.005617887738140962 | 0.025739799712534445 |\n",
            "|   10   | 0.005422899884925213 | 0.027771106533829755 |\n",
            "+--------+----------------------+----------------------+\n",
            "[10 rows x 3 columns]\n",
            "\n",
            "\n",
            "Overall RMSE: 0.0\n",
            "\n",
            "Per User RMSE (best)\n",
            "+------------+------+-------+\n",
            "| customerId | rmse | count |\n",
            "+------------+------+-------+\n",
            "|   13361    | 0.0  |   1   |\n",
            "+------------+------+-------+\n",
            "[1 rows x 3 columns]\n",
            "\n",
            "\n",
            "Per User RMSE (worst)\n",
            "+------------+------+-------+\n",
            "| customerId | rmse | count |\n",
            "+------------+------+-------+\n",
            "|   24527    | 0.0  |   2   |\n",
            "+------------+------+-------+\n",
            "[1 rows x 3 columns]\n",
            "\n",
            "\n",
            "Per Item RMSE (best)\n",
            "+-----------+------+-------+\n",
            "| productId | rmse | count |\n",
            "+-----------+------+-------+\n",
            "|    149    | 0.0  |   83  |\n",
            "+-----------+------+-------+\n",
            "[1 rows x 3 columns]\n",
            "\n",
            "\n",
            "Per Item RMSE (worst)\n",
            "+-----------+------+-------+\n",
            "| productId | rmse | count |\n",
            "+-----------+------+-------+\n",
            "|    118    | 0.0  |   38  |\n",
            "+-----------+------+-------+\n",
            "[1 rows x 3 columns]\n",
            "\n",
            "PROGRESS: Evaluate model ItemSimilarityRecommender\n"
          ],
          "name": "stdout"
        },
        {
          "output_type": "display_data",
          "data": {
            "text/html": [
              "<pre>recommendations finished on 1000/13904 queries. users per second: 45498</pre>"
            ],
            "text/plain": [
              "recommendations finished on 1000/13904 queries. users per second: 45498"
            ]
          },
          "metadata": {
            "tags": []
          }
        },
        {
          "output_type": "display_data",
          "data": {
            "text/html": [
              "<pre>recommendations finished on 2000/13904 queries. users per second: 46261</pre>"
            ],
            "text/plain": [
              "recommendations finished on 2000/13904 queries. users per second: 46261"
            ]
          },
          "metadata": {
            "tags": []
          }
        },
        {
          "output_type": "display_data",
          "data": {
            "text/html": [
              "<pre>recommendations finished on 3000/13904 queries. users per second: 48700.5</pre>"
            ],
            "text/plain": [
              "recommendations finished on 3000/13904 queries. users per second: 48700.5"
            ]
          },
          "metadata": {
            "tags": []
          }
        },
        {
          "output_type": "display_data",
          "data": {
            "text/html": [
              "<pre>recommendations finished on 4000/13904 queries. users per second: 49936.3</pre>"
            ],
            "text/plain": [
              "recommendations finished on 4000/13904 queries. users per second: 49936.3"
            ]
          },
          "metadata": {
            "tags": []
          }
        },
        {
          "output_type": "display_data",
          "data": {
            "text/html": [
              "<pre>recommendations finished on 5000/13904 queries. users per second: 50855.4</pre>"
            ],
            "text/plain": [
              "recommendations finished on 5000/13904 queries. users per second: 50855.4"
            ]
          },
          "metadata": {
            "tags": []
          }
        },
        {
          "output_type": "display_data",
          "data": {
            "text/html": [
              "<pre>recommendations finished on 6000/13904 queries. users per second: 51212.5</pre>"
            ],
            "text/plain": [
              "recommendations finished on 6000/13904 queries. users per second: 51212.5"
            ]
          },
          "metadata": {
            "tags": []
          }
        },
        {
          "output_type": "display_data",
          "data": {
            "text/html": [
              "<pre>recommendations finished on 7000/13904 queries. users per second: 50832.2</pre>"
            ],
            "text/plain": [
              "recommendations finished on 7000/13904 queries. users per second: 50832.2"
            ]
          },
          "metadata": {
            "tags": []
          }
        },
        {
          "output_type": "display_data",
          "data": {
            "text/html": [
              "<pre>recommendations finished on 8000/13904 queries. users per second: 51363</pre>"
            ],
            "text/plain": [
              "recommendations finished on 8000/13904 queries. users per second: 51363"
            ]
          },
          "metadata": {
            "tags": []
          }
        },
        {
          "output_type": "display_data",
          "data": {
            "text/html": [
              "<pre>recommendations finished on 9000/13904 queries. users per second: 51870.8</pre>"
            ],
            "text/plain": [
              "recommendations finished on 9000/13904 queries. users per second: 51870.8"
            ]
          },
          "metadata": {
            "tags": []
          }
        },
        {
          "output_type": "display_data",
          "data": {
            "text/html": [
              "<pre>recommendations finished on 10000/13904 queries. users per second: 52469.5</pre>"
            ],
            "text/plain": [
              "recommendations finished on 10000/13904 queries. users per second: 52469.5"
            ]
          },
          "metadata": {
            "tags": []
          }
        },
        {
          "output_type": "display_data",
          "data": {
            "text/html": [
              "<pre>recommendations finished on 11000/13904 queries. users per second: 52358.5</pre>"
            ],
            "text/plain": [
              "recommendations finished on 11000/13904 queries. users per second: 52358.5"
            ]
          },
          "metadata": {
            "tags": []
          }
        },
        {
          "output_type": "display_data",
          "data": {
            "text/html": [
              "<pre>recommendations finished on 12000/13904 queries. users per second: 52215.9</pre>"
            ],
            "text/plain": [
              "recommendations finished on 12000/13904 queries. users per second: 52215.9"
            ]
          },
          "metadata": {
            "tags": []
          }
        },
        {
          "output_type": "display_data",
          "data": {
            "text/html": [
              "<pre>recommendations finished on 13000/13904 queries. users per second: 52253.3</pre>"
            ],
            "text/plain": [
              "recommendations finished on 13000/13904 queries. users per second: 52253.3"
            ]
          },
          "metadata": {
            "tags": []
          }
        },
        {
          "output_type": "stream",
          "text": [
            "\n",
            "Precision and recall summary statistics by cutoff\n",
            "+--------+----------------------+---------------------+\n",
            "| cutoff |    mean_precision    |     mean_recall     |\n",
            "+--------+----------------------+---------------------+\n",
            "|   1    | 0.12356156501726143  |  0.0720406255701005 |\n",
            "|   2    | 0.09828107019562715  | 0.11115201724442325 |\n",
            "|   3    | 0.08259014192558498  | 0.13942595029018415 |\n",
            "|   4    | 0.07255106444188732  | 0.16155808999213062 |\n",
            "|   5    | 0.06434119677790544  | 0.17777944375663776 |\n",
            "|   6    | 0.05805283851169931  |  0.191550751416395  |\n",
            "|   7    | 0.053037152720697325 | 0.20248933854528722 |\n",
            "|   8    | 0.049149525316455715 | 0.21283758886288556 |\n",
            "|   9    | 0.04596598900396338  |  0.2233436929296981 |\n",
            "|   10   | 0.04314585730724971  |  0.2322317308363637 |\n",
            "+--------+----------------------+---------------------+\n",
            "[10 rows x 3 columns]\n",
            "\n",
            "\n",
            "Overall RMSE: 0.9697089155231121\n",
            "\n",
            "Per User RMSE (best)\n",
            "+------------+--------------------+-------+\n",
            "| customerId |        rmse        | count |\n",
            "+------------+--------------------+-------+\n",
            "|   20442    | 0.4530108571052551 |   1   |\n",
            "+------------+--------------------+-------+\n",
            "[1 rows x 3 columns]\n",
            "\n",
            "\n",
            "Per User RMSE (worst)\n",
            "+------------+------+-------+\n",
            "| customerId | rmse | count |\n",
            "+------------+------+-------+\n",
            "|   24527    | 1.0  |   2   |\n",
            "+------------+------+-------+\n",
            "[1 rows x 3 columns]\n",
            "\n",
            "\n",
            "Per Item RMSE (best)\n",
            "+-----------+--------------------+-------+\n",
            "| productId |        rmse        | count |\n",
            "+-----------+--------------------+-------+\n",
            "|     48    | 0.8678665110724385 |  124  |\n",
            "+-----------+--------------------+-------+\n",
            "[1 rows x 3 columns]\n",
            "\n",
            "\n",
            "Per Item RMSE (worst)\n",
            "+-----------+--------------------+-------+\n",
            "| productId |        rmse        | count |\n",
            "+-----------+--------------------+-------+\n",
            "|    236    | 0.9996657775488853 |   36  |\n",
            "+-----------+--------------------+-------+\n",
            "[1 rows x 3 columns]\n",
            "\n",
            "PROGRESS: Evaluate model ItemSimilarityRecommender\n"
          ],
          "name": "stdout"
        },
        {
          "output_type": "display_data",
          "data": {
            "text/html": [
              "<pre>recommendations finished on 1000/13904 queries. users per second: 66352.6</pre>"
            ],
            "text/plain": [
              "recommendations finished on 1000/13904 queries. users per second: 66352.6"
            ]
          },
          "metadata": {
            "tags": []
          }
        },
        {
          "output_type": "display_data",
          "data": {
            "text/html": [
              "<pre>recommendations finished on 2000/13904 queries. users per second: 60419.3</pre>"
            ],
            "text/plain": [
              "recommendations finished on 2000/13904 queries. users per second: 60419.3"
            ]
          },
          "metadata": {
            "tags": []
          }
        },
        {
          "output_type": "display_data",
          "data": {
            "text/html": [
              "<pre>recommendations finished on 3000/13904 queries. users per second: 63797.2</pre>"
            ],
            "text/plain": [
              "recommendations finished on 3000/13904 queries. users per second: 63797.2"
            ]
          },
          "metadata": {
            "tags": []
          }
        },
        {
          "output_type": "display_data",
          "data": {
            "text/html": [
              "<pre>recommendations finished on 4000/13904 queries. users per second: 67965.9</pre>"
            ],
            "text/plain": [
              "recommendations finished on 4000/13904 queries. users per second: 67965.9"
            ]
          },
          "metadata": {
            "tags": []
          }
        },
        {
          "output_type": "display_data",
          "data": {
            "text/html": [
              "<pre>recommendations finished on 5000/13904 queries. users per second: 70390.8</pre>"
            ],
            "text/plain": [
              "recommendations finished on 5000/13904 queries. users per second: 70390.8"
            ]
          },
          "metadata": {
            "tags": []
          }
        },
        {
          "output_type": "display_data",
          "data": {
            "text/html": [
              "<pre>recommendations finished on 6000/13904 queries. users per second: 67649.1</pre>"
            ],
            "text/plain": [
              "recommendations finished on 6000/13904 queries. users per second: 67649.1"
            ]
          },
          "metadata": {
            "tags": []
          }
        },
        {
          "output_type": "display_data",
          "data": {
            "text/html": [
              "<pre>recommendations finished on 7000/13904 queries. users per second: 67117.3</pre>"
            ],
            "text/plain": [
              "recommendations finished on 7000/13904 queries. users per second: 67117.3"
            ]
          },
          "metadata": {
            "tags": []
          }
        },
        {
          "output_type": "display_data",
          "data": {
            "text/html": [
              "<pre>recommendations finished on 8000/13904 queries. users per second: 67321.4</pre>"
            ],
            "text/plain": [
              "recommendations finished on 8000/13904 queries. users per second: 67321.4"
            ]
          },
          "metadata": {
            "tags": []
          }
        },
        {
          "output_type": "display_data",
          "data": {
            "text/html": [
              "<pre>recommendations finished on 9000/13904 queries. users per second: 63806.7</pre>"
            ],
            "text/plain": [
              "recommendations finished on 9000/13904 queries. users per second: 63806.7"
            ]
          },
          "metadata": {
            "tags": []
          }
        },
        {
          "output_type": "display_data",
          "data": {
            "text/html": [
              "<pre>recommendations finished on 10000/13904 queries. users per second: 64921.6</pre>"
            ],
            "text/plain": [
              "recommendations finished on 10000/13904 queries. users per second: 64921.6"
            ]
          },
          "metadata": {
            "tags": []
          }
        },
        {
          "output_type": "display_data",
          "data": {
            "text/html": [
              "<pre>recommendations finished on 11000/13904 queries. users per second: 66298.2</pre>"
            ],
            "text/plain": [
              "recommendations finished on 11000/13904 queries. users per second: 66298.2"
            ]
          },
          "metadata": {
            "tags": []
          }
        },
        {
          "output_type": "display_data",
          "data": {
            "text/html": [
              "<pre>recommendations finished on 12000/13904 queries. users per second: 67015.1</pre>"
            ],
            "text/plain": [
              "recommendations finished on 12000/13904 queries. users per second: 67015.1"
            ]
          },
          "metadata": {
            "tags": []
          }
        },
        {
          "output_type": "display_data",
          "data": {
            "text/html": [
              "<pre>recommendations finished on 13000/13904 queries. users per second: 67812.9</pre>"
            ],
            "text/plain": [
              "recommendations finished on 13000/13904 queries. users per second: 67812.9"
            ]
          },
          "metadata": {
            "tags": []
          }
        },
        {
          "output_type": "stream",
          "text": [
            "\n",
            "Precision and recall summary statistics by cutoff\n",
            "+--------+-----------------------+-----------------------+\n",
            "| cutoff |     mean_precision    |      mean_recall      |\n",
            "+--------+-----------------------+-----------------------+\n",
            "|   1    |  0.004531070195627155 | 0.0020391712717662074 |\n",
            "|   2    | 0.0057177790563866515 |  0.005367502428420155 |\n",
            "|   3    |  0.005681818181818176 |  0.007887065701765634 |\n",
            "|   4    |  0.005807681242807821 |  0.010992252972301038 |\n",
            "|   5    |  0.005566743383199111 |  0.013103926899639521 |\n",
            "|   6    |  0.005286248561565016 |  0.015073736128151296 |\n",
            "|   7    |  0.005517425612362328 |  0.01913517442614019  |\n",
            "|   8    | 0.0057087888377445285 |  0.023002519136048234 |\n",
            "|   9    |  0.005617887738140965 |  0.025739799712534466 |\n",
            "|   10   |  0.005422899884925206 |  0.027771106533829755 |\n",
            "+--------+-----------------------+-----------------------+\n",
            "[10 rows x 3 columns]\n",
            "\n",
            "\n",
            "Overall RMSE: 1.0\n",
            "\n",
            "Per User RMSE (best)\n",
            "+------------+------+-------+\n",
            "| customerId | rmse | count |\n",
            "+------------+------+-------+\n",
            "|   13361    | 1.0  |   1   |\n",
            "+------------+------+-------+\n",
            "[1 rows x 3 columns]\n",
            "\n",
            "\n",
            "Per User RMSE (worst)\n",
            "+------------+------+-------+\n",
            "| customerId | rmse | count |\n",
            "+------------+------+-------+\n",
            "|   24527    | 1.0  |   2   |\n",
            "+------------+------+-------+\n",
            "[1 rows x 3 columns]\n",
            "\n",
            "\n",
            "Per Item RMSE (best)\n",
            "+-----------+------+-------+\n",
            "| productId | rmse | count |\n",
            "+-----------+------+-------+\n",
            "|    149    | 1.0  |   83  |\n",
            "+-----------+------+-------+\n",
            "[1 rows x 3 columns]\n",
            "\n",
            "\n",
            "Per Item RMSE (worst)\n",
            "+-----------+------+-------+\n",
            "| productId | rmse | count |\n",
            "+-----------+------+-------+\n",
            "|    118    | 1.0  |   38  |\n",
            "+-----------+------+-------+\n",
            "[1 rows x 3 columns]\n",
            "\n"
          ],
          "name": "stdout"
        }
      ]
    },
    {
      "cell_type": "markdown",
      "metadata": {
        "id": "tYSGgWnL6CPi",
        "colab_type": "text"
      },
      "source": [
        "#model on normalized purchase frequency"
      ]
    },
    {
      "cell_type": "code",
      "metadata": {
        "id": "jsxa2zzP5mO-",
        "colab_type": "code",
        "colab": {
          "base_uri": "https://localhost:8080/",
          "height": 1000
        },
        "outputId": "88841728-316b-4501-9bb1-cc6ccfd6258a"
      },
      "source": [
        "eval_norm=tc.recommender.util.compare_models(test_data_norm,model_w_norm,model_names=names_w_norm)"
      ],
      "execution_count": 45,
      "outputs": [
        {
          "output_type": "stream",
          "text": [
            "PROGRESS: Evaluate model Popularity Model on Scaled Purchase Counts\n"
          ],
          "name": "stdout"
        },
        {
          "output_type": "display_data",
          "data": {
            "text/html": [
              "<pre>recommendations finished on 1000/13888 queries. users per second: 54722.6</pre>"
            ],
            "text/plain": [
              "recommendations finished on 1000/13888 queries. users per second: 54722.6"
            ]
          },
          "metadata": {
            "tags": []
          }
        },
        {
          "output_type": "display_data",
          "data": {
            "text/html": [
              "<pre>recommendations finished on 2000/13888 queries. users per second: 58847.8</pre>"
            ],
            "text/plain": [
              "recommendations finished on 2000/13888 queries. users per second: 58847.8"
            ]
          },
          "metadata": {
            "tags": []
          }
        },
        {
          "output_type": "display_data",
          "data": {
            "text/html": [
              "<pre>recommendations finished on 3000/13888 queries. users per second: 64300.4</pre>"
            ],
            "text/plain": [
              "recommendations finished on 3000/13888 queries. users per second: 64300.4"
            ]
          },
          "metadata": {
            "tags": []
          }
        },
        {
          "output_type": "display_data",
          "data": {
            "text/html": [
              "<pre>recommendations finished on 4000/13888 queries. users per second: 66785.8</pre>"
            ],
            "text/plain": [
              "recommendations finished on 4000/13888 queries. users per second: 66785.8"
            ]
          },
          "metadata": {
            "tags": []
          }
        },
        {
          "output_type": "display_data",
          "data": {
            "text/html": [
              "<pre>recommendations finished on 5000/13888 queries. users per second: 69891.9</pre>"
            ],
            "text/plain": [
              "recommendations finished on 5000/13888 queries. users per second: 69891.9"
            ]
          },
          "metadata": {
            "tags": []
          }
        },
        {
          "output_type": "display_data",
          "data": {
            "text/html": [
              "<pre>recommendations finished on 6000/13888 queries. users per second: 66353.3</pre>"
            ],
            "text/plain": [
              "recommendations finished on 6000/13888 queries. users per second: 66353.3"
            ]
          },
          "metadata": {
            "tags": []
          }
        },
        {
          "output_type": "display_data",
          "data": {
            "text/html": [
              "<pre>recommendations finished on 7000/13888 queries. users per second: 65716</pre>"
            ],
            "text/plain": [
              "recommendations finished on 7000/13888 queries. users per second: 65716"
            ]
          },
          "metadata": {
            "tags": []
          }
        },
        {
          "output_type": "display_data",
          "data": {
            "text/html": [
              "<pre>recommendations finished on 8000/13888 queries. users per second: 63420.1</pre>"
            ],
            "text/plain": [
              "recommendations finished on 8000/13888 queries. users per second: 63420.1"
            ]
          },
          "metadata": {
            "tags": []
          }
        },
        {
          "output_type": "display_data",
          "data": {
            "text/html": [
              "<pre>recommendations finished on 9000/13888 queries. users per second: 65459.8</pre>"
            ],
            "text/plain": [
              "recommendations finished on 9000/13888 queries. users per second: 65459.8"
            ]
          },
          "metadata": {
            "tags": []
          }
        },
        {
          "output_type": "display_data",
          "data": {
            "text/html": [
              "<pre>recommendations finished on 10000/13888 queries. users per second: 67364.1</pre>"
            ],
            "text/plain": [
              "recommendations finished on 10000/13888 queries. users per second: 67364.1"
            ]
          },
          "metadata": {
            "tags": []
          }
        },
        {
          "output_type": "display_data",
          "data": {
            "text/html": [
              "<pre>recommendations finished on 11000/13888 queries. users per second: 68796</pre>"
            ],
            "text/plain": [
              "recommendations finished on 11000/13888 queries. users per second: 68796"
            ]
          },
          "metadata": {
            "tags": []
          }
        },
        {
          "output_type": "display_data",
          "data": {
            "text/html": [
              "<pre>recommendations finished on 12000/13888 queries. users per second: 68895.8</pre>"
            ],
            "text/plain": [
              "recommendations finished on 12000/13888 queries. users per second: 68895.8"
            ]
          },
          "metadata": {
            "tags": []
          }
        },
        {
          "output_type": "display_data",
          "data": {
            "text/html": [
              "<pre>recommendations finished on 13000/13888 queries. users per second: 68443</pre>"
            ],
            "text/plain": [
              "recommendations finished on 13000/13888 queries. users per second: 68443"
            ]
          },
          "metadata": {
            "tags": []
          }
        },
        {
          "output_type": "stream",
          "text": [
            "\n",
            "Precision and recall summary statistics by cutoff\n",
            "+--------+-----------------------+-----------------------+\n",
            "| cutoff |     mean_precision    |      mean_recall      |\n",
            "+--------+-----------------------+-----------------------+\n",
            "|   1    |  0.002736175115207369 | 0.0013822598932045939 |\n",
            "|   2    | 0.0022681451612903297 |  0.002425383795991516 |\n",
            "|   3    | 0.0022801459293394738 | 0.0038630758082803035 |\n",
            "|   4    |  0.001872119815668202 |  0.004233244953651068 |\n",
            "|   5    | 0.0018433179723502228 |  0.005240109392975177 |\n",
            "|   6    |  0.001836117511520736 |  0.006300977288520492 |\n",
            "|   7    |  0.001933838051349571 |  0.007465940157832439 |\n",
            "|   8    |  0.001872119815668204 |  0.008232389210571815 |\n",
            "|   9    | 0.0018561187916026616 |  0.009118045892599451 |\n",
            "|   10   | 0.0025633640552995573 |  0.014030531720263873 |\n",
            "+--------+-----------------------+-----------------------+\n",
            "[10 rows x 3 columns]\n",
            "\n",
            "\n",
            "Overall RMSE: 0.13272231792667055\n",
            "\n",
            "Per User RMSE (best)\n",
            "+------------+------------------------+-------+\n",
            "| customerId |          rmse          | count |\n",
            "+------------+------------------------+-------+\n",
            "|    6680    | 0.00040609137055765826 |   1   |\n",
            "+------------+------------------------+-------+\n",
            "[1 rows x 3 columns]\n",
            "\n",
            "\n",
            "Per User RMSE (worst)\n",
            "+------------+-------------------+-------+\n",
            "| customerId |        rmse       | count |\n",
            "+------------+-------------------+-------+\n",
            "|   11909    | 0.979264475743349 |   1   |\n",
            "+------------+-------------------+-------+\n",
            "[1 rows x 3 columns]\n",
            "\n",
            "\n",
            "Per Item RMSE (best)\n",
            "+-----------+----------------------+-------+\n",
            "| productId |         rmse         | count |\n",
            "+-----------+----------------------+-------+\n",
            "|     47    | 0.019442998975619203 |  130  |\n",
            "+-----------+----------------------+-------+\n",
            "[1 rows x 3 columns]\n",
            "\n",
            "\n",
            "Per Item RMSE (worst)\n",
            "+-----------+--------------------+-------+\n",
            "| productId |        rmse        | count |\n",
            "+-----------+--------------------+-------+\n",
            "|    226    | 0.3955293658624418 |   38  |\n",
            "+-----------+--------------------+-------+\n",
            "[1 rows x 3 columns]\n",
            "\n",
            "PROGRESS: Evaluate model Cosine Similarity on Scaled Purchase Counts\n"
          ],
          "name": "stdout"
        },
        {
          "output_type": "display_data",
          "data": {
            "text/html": [
              "<pre>recommendations finished on 1000/13888 queries. users per second: 50689.4</pre>"
            ],
            "text/plain": [
              "recommendations finished on 1000/13888 queries. users per second: 50689.4"
            ]
          },
          "metadata": {
            "tags": []
          }
        },
        {
          "output_type": "display_data",
          "data": {
            "text/html": [
              "<pre>recommendations finished on 2000/13888 queries. users per second: 51964.2</pre>"
            ],
            "text/plain": [
              "recommendations finished on 2000/13888 queries. users per second: 51964.2"
            ]
          },
          "metadata": {
            "tags": []
          }
        },
        {
          "output_type": "display_data",
          "data": {
            "text/html": [
              "<pre>recommendations finished on 3000/13888 queries. users per second: 52906.3</pre>"
            ],
            "text/plain": [
              "recommendations finished on 3000/13888 queries. users per second: 52906.3"
            ]
          },
          "metadata": {
            "tags": []
          }
        },
        {
          "output_type": "display_data",
          "data": {
            "text/html": [
              "<pre>recommendations finished on 4000/13888 queries. users per second: 54948.1</pre>"
            ],
            "text/plain": [
              "recommendations finished on 4000/13888 queries. users per second: 54948.1"
            ]
          },
          "metadata": {
            "tags": []
          }
        },
        {
          "output_type": "display_data",
          "data": {
            "text/html": [
              "<pre>recommendations finished on 5000/13888 queries. users per second: 56842.1</pre>"
            ],
            "text/plain": [
              "recommendations finished on 5000/13888 queries. users per second: 56842.1"
            ]
          },
          "metadata": {
            "tags": []
          }
        },
        {
          "output_type": "display_data",
          "data": {
            "text/html": [
              "<pre>recommendations finished on 6000/13888 queries. users per second: 55745</pre>"
            ],
            "text/plain": [
              "recommendations finished on 6000/13888 queries. users per second: 55745"
            ]
          },
          "metadata": {
            "tags": []
          }
        },
        {
          "output_type": "display_data",
          "data": {
            "text/html": [
              "<pre>recommendations finished on 7000/13888 queries. users per second: 55455.2</pre>"
            ],
            "text/plain": [
              "recommendations finished on 7000/13888 queries. users per second: 55455.2"
            ]
          },
          "metadata": {
            "tags": []
          }
        },
        {
          "output_type": "display_data",
          "data": {
            "text/html": [
              "<pre>recommendations finished on 8000/13888 queries. users per second: 55872.6</pre>"
            ],
            "text/plain": [
              "recommendations finished on 8000/13888 queries. users per second: 55872.6"
            ]
          },
          "metadata": {
            "tags": []
          }
        },
        {
          "output_type": "display_data",
          "data": {
            "text/html": [
              "<pre>recommendations finished on 9000/13888 queries. users per second: 53144.1</pre>"
            ],
            "text/plain": [
              "recommendations finished on 9000/13888 queries. users per second: 53144.1"
            ]
          },
          "metadata": {
            "tags": []
          }
        },
        {
          "output_type": "display_data",
          "data": {
            "text/html": [
              "<pre>recommendations finished on 10000/13888 queries. users per second: 53645.5</pre>"
            ],
            "text/plain": [
              "recommendations finished on 10000/13888 queries. users per second: 53645.5"
            ]
          },
          "metadata": {
            "tags": []
          }
        },
        {
          "output_type": "display_data",
          "data": {
            "text/html": [
              "<pre>recommendations finished on 11000/13888 queries. users per second: 52687</pre>"
            ],
            "text/plain": [
              "recommendations finished on 11000/13888 queries. users per second: 52687"
            ]
          },
          "metadata": {
            "tags": []
          }
        },
        {
          "output_type": "display_data",
          "data": {
            "text/html": [
              "<pre>recommendations finished on 12000/13888 queries. users per second: 52423</pre>"
            ],
            "text/plain": [
              "recommendations finished on 12000/13888 queries. users per second: 52423"
            ]
          },
          "metadata": {
            "tags": []
          }
        },
        {
          "output_type": "display_data",
          "data": {
            "text/html": [
              "<pre>recommendations finished on 13000/13888 queries. users per second: 53080.3</pre>"
            ],
            "text/plain": [
              "recommendations finished on 13000/13888 queries. users per second: 53080.3"
            ]
          },
          "metadata": {
            "tags": []
          }
        },
        {
          "output_type": "stream",
          "text": [
            "\n",
            "Precision and recall summary statistics by cutoff\n",
            "+--------+----------------------+---------------------+\n",
            "| cutoff |    mean_precision    |     mean_recall     |\n",
            "+--------+----------------------+---------------------+\n",
            "|   1    | 0.06948444700460825  | 0.04038057087002221 |\n",
            "|   2    | 0.05598358294930879  | 0.06334108140163743 |\n",
            "|   3    | 0.046706989247311745 | 0.07708501815644662 |\n",
            "|   4    | 0.040520593317972406 | 0.08787896391403023 |\n",
            "|   5    | 0.03653513824884734  | 0.09775987761118807 |\n",
            "|   6    | 0.03341013824884804  | 0.10659784583855708 |\n",
            "|   7    | 0.03084883146807143  |  0.1135857787805511 |\n",
            "|   8    | 0.029062860023041537 | 0.12208495169864685 |\n",
            "|   9    | 0.02732174859190968  |  0.1289236421220866 |\n",
            "|   10   | 0.026202476958525425 | 0.13699532794074878 |\n",
            "+--------+----------------------+---------------------+\n",
            "[10 rows x 3 columns]\n",
            "\n",
            "\n",
            "Overall RMSE: 0.15973641248117876\n",
            "\n",
            "Per User RMSE (best)\n",
            "+------------+------+-------+\n",
            "| customerId | rmse | count |\n",
            "+------------+------+-------+\n",
            "|   13361    | 0.0  |   2   |\n",
            "+------------+------+-------+\n",
            "[1 rows x 3 columns]\n",
            "\n",
            "\n",
            "Per User RMSE (worst)\n",
            "+------------+------+-------+\n",
            "| customerId | rmse | count |\n",
            "+------------+------+-------+\n",
            "|   25251    | 1.0  |   1   |\n",
            "+------------+------+-------+\n",
            "[1 rows x 3 columns]\n",
            "\n",
            "\n",
            "Per Item RMSE (best)\n",
            "+-----------+---------------------+-------+\n",
            "| productId |         rmse        | count |\n",
            "+-----------+---------------------+-------+\n",
            "|     47    | 0.01981923705570383 |  130  |\n",
            "+-----------+---------------------+-------+\n",
            "[1 rows x 3 columns]\n",
            "\n",
            "\n",
            "Per Item RMSE (worst)\n",
            "+-----------+--------------------+-------+\n",
            "| productId |        rmse        | count |\n",
            "+-----------+--------------------+-------+\n",
            "|    226    | 0.8339934194846744 |   38  |\n",
            "+-----------+--------------------+-------+\n",
            "[1 rows x 3 columns]\n",
            "\n",
            "PROGRESS: Evaluate model Pearson Similarity on Scaled Purchase Counts\n"
          ],
          "name": "stdout"
        },
        {
          "output_type": "display_data",
          "data": {
            "text/html": [
              "<pre>recommendations finished on 1000/13888 queries. users per second: 45620.4</pre>"
            ],
            "text/plain": [
              "recommendations finished on 1000/13888 queries. users per second: 45620.4"
            ]
          },
          "metadata": {
            "tags": []
          }
        },
        {
          "output_type": "display_data",
          "data": {
            "text/html": [
              "<pre>recommendations finished on 2000/13888 queries. users per second: 44425.7</pre>"
            ],
            "text/plain": [
              "recommendations finished on 2000/13888 queries. users per second: 44425.7"
            ]
          },
          "metadata": {
            "tags": []
          }
        },
        {
          "output_type": "display_data",
          "data": {
            "text/html": [
              "<pre>recommendations finished on 3000/13888 queries. users per second: 47098.7</pre>"
            ],
            "text/plain": [
              "recommendations finished on 3000/13888 queries. users per second: 47098.7"
            ]
          },
          "metadata": {
            "tags": []
          }
        },
        {
          "output_type": "display_data",
          "data": {
            "text/html": [
              "<pre>recommendations finished on 4000/13888 queries. users per second: 48738.9</pre>"
            ],
            "text/plain": [
              "recommendations finished on 4000/13888 queries. users per second: 48738.9"
            ]
          },
          "metadata": {
            "tags": []
          }
        },
        {
          "output_type": "display_data",
          "data": {
            "text/html": [
              "<pre>recommendations finished on 5000/13888 queries. users per second: 49983.5</pre>"
            ],
            "text/plain": [
              "recommendations finished on 5000/13888 queries. users per second: 49983.5"
            ]
          },
          "metadata": {
            "tags": []
          }
        },
        {
          "output_type": "display_data",
          "data": {
            "text/html": [
              "<pre>recommendations finished on 6000/13888 queries. users per second: 49794.6</pre>"
            ],
            "text/plain": [
              "recommendations finished on 6000/13888 queries. users per second: 49794.6"
            ]
          },
          "metadata": {
            "tags": []
          }
        },
        {
          "output_type": "display_data",
          "data": {
            "text/html": [
              "<pre>recommendations finished on 7000/13888 queries. users per second: 49477.7</pre>"
            ],
            "text/plain": [
              "recommendations finished on 7000/13888 queries. users per second: 49477.7"
            ]
          },
          "metadata": {
            "tags": []
          }
        },
        {
          "output_type": "display_data",
          "data": {
            "text/html": [
              "<pre>recommendations finished on 8000/13888 queries. users per second: 49749.7</pre>"
            ],
            "text/plain": [
              "recommendations finished on 8000/13888 queries. users per second: 49749.7"
            ]
          },
          "metadata": {
            "tags": []
          }
        },
        {
          "output_type": "display_data",
          "data": {
            "text/html": [
              "<pre>recommendations finished on 9000/13888 queries. users per second: 50295.1</pre>"
            ],
            "text/plain": [
              "recommendations finished on 9000/13888 queries. users per second: 50295.1"
            ]
          },
          "metadata": {
            "tags": []
          }
        },
        {
          "output_type": "display_data",
          "data": {
            "text/html": [
              "<pre>recommendations finished on 10000/13888 queries. users per second: 50511.4</pre>"
            ],
            "text/plain": [
              "recommendations finished on 10000/13888 queries. users per second: 50511.4"
            ]
          },
          "metadata": {
            "tags": []
          }
        },
        {
          "output_type": "display_data",
          "data": {
            "text/html": [
              "<pre>recommendations finished on 11000/13888 queries. users per second: 51097.9</pre>"
            ],
            "text/plain": [
              "recommendations finished on 11000/13888 queries. users per second: 51097.9"
            ]
          },
          "metadata": {
            "tags": []
          }
        },
        {
          "output_type": "display_data",
          "data": {
            "text/html": [
              "<pre>recommendations finished on 12000/13888 queries. users per second: 51074.5</pre>"
            ],
            "text/plain": [
              "recommendations finished on 12000/13888 queries. users per second: 51074.5"
            ]
          },
          "metadata": {
            "tags": []
          }
        },
        {
          "output_type": "display_data",
          "data": {
            "text/html": [
              "<pre>recommendations finished on 13000/13888 queries. users per second: 51458</pre>"
            ],
            "text/plain": [
              "recommendations finished on 13000/13888 queries. users per second: 51458"
            ]
          },
          "metadata": {
            "tags": []
          }
        },
        {
          "output_type": "stream",
          "text": [
            "\n",
            "Precision and recall summary statistics by cutoff\n",
            "+--------+-----------------------+-----------------------+\n",
            "| cutoff |     mean_precision    |      mean_recall      |\n",
            "+--------+-----------------------+-----------------------+\n",
            "|   1    |  0.002736175115207367 | 0.0013822598932045952 |\n",
            "|   2    | 0.0022681451612903227 |  0.002425383795991516 |\n",
            "|   3    | 0.0022801459293394738 | 0.0038630758082803048 |\n",
            "|   4    | 0.0018721198156681983 | 0.0042332449536510676 |\n",
            "|   5    | 0.0018433179723502259 |  0.005240109392975184 |\n",
            "|   6    | 0.0018361175115207383 |  0.006300977288520488 |\n",
            "|   7    |  0.001944124423963139 |  0.007537944766127373 |\n",
            "|   8    | 0.0018631192396313361 |  0.008223388634534935 |\n",
            "|   9    | 0.0018561187916026616 |  0.009118045892599454 |\n",
            "|   10   | 0.0025489631336405643 |  0.01389892329732481  |\n",
            "+--------+-----------------------+-----------------------+\n",
            "[10 rows x 3 columns]\n",
            "\n",
            "\n",
            "Overall RMSE: 0.13242663284096393\n",
            "\n",
            "Per User RMSE (best)\n",
            "+------------+----------------------+-------+\n",
            "| customerId |         rmse         | count |\n",
            "+------------+----------------------+-------+\n",
            "|   15150    | 6.15910527663327e-06 |   1   |\n",
            "+------------+----------------------+-------+\n",
            "[1 rows x 3 columns]\n",
            "\n",
            "\n",
            "Per User RMSE (worst)\n",
            "+------------+--------------------+-------+\n",
            "| customerId |        rmse        | count |\n",
            "+------------+--------------------+-------+\n",
            "|   11909    | 0.9713149446650103 |   1   |\n",
            "+------------+--------------------+-------+\n",
            "[1 rows x 3 columns]\n",
            "\n",
            "\n",
            "Per Item RMSE (best)\n",
            "+-----------+----------------------+-------+\n",
            "| productId |         rmse         | count |\n",
            "+-----------+----------------------+-------+\n",
            "|     47    | 0.018825449865830877 |  130  |\n",
            "+-----------+----------------------+-------+\n",
            "[1 rows x 3 columns]\n",
            "\n",
            "\n",
            "Per Item RMSE (worst)\n",
            "+-----------+--------------------+-------+\n",
            "| productId |        rmse        | count |\n",
            "+-----------+--------------------+-------+\n",
            "|    226    | 0.3955586074813022 |   38  |\n",
            "+-----------+--------------------+-------+\n",
            "[1 rows x 3 columns]\n",
            "\n"
          ],
          "name": "stdout"
        }
      ]
    },
    {
      "cell_type": "markdown",
      "metadata": {
        "id": "4ednhyet6pZN",
        "colab_type": "text"
      },
      "source": [
        "#Model selection"
      ]
    },
    {
      "cell_type": "markdown",
      "metadata": {
        "id": "sw6QMAvv6x54",
        "colab_type": "text"
      },
      "source": [
        "Based on RMSE\n",
        "1. Popularity on purchase counts: 1.0689648918289487\n",
        "2. Cosine similarity on purchase counts: 1.9079706480669176\n",
        "3. Pearson similarity on purchase counts: 1.0659829370932197\n",
        "\n",
        "4. Popularity on purchase dummy: 0.0\n",
        "5. Cosine similarity on purchase dummy: 0.9697089155231121\n",
        "6. Pearson similarity on purchase dummy: 1.0\n",
        "\n",
        "7. Popularity on scaled purchase counts: 0.13272231792667055\n",
        "8. Cosine similarity on scaled purchase counts: 0.15973641248117876\n",
        "9. Pearson similarity on scaled purchase counts: 0.13242663284096393"
      ]
    },
    {
      "cell_type": "markdown",
      "metadata": {
        "id": "RrxFyqI29mPi",
        "colab_type": "text"
      },
      "source": [
        "Notes\n",
        "\n",
        "Popularity v. Collaborative Filtering: We can see that the collaborative filtering algorithms work better than popularity model for purchase counts. \n",
        "\n",
        "Indeed, popularity model doesn’t give any personalizations as it only gives the same list of recommended items to every user.\n",
        "\n",
        "Precision and recall: Looking at the summary above, we see that the precision and recall for Purchase Counts > Purchase Dummy > Normalized Purchase Counts.\n",
        " \n",
        "However, because the recommendation scores for the normalized purchase data is zero and constant, we choose the dummy. In fact, the RMSE isn’t much different between models on the dummy and those on the normalized data.\n",
        "RMSE: Since RMSE is higher using pearson distance thancosine, we would choose model the smaller mean squared errors, which in this case would be cosine. Therefore, we select the Cosine similarity on Purchase Dummy approach as our final model."
      ]
    },
    {
      "cell_type": "markdown",
      "metadata": {
        "id": "10I_FTzS-fgr",
        "colab_type": "text"
      },
      "source": [
        "#Final Output\n",
        "In this step, we would like to manipulate format for recommendation output to one we can export to csv, and also a function that will return recommendation list given a customer ID.\n",
        "\n",
        "We need to first return the model using the whole dataset, as we came to a final model using train data and evaluated with test set."
      ]
    },
    {
      "cell_type": "code",
      "metadata": {
        "id": "jFkchF2x6ZXj",
        "colab_type": "code",
        "colab": {
          "base_uri": "https://localhost:8080/",
          "height": 1000
        },
        "outputId": "2cec3f26-c837-46a7-b6e7-476e60914295"
      },
      "source": [
        "users_to_recommend = list(customers[user_id])\n",
        "\n",
        "final_model = tc.item_similarity_recommender.create(tc.SFrame(data_dummy), \n",
        "                                            user_id=user_id, \n",
        "                                            item_id=item_id, \n",
        "                                            target='purchase_dummy', \n",
        "                                            similarity_type='cosine')\n",
        "\n",
        "recom = final_model.recommend(users=users_to_recommend, k=n_rec)\n",
        "recom.print_rows(n_display)"
      ],
      "execution_count": 46,
      "outputs": [
        {
          "output_type": "display_data",
          "data": {
            "text/html": [
              "<pre>Warning: Ignoring columns purchase_count;</pre>"
            ],
            "text/plain": [
              "Warning: Ignoring columns purchase_count;"
            ]
          },
          "metadata": {
            "tags": []
          }
        },
        {
          "output_type": "display_data",
          "data": {
            "text/html": [
              "<pre>    To use these columns in scoring predictions, use a model that allows the use of additional features.</pre>"
            ],
            "text/plain": [
              "    To use these columns in scoring predictions, use a model that allows the use of additional features."
            ]
          },
          "metadata": {
            "tags": []
          }
        },
        {
          "output_type": "display_data",
          "data": {
            "text/html": [
              "<pre>Preparing data set.</pre>"
            ],
            "text/plain": [
              "Preparing data set."
            ]
          },
          "metadata": {
            "tags": []
          }
        },
        {
          "output_type": "display_data",
          "data": {
            "text/html": [
              "<pre>    Data has 133585 observations with 24429 users and 300 items.</pre>"
            ],
            "text/plain": [
              "    Data has 133585 observations with 24429 users and 300 items."
            ]
          },
          "metadata": {
            "tags": []
          }
        },
        {
          "output_type": "display_data",
          "data": {
            "text/html": [
              "<pre>    Data prepared in: 0.126761s</pre>"
            ],
            "text/plain": [
              "    Data prepared in: 0.126761s"
            ]
          },
          "metadata": {
            "tags": []
          }
        },
        {
          "output_type": "display_data",
          "data": {
            "text/html": [
              "<pre>Training model from provided data.</pre>"
            ],
            "text/plain": [
              "Training model from provided data."
            ]
          },
          "metadata": {
            "tags": []
          }
        },
        {
          "output_type": "display_data",
          "data": {
            "text/html": [
              "<pre>Gathering per-item and per-user statistics.</pre>"
            ],
            "text/plain": [
              "Gathering per-item and per-user statistics."
            ]
          },
          "metadata": {
            "tags": []
          }
        },
        {
          "output_type": "display_data",
          "data": {
            "text/html": [
              "<pre>+--------------------------------+------------+</pre>"
            ],
            "text/plain": [
              "+--------------------------------+------------+"
            ]
          },
          "metadata": {
            "tags": []
          }
        },
        {
          "output_type": "display_data",
          "data": {
            "text/html": [
              "<pre>| Elapsed Time (Item Statistics) | % Complete |</pre>"
            ],
            "text/plain": [
              "| Elapsed Time (Item Statistics) | % Complete |"
            ]
          },
          "metadata": {
            "tags": []
          }
        },
        {
          "output_type": "display_data",
          "data": {
            "text/html": [
              "<pre>+--------------------------------+------------+</pre>"
            ],
            "text/plain": [
              "+--------------------------------+------------+"
            ]
          },
          "metadata": {
            "tags": []
          }
        },
        {
          "output_type": "display_data",
          "data": {
            "text/html": [
              "<pre>| 1.585ms                        | 4          |</pre>"
            ],
            "text/plain": [
              "| 1.585ms                        | 4          |"
            ]
          },
          "metadata": {
            "tags": []
          }
        },
        {
          "output_type": "display_data",
          "data": {
            "text/html": [
              "<pre>| 16.579ms                       | 100        |</pre>"
            ],
            "text/plain": [
              "| 16.579ms                       | 100        |"
            ]
          },
          "metadata": {
            "tags": []
          }
        },
        {
          "output_type": "display_data",
          "data": {
            "text/html": [
              "<pre>+--------------------------------+------------+</pre>"
            ],
            "text/plain": [
              "+--------------------------------+------------+"
            ]
          },
          "metadata": {
            "tags": []
          }
        },
        {
          "output_type": "display_data",
          "data": {
            "text/html": [
              "<pre>Setting up lookup tables.</pre>"
            ],
            "text/plain": [
              "Setting up lookup tables."
            ]
          },
          "metadata": {
            "tags": []
          }
        },
        {
          "output_type": "display_data",
          "data": {
            "text/html": [
              "<pre>Processing data in one pass using dense lookup tables.</pre>"
            ],
            "text/plain": [
              "Processing data in one pass using dense lookup tables."
            ]
          },
          "metadata": {
            "tags": []
          }
        },
        {
          "output_type": "display_data",
          "data": {
            "text/html": [
              "<pre>+-------------------------------------+------------------+-----------------+</pre>"
            ],
            "text/plain": [
              "+-------------------------------------+------------------+-----------------+"
            ]
          },
          "metadata": {
            "tags": []
          }
        },
        {
          "output_type": "display_data",
          "data": {
            "text/html": [
              "<pre>| Elapsed Time (Constructing Lookups) | Total % Complete | Items Processed |</pre>"
            ],
            "text/plain": [
              "| Elapsed Time (Constructing Lookups) | Total % Complete | Items Processed |"
            ]
          },
          "metadata": {
            "tags": []
          }
        },
        {
          "output_type": "display_data",
          "data": {
            "text/html": [
              "<pre>+-------------------------------------+------------------+-----------------+</pre>"
            ],
            "text/plain": [
              "+-------------------------------------+------------------+-----------------+"
            ]
          },
          "metadata": {
            "tags": []
          }
        },
        {
          "output_type": "display_data",
          "data": {
            "text/html": [
              "<pre>| 20.583ms                            | 0                | 0               |</pre>"
            ],
            "text/plain": [
              "| 20.583ms                            | 0                | 0               |"
            ]
          },
          "metadata": {
            "tags": []
          }
        },
        {
          "output_type": "display_data",
          "data": {
            "text/html": [
              "<pre>| 48.113ms                            | 100              | 300             |</pre>"
            ],
            "text/plain": [
              "| 48.113ms                            | 100              | 300             |"
            ]
          },
          "metadata": {
            "tags": []
          }
        },
        {
          "output_type": "display_data",
          "data": {
            "text/html": [
              "<pre>+-------------------------------------+------------------+-----------------+</pre>"
            ],
            "text/plain": [
              "+-------------------------------------+------------------+-----------------+"
            ]
          },
          "metadata": {
            "tags": []
          }
        },
        {
          "output_type": "display_data",
          "data": {
            "text/html": [
              "<pre>Finalizing lookup tables.</pre>"
            ],
            "text/plain": [
              "Finalizing lookup tables."
            ]
          },
          "metadata": {
            "tags": []
          }
        },
        {
          "output_type": "display_data",
          "data": {
            "text/html": [
              "<pre>Generating candidate set for working with new users.</pre>"
            ],
            "text/plain": [
              "Generating candidate set for working with new users."
            ]
          },
          "metadata": {
            "tags": []
          }
        },
        {
          "output_type": "display_data",
          "data": {
            "text/html": [
              "<pre>Finished training in 0.076131s</pre>"
            ],
            "text/plain": [
              "Finished training in 0.076131s"
            ]
          },
          "metadata": {
            "tags": []
          }
        },
        {
          "output_type": "display_data",
          "data": {
            "text/html": [
              "<pre>recommendations finished on 1000/1000 queries. users per second: 70502</pre>"
            ],
            "text/plain": [
              "recommendations finished on 1000/1000 queries. users per second: 70502"
            ]
          },
          "metadata": {
            "tags": []
          }
        },
        {
          "output_type": "stream",
          "text": [
            "+------------+-----------+----------------------+------+\n",
            "| customerId | productId |        score         | rank |\n",
            "+------------+-----------+----------------------+------+\n",
            "|    1553    |     2     | 0.10592188835144042  |  1   |\n",
            "|    1553    |     1     | 0.10348175764083863  |  2   |\n",
            "|    1553    |     35    | 0.07407552003860474  |  3   |\n",
            "|    1553    |     33    |  0.0668614387512207  |  4   |\n",
            "|    1553    |     61    | 0.060317397117614746 |  5   |\n",
            "|    1553    |     15    | 0.05949603319168091  |  6   |\n",
            "|    1553    |     20    | 0.05683724880218506  |  7   |\n",
            "|    1553    |     29    | 0.05509240627288818  |  8   |\n",
            "|    1553    |     13    | 0.05373532772064209  |  9   |\n",
            "|    1553    |     11    | 0.050322222709655764 |  10  |\n",
            "|   20400    |     26    | 0.05812269449234009  |  1   |\n",
            "|   20400    |     6     | 0.05361741781234741  |  2   |\n",
            "|   20400    |    113    | 0.05312788486480713  |  3   |\n",
            "|   20400    |     1     | 0.05210459232330322  |  4   |\n",
            "|   20400    |     15    | 0.047683894634246826 |  5   |\n",
            "|   20400    |     27    | 0.044673383235931396 |  6   |\n",
            "|   20400    |     13    | 0.04383981227874756  |  7   |\n",
            "|   20400    |    246    | 0.04373115301132202  |  8   |\n",
            "|   20400    |    160    | 0.04251152276992798  |  9   |\n",
            "|   20400    |     4     | 0.04242873191833496  |  10  |\n",
            "|   19750    |     36    | 0.12405195832252502  |  1   |\n",
            "|   19750    |     48    | 0.12334879239400227  |  2   |\n",
            "|   19750    |     38    |  0.1118616263071696  |  3   |\n",
            "|   19750    |     79    | 0.10431413849194844  |  4   |\n",
            "|   19750    |     1     |  0.1038620372613271  |  5   |\n",
            "|   19750    |     2     | 0.07453847924868266  |  6   |\n",
            "|   19750    |    194    | 0.061924477418263756 |  7   |\n",
            "|   19750    |     21    | 0.060992548863093056 |  8   |\n",
            "|   19750    |     33    | 0.060228586196899414 |  9   |\n",
            "|   19750    |     5     | 0.059651424487431846 |  10  |\n",
            "+------------+-----------+----------------------+------+\n",
            "[10000 rows x 4 columns]\n",
            "\n"
          ],
          "name": "stdout"
        }
      ]
    },
    {
      "cell_type": "code",
      "metadata": {
        "id": "UqhxaCtL-zaN",
        "colab_type": "code",
        "colab": {
          "base_uri": "https://localhost:8080/",
          "height": 212
        },
        "outputId": "56d19eef-5a63-4a99-ddd3-f2c951fc41da"
      },
      "source": [
        "df_rec = recom.to_dataframe()\n",
        "print(df_rec.shape)\n",
        "df_rec.head()"
      ],
      "execution_count": 47,
      "outputs": [
        {
          "output_type": "stream",
          "text": [
            "(10000, 4)\n"
          ],
          "name": "stdout"
        },
        {
          "output_type": "execute_result",
          "data": {
            "text/html": [
              "<div>\n",
              "<style scoped>\n",
              "    .dataframe tbody tr th:only-of-type {\n",
              "        vertical-align: middle;\n",
              "    }\n",
              "\n",
              "    .dataframe tbody tr th {\n",
              "        vertical-align: top;\n",
              "    }\n",
              "\n",
              "    .dataframe thead th {\n",
              "        text-align: right;\n",
              "    }\n",
              "</style>\n",
              "<table border=\"1\" class=\"dataframe\">\n",
              "  <thead>\n",
              "    <tr style=\"text-align: right;\">\n",
              "      <th></th>\n",
              "      <th>customerId</th>\n",
              "      <th>productId</th>\n",
              "      <th>score</th>\n",
              "      <th>rank</th>\n",
              "    </tr>\n",
              "  </thead>\n",
              "  <tbody>\n",
              "    <tr>\n",
              "      <th>0</th>\n",
              "      <td>1553</td>\n",
              "      <td>2</td>\n",
              "      <td>0.105922</td>\n",
              "      <td>1</td>\n",
              "    </tr>\n",
              "    <tr>\n",
              "      <th>1</th>\n",
              "      <td>1553</td>\n",
              "      <td>1</td>\n",
              "      <td>0.103482</td>\n",
              "      <td>2</td>\n",
              "    </tr>\n",
              "    <tr>\n",
              "      <th>2</th>\n",
              "      <td>1553</td>\n",
              "      <td>35</td>\n",
              "      <td>0.074076</td>\n",
              "      <td>3</td>\n",
              "    </tr>\n",
              "    <tr>\n",
              "      <th>3</th>\n",
              "      <td>1553</td>\n",
              "      <td>33</td>\n",
              "      <td>0.066861</td>\n",
              "      <td>4</td>\n",
              "    </tr>\n",
              "    <tr>\n",
              "      <th>4</th>\n",
              "      <td>1553</td>\n",
              "      <td>61</td>\n",
              "      <td>0.060317</td>\n",
              "      <td>5</td>\n",
              "    </tr>\n",
              "  </tbody>\n",
              "</table>\n",
              "</div>"
            ],
            "text/plain": [
              "   customerId  productId     score  rank\n",
              "0        1553          2  0.105922     1\n",
              "1        1553          1  0.103482     2\n",
              "2        1553         35  0.074076     3\n",
              "3        1553         33  0.066861     4\n",
              "4        1553         61  0.060317     5"
            ]
          },
          "metadata": {
            "tags": []
          },
          "execution_count": 47
        }
      ]
    },
    {
      "cell_type": "code",
      "metadata": {
        "id": "d4ls8kXh-7L_",
        "colab_type": "code",
        "colab": {}
      },
      "source": [
        "df_rec['recommendedProducts'] = df_rec.groupby([user_id])[item_id].transform(lambda x: '|'.join(x.astype(str)))\n",
        "df_output = df_rec[['customerId', 'recommendedProducts']].drop_duplicates().sort_values('customerId').set_index('customerId')"
      ],
      "execution_count": 0,
      "outputs": []
    },
    {
      "cell_type": "code",
      "metadata": {
        "id": "PCR8tHz5_roo",
        "colab_type": "code",
        "colab": {}
      },
      "source": [
        "def create_output(model, users_to_recommend, n_rec, print_csv=True):\n",
        "    recomendation = model.recommend(users=users_to_recommend, k=n_rec)\n",
        "    df_rec = recomendation.to_dataframe()\n",
        "    df_rec['recommendedProducts'] = df_rec.groupby([user_id])[item_id] \\\n",
        "        .transform(lambda x: '|'.join(x.astype(str)))\n",
        "    df_output = df_rec[['customerId', 'recommendedProducts']].drop_duplicates() \\\n",
        "        .sort_values('customerId').set_index('customerId')\n",
        "    if print_csv:\n",
        "        df_output.to_csv('/content/option1_recommendation.csv')\n",
        "        print(\"An output file can be found in 'output' folder with name 'option1_recommendation.csv'\")\n",
        "    return df_output"
      ],
      "execution_count": 0,
      "outputs": []
    },
    {
      "cell_type": "code",
      "metadata": {
        "id": "Q3CQt15H_x3h",
        "colab_type": "code",
        "colab": {
          "base_uri": "https://localhost:8080/",
          "height": 275
        },
        "outputId": "9a2dc72d-3377-4503-88c3-f7b0be2eda94"
      },
      "source": [
        "df_output = create_output(pear_norm, users_to_recommend, n_rec,print_csv=True)\n",
        "print(df_output.shape)\n",
        "df_output.head()"
      ],
      "execution_count": 56,
      "outputs": [
        {
          "output_type": "display_data",
          "data": {
            "text/html": [
              "<pre>recommendations finished on 1000/1000 queries. users per second: 73871.6</pre>"
            ],
            "text/plain": [
              "recommendations finished on 1000/1000 queries. users per second: 73871.6"
            ]
          },
          "metadata": {
            "tags": []
          }
        },
        {
          "output_type": "stream",
          "text": [
            "An output file can be found in 'output' folder with name 'option1_recommendation.csv'\n",
            "(1000, 1)\n"
          ],
          "name": "stdout"
        },
        {
          "output_type": "execute_result",
          "data": {
            "text/html": [
              "<div>\n",
              "<style scoped>\n",
              "    .dataframe tbody tr th:only-of-type {\n",
              "        vertical-align: middle;\n",
              "    }\n",
              "\n",
              "    .dataframe tbody tr th {\n",
              "        vertical-align: top;\n",
              "    }\n",
              "\n",
              "    .dataframe thead th {\n",
              "        text-align: right;\n",
              "    }\n",
              "</style>\n",
              "<table border=\"1\" class=\"dataframe\">\n",
              "  <thead>\n",
              "    <tr style=\"text-align: right;\">\n",
              "      <th></th>\n",
              "      <th>recommendedProducts</th>\n",
              "    </tr>\n",
              "    <tr>\n",
              "      <th>customerId</th>\n",
              "      <th></th>\n",
              "    </tr>\n",
              "  </thead>\n",
              "  <tbody>\n",
              "    <tr>\n",
              "      <th>4</th>\n",
              "      <td>226|247|230|248|125|294|276|204|155|72</td>\n",
              "    </tr>\n",
              "    <tr>\n",
              "      <th>11</th>\n",
              "      <td>226|247|230|248|125|294|276|204|155|165</td>\n",
              "    </tr>\n",
              "    <tr>\n",
              "      <th>12</th>\n",
              "      <td>226|247|230|248|125|294|276|204|155|72</td>\n",
              "    </tr>\n",
              "    <tr>\n",
              "      <th>16</th>\n",
              "      <td>226|247|230|248|125|294|276|204|155|72</td>\n",
              "    </tr>\n",
              "    <tr>\n",
              "      <th>21</th>\n",
              "      <td>226|247|230|248|125|294|276|204|155|72</td>\n",
              "    </tr>\n",
              "  </tbody>\n",
              "</table>\n",
              "</div>"
            ],
            "text/plain": [
              "                                recommendedProducts\n",
              "customerId                                         \n",
              "4            226|247|230|248|125|294|276|204|155|72\n",
              "11          226|247|230|248|125|294|276|204|155|165\n",
              "12           226|247|230|248|125|294|276|204|155|72\n",
              "16           226|247|230|248|125|294|276|204|155|72\n",
              "21           226|247|230|248|125|294|276|204|155|72"
            ]
          },
          "metadata": {
            "tags": []
          },
          "execution_count": 56
        }
      ]
    },
    {
      "cell_type": "markdown",
      "metadata": {
        "id": "wTHlNhWgApuu",
        "colab_type": "text"
      },
      "source": [
        "#Customer recommendation function"
      ]
    },
    {
      "cell_type": "code",
      "metadata": {
        "id": "VIzLUXp8_1-A",
        "colab_type": "code",
        "colab": {}
      },
      "source": [
        "def customer_recomendation(customer_id):\n",
        "    if customer_id not in df_output.index:\n",
        "        print('Customer not found.')\n",
        "        return customer_id\n",
        "    return df_output.loc[customer_id]"
      ],
      "execution_count": 0,
      "outputs": []
    },
    {
      "cell_type": "code",
      "metadata": {
        "id": "NXLr1FnfAunv",
        "colab_type": "code",
        "colab": {
          "base_uri": "https://localhost:8080/",
          "height": 50
        },
        "outputId": "f9cfb339-0202-4550-9ced-680ab1250689"
      },
      "source": [
        "customer_recomendation(4)"
      ],
      "execution_count": 58,
      "outputs": [
        {
          "output_type": "execute_result",
          "data": {
            "text/plain": [
              "recommendedProducts    226|247|230|248|125|294|276|204|155|72\n",
              "Name: 4, dtype: object"
            ]
          },
          "metadata": {
            "tags": []
          },
          "execution_count": 58
        }
      ]
    },
    {
      "cell_type": "code",
      "metadata": {
        "id": "5VSuqnuRAxKW",
        "colab_type": "code",
        "colab": {
          "base_uri": "https://localhost:8080/",
          "height": 50
        },
        "outputId": "edfa0cc0-4157-491b-9d71-37e9ab65142d"
      },
      "source": [
        "customer_recomendation(16)"
      ],
      "execution_count": 70,
      "outputs": [
        {
          "output_type": "execute_result",
          "data": {
            "text/plain": [
              "recommendedProducts    226|247|230|248|125|294|276|204|155|72\n",
              "Name: 16, dtype: object"
            ]
          },
          "metadata": {
            "tags": []
          },
          "execution_count": 70
        }
      ]
    },
    {
      "cell_type": "markdown",
      "metadata": {
        "id": "PiYOM7FPBK9_",
        "colab_type": "text"
      },
      "source": [
        "Summary\n",
        "\n",
        "In this exercise, we were able to traverse a step-by-step process for making recommendations to customers. We used Collaborative Filtering approaches with cosine and pearson measure and compare the models with our baseline popularity model. We also prepared three sets of data that include regular buying count, buying dummy, as well as normalized purchase frequency as our target variable. Using RMSE, precision and recall, we evaluated our models and observed the impact of personalization. Finally, we selected the Cosine approach in dummy purchase data."
      ]
    },
    {
      "cell_type": "code",
      "metadata": {
        "id": "fnL7iz2SA1oc",
        "colab_type": "code",
        "colab": {}
      },
      "source": [
        ""
      ],
      "execution_count": 0,
      "outputs": []
    }
  ]
}